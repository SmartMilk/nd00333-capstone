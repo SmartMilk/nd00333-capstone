{
  "cells": [
    {
      "cell_type": "markdown",
      "metadata": {},
      "source": [
        "# Automated ML"
      ]
    },
    {
      "cell_type": "markdown",
      "metadata": {
        "nteract": {
          "transient": {
            "deleting": false
          }
        }
      },
      "source": [
        "## Required Packages"
      ]
    },
    {
      "cell_type": "code",
      "execution_count": 1,
      "metadata": {
        "gather": {
          "logged": 1675441659080
        },
        "jupyter": {
          "outputs_hidden": false,
          "source_hidden": false
        },
        "nteract": {
          "transient": {
            "deleting": false
          }
        }
      },
      "outputs": [],
      "source": [
        "import pandas as pd \n",
        "import numpy as np \n",
        "import requests\n",
        "import csv\n",
        "import os\n",
        "import json\n",
        "\n",
        "import azureml.core\n",
        "from azureml.core.experiment import Experiment\n",
        "from azureml.core.workspace import Workspace\n",
        "from azureml.train.automl import AutoMLConfig\n",
        "from azureml.core.dataset import Dataset\n",
        "\n",
        "from azureml.pipeline.steps import AutoMLStep\n"
      ]
    },
    {
      "attachments": {},
      "cell_type": "markdown",
      "metadata": {},
      "source": [
        "# Initialize Workspace"
      ]
    },
    {
      "cell_type": "code",
      "execution_count": 2,
      "metadata": {
        "gather": {
          "logged": 1674810353695
        }
      },
      "outputs": [
        {
          "name": "stdout",
          "output_type": "stream",
          "text": [
            "mlops-udacity-ws\n",
            "mlops-udacity-rg\n",
            "uksouth\n",
            "36cd5b29-0f0b-4505-8ed0-2c1f142e8de3\n"
          ]
        }
      ],
      "source": [
        "ws = Workspace.from_config()\n",
        "print(ws.name, ws.resource_group, ws.location, ws.subscription_id, sep = '\\n')"
      ]
    },
    {
      "attachments": {},
      "cell_type": "markdown",
      "metadata": {},
      "source": [
        "## Dataset\n",
        "\n",
        "### Overview\n",
        "TODO: In this markdown cell, give an overview of the dataset you are using. Also mention the task you will be performing.\n",
        "\n",
        "We are using the salary dataset (Census Income dataset) which is going to be extracted from a Kaggle dataset. For more details on the dataset, please refer to the readme. Once the dataset is cleaned, it will then be prepared to be used in the AutoML model, which will select the best fitting model for the dataset based on a proprietary algorithm. \n"
      ]
    },
    {
      "cell_type": "code",
      "execution_count": 3,
      "metadata": {
        "gather": {
          "logged": 1674810376297
        }
      },
      "outputs": [],
      "source": [
        "f = open('kaggle.json')\n",
        "\n",
        "kaggle_cred = json.load(f)\n",
        "\n",
        "username = kaggle_cred['username']\n",
        "key = kaggle_cred['key']\n",
        "\n",
        "os.environ['KAGGLE_USERNAME'] = username\n",
        "os.environ['KAGGLE_KEY'] = key\n",
        "\n",
        "from kaggle.api.kaggle_api_extended import KaggleApi #do not move import line\n",
        "\n",
        "api = KaggleApi()\n",
        "api.authenticate()\n",
        "\n",
        "api.dataset_download_file('ayessa/salary-prediction-classification', 'salary.csv')\n",
        "\n",
        "#Unzip file\n",
        "\n",
        "import zipfile\n",
        "with zipfile.ZipFile('salary.csv.zip', 'r') as zip_ref:\n",
        "    zip_ref.extractall('.')\n"
      ]
    },
    {
      "cell_type": "markdown",
      "metadata": {
        "nteract": {
          "transient": {
            "deleting": false
          }
        }
      },
      "source": [
        "# Dataset Cleaning"
      ]
    },
    {
      "cell_type": "code",
      "execution_count": 113,
      "metadata": {
        "gather": {
          "logged": 1674912685659
        },
        "jupyter": {
          "outputs_hidden": false,
          "source_hidden": false
        },
        "nteract": {
          "transient": {
            "deleting": false
          }
        }
      },
      "outputs": [
        {
          "data": {
            "text/html": [
              "<div>\n",
              "<style scoped>\n",
              "    .dataframe tbody tr th:only-of-type {\n",
              "        vertical-align: middle;\n",
              "    }\n",
              "\n",
              "    .dataframe tbody tr th {\n",
              "        vertical-align: top;\n",
              "    }\n",
              "\n",
              "    .dataframe thead th {\n",
              "        text-align: right;\n",
              "    }\n",
              "</style>\n",
              "<table border=\"1\" class=\"dataframe\">\n",
              "  <thead>\n",
              "    <tr style=\"text-align: right;\">\n",
              "      <th></th>\n",
              "      <th>age</th>\n",
              "      <th>workclass</th>\n",
              "      <th>fnlwgt</th>\n",
              "      <th>education</th>\n",
              "      <th>education-num</th>\n",
              "      <th>marital-status</th>\n",
              "      <th>occupation</th>\n",
              "      <th>relationship</th>\n",
              "      <th>race</th>\n",
              "      <th>sex</th>\n",
              "      <th>capital-gain</th>\n",
              "      <th>capital-loss</th>\n",
              "      <th>hours-per-week</th>\n",
              "      <th>native-country</th>\n",
              "      <th>salary</th>\n",
              "    </tr>\n",
              "  </thead>\n",
              "  <tbody>\n",
              "    <tr>\n",
              "      <th>0</th>\n",
              "      <td>39</td>\n",
              "      <td>State-gov</td>\n",
              "      <td>77516</td>\n",
              "      <td>Bachelors</td>\n",
              "      <td>13</td>\n",
              "      <td>Never-married</td>\n",
              "      <td>Adm-clerical</td>\n",
              "      <td>Not-in-family</td>\n",
              "      <td>White</td>\n",
              "      <td>Male</td>\n",
              "      <td>2174</td>\n",
              "      <td>0</td>\n",
              "      <td>40</td>\n",
              "      <td>United-States</td>\n",
              "      <td>&lt;=50K</td>\n",
              "    </tr>\n",
              "    <tr>\n",
              "      <th>1</th>\n",
              "      <td>50</td>\n",
              "      <td>Self-emp-not-inc</td>\n",
              "      <td>83311</td>\n",
              "      <td>Bachelors</td>\n",
              "      <td>13</td>\n",
              "      <td>Married-civ-spouse</td>\n",
              "      <td>Exec-managerial</td>\n",
              "      <td>Husband</td>\n",
              "      <td>White</td>\n",
              "      <td>Male</td>\n",
              "      <td>0</td>\n",
              "      <td>0</td>\n",
              "      <td>13</td>\n",
              "      <td>United-States</td>\n",
              "      <td>&lt;=50K</td>\n",
              "    </tr>\n",
              "    <tr>\n",
              "      <th>2</th>\n",
              "      <td>38</td>\n",
              "      <td>Private</td>\n",
              "      <td>215646</td>\n",
              "      <td>HS-grad</td>\n",
              "      <td>9</td>\n",
              "      <td>Divorced</td>\n",
              "      <td>Handlers-cleaners</td>\n",
              "      <td>Not-in-family</td>\n",
              "      <td>White</td>\n",
              "      <td>Male</td>\n",
              "      <td>0</td>\n",
              "      <td>0</td>\n",
              "      <td>40</td>\n",
              "      <td>United-States</td>\n",
              "      <td>&lt;=50K</td>\n",
              "    </tr>\n",
              "    <tr>\n",
              "      <th>3</th>\n",
              "      <td>53</td>\n",
              "      <td>Private</td>\n",
              "      <td>234721</td>\n",
              "      <td>11th</td>\n",
              "      <td>7</td>\n",
              "      <td>Married-civ-spouse</td>\n",
              "      <td>Handlers-cleaners</td>\n",
              "      <td>Husband</td>\n",
              "      <td>Black</td>\n",
              "      <td>Male</td>\n",
              "      <td>0</td>\n",
              "      <td>0</td>\n",
              "      <td>40</td>\n",
              "      <td>United-States</td>\n",
              "      <td>&lt;=50K</td>\n",
              "    </tr>\n",
              "    <tr>\n",
              "      <th>4</th>\n",
              "      <td>28</td>\n",
              "      <td>Private</td>\n",
              "      <td>338409</td>\n",
              "      <td>Bachelors</td>\n",
              "      <td>13</td>\n",
              "      <td>Married-civ-spouse</td>\n",
              "      <td>Prof-specialty</td>\n",
              "      <td>Wife</td>\n",
              "      <td>Black</td>\n",
              "      <td>Female</td>\n",
              "      <td>0</td>\n",
              "      <td>0</td>\n",
              "      <td>40</td>\n",
              "      <td>Cuba</td>\n",
              "      <td>&lt;=50K</td>\n",
              "    </tr>\n",
              "  </tbody>\n",
              "</table>\n",
              "</div>"
            ],
            "text/plain": [
              "   age          workclass  fnlwgt   education  education-num  \\\n",
              "0   39          State-gov   77516   Bachelors             13   \n",
              "1   50   Self-emp-not-inc   83311   Bachelors             13   \n",
              "2   38            Private  215646     HS-grad              9   \n",
              "3   53            Private  234721        11th              7   \n",
              "4   28            Private  338409   Bachelors             13   \n",
              "\n",
              "        marital-status          occupation    relationship    race      sex  \\\n",
              "0        Never-married        Adm-clerical   Not-in-family   White     Male   \n",
              "1   Married-civ-spouse     Exec-managerial         Husband   White     Male   \n",
              "2             Divorced   Handlers-cleaners   Not-in-family   White     Male   \n",
              "3   Married-civ-spouse   Handlers-cleaners         Husband   Black     Male   \n",
              "4   Married-civ-spouse      Prof-specialty            Wife   Black   Female   \n",
              "\n",
              "   capital-gain  capital-loss  hours-per-week  native-country  salary  \n",
              "0          2174             0              40   United-States   <=50K  \n",
              "1             0             0              13   United-States   <=50K  \n",
              "2             0             0              40   United-States   <=50K  \n",
              "3             0             0              40   United-States   <=50K  \n",
              "4             0             0              40            Cuba   <=50K  "
            ]
          },
          "execution_count": 113,
          "metadata": {},
          "output_type": "execute_result"
        }
      ],
      "source": [
        "df = pd.read_csv('salary.csv')\n",
        "df.head()"
      ]
    },
    {
      "cell_type": "markdown",
      "metadata": {
        "nteract": {
          "transient": {
            "deleting": false
          }
        }
      },
      "source": [
        "The dataset has been prior explored by Nikita Verma in this medium article:  https://medium.com/analytics-vidhya/machine-learning-application-census-income-prediction-868227debf12\n",
        "\n",
        "As EDA is not the focus of the project/course, I've repeated most of the key steps taken by the article (with a few deviations) in a concise format to prepare the dataset for AutoML/Hyperdrive (with random checks to ensure steps are consistent). \n",
        "\n",
        "The dataset is prepared in the following order:\n",
        "\n",
        "1. For all categorical variables, replace missing values ('?') with the mode categorical value for that particular variable\n",
        "2. Remove 'education_num' as a parameter as we will be using a different encoding system for education \n",
        "3. For 'workclass' variable, merge 'Never-worked' into 'Without-pay' | merge 'State-gov' and 'Local-gov' into new descriptor 'Gov' | merge 'Self-emp-inc' into 'Private'\n",
        "4. For 'education' variable, merge 'Prof-school' into 'Doctorate' descriptior | merge 'Assoc-acdm' and 'Assoc-voc' into new descriptor 'Assoc'  \n",
        "5. For 'marital-status' variable, merge 'Married-Civ-Spouse' and 'Married-AF-Spouse' into new descriptor 'Married-with-spouse' | merge 'Separated', 'Divorced', 'Widowed' and 'Married-spouse-absent' into new descriptor 'No-spouse'\n",
        "6. For 'relationship' variable, merge 'Not-in-family', 'Own-child', 'Unmarried' and 'Other-relative' into new descriptor 'Other' (based on similar distributions for salary)\n",
        "7. For 'race' variable, merge 'Amer-Indian-Eskimo', 'Other' into existing 'Others' descriptor\n",
        "8. Label encode the categorical variables. While one hot is typically preferred for non-ordinal variables (of which all categorical variables in the dataset apply as), one hot encoding introduces around 90 additional parameters into the dataset. This hampers the ability to interpret the model in terms of featurization and can lead to exponential computational costs for hyperparameter tuning and autoML. \n",
        "9. Continuous variables with skewed distributions: 'fnlwgt', 'capital_gain' and 'capital_loss', treated with square-root transform, cube-root transform and cube-root transform respectively\n",
        "\n",
        "Normalization is not performed as AutoML handles this process automatically. "
      ]
    },
    {
      "cell_type": "markdown",
      "metadata": {
        "nteract": {
          "transient": {
            "deleting": false
          }
        }
      },
      "source": [
        "### Step 1: Missing category fix"
      ]
    },
    {
      "cell_type": "code",
      "execution_count": 114,
      "metadata": {
        "gather": {
          "logged": 1674912688723
        },
        "jupyter": {
          "outputs_hidden": false,
          "source_hidden": false
        },
        "nteract": {
          "transient": {
            "deleting": false
          }
        }
      },
      "outputs": [],
      "source": [
        "from statistics import mode\n",
        "workclass_mode = mode(df['workclass'])\n",
        "occupation_mode = mode(df['occupation'])\n",
        "country_mode = mode(df['native-country'])\n",
        "\n",
        "df['workclass'] = df['workclass'].str.replace('?', str(workclass_mode), regex=True)\n",
        "df['occupation'] = df['occupation'].str.replace('?', str(occupation_mode), regex=True)\n",
        "df['native-country'] = df['native-country'].str.replace('?', str(country_mode), regex=True)"
      ]
    },
    {
      "cell_type": "markdown",
      "metadata": {
        "nteract": {
          "transient": {
            "deleting": false
          }
        }
      },
      "source": [
        "### Step 2: Remove Education parameter\n"
      ]
    },
    {
      "cell_type": "code",
      "execution_count": 115,
      "metadata": {
        "gather": {
          "logged": 1674912690838
        },
        "jupyter": {
          "outputs_hidden": false,
          "source_hidden": false
        },
        "nteract": {
          "transient": {
            "deleting": false
          }
        }
      },
      "outputs": [
        {
          "data": {
            "text/html": [
              "<div>\n",
              "<style scoped>\n",
              "    .dataframe tbody tr th:only-of-type {\n",
              "        vertical-align: middle;\n",
              "    }\n",
              "\n",
              "    .dataframe tbody tr th {\n",
              "        vertical-align: top;\n",
              "    }\n",
              "\n",
              "    .dataframe thead th {\n",
              "        text-align: right;\n",
              "    }\n",
              "</style>\n",
              "<table border=\"1\" class=\"dataframe\">\n",
              "  <thead>\n",
              "    <tr style=\"text-align: right;\">\n",
              "      <th></th>\n",
              "      <th>age</th>\n",
              "      <th>workclass</th>\n",
              "      <th>fnlwgt</th>\n",
              "      <th>education</th>\n",
              "      <th>marital-status</th>\n",
              "      <th>occupation</th>\n",
              "      <th>relationship</th>\n",
              "      <th>race</th>\n",
              "      <th>sex</th>\n",
              "      <th>capital-gain</th>\n",
              "      <th>capital-loss</th>\n",
              "      <th>hours-per-week</th>\n",
              "      <th>native-country</th>\n",
              "      <th>salary</th>\n",
              "    </tr>\n",
              "  </thead>\n",
              "  <tbody>\n",
              "    <tr>\n",
              "      <th>0</th>\n",
              "      <td>39</td>\n",
              "      <td>State-gov</td>\n",
              "      <td>77516</td>\n",
              "      <td>Bachelors</td>\n",
              "      <td>Never-married</td>\n",
              "      <td>Adm-clerical</td>\n",
              "      <td>Not-in-family</td>\n",
              "      <td>White</td>\n",
              "      <td>Male</td>\n",
              "      <td>2174</td>\n",
              "      <td>0</td>\n",
              "      <td>40</td>\n",
              "      <td>United-States</td>\n",
              "      <td>&lt;=50K</td>\n",
              "    </tr>\n",
              "    <tr>\n",
              "      <th>1</th>\n",
              "      <td>50</td>\n",
              "      <td>Self-emp-not-inc</td>\n",
              "      <td>83311</td>\n",
              "      <td>Bachelors</td>\n",
              "      <td>Married-civ-spouse</td>\n",
              "      <td>Exec-managerial</td>\n",
              "      <td>Husband</td>\n",
              "      <td>White</td>\n",
              "      <td>Male</td>\n",
              "      <td>0</td>\n",
              "      <td>0</td>\n",
              "      <td>13</td>\n",
              "      <td>United-States</td>\n",
              "      <td>&lt;=50K</td>\n",
              "    </tr>\n",
              "    <tr>\n",
              "      <th>2</th>\n",
              "      <td>38</td>\n",
              "      <td>Private</td>\n",
              "      <td>215646</td>\n",
              "      <td>HS-grad</td>\n",
              "      <td>Divorced</td>\n",
              "      <td>Handlers-cleaners</td>\n",
              "      <td>Not-in-family</td>\n",
              "      <td>White</td>\n",
              "      <td>Male</td>\n",
              "      <td>0</td>\n",
              "      <td>0</td>\n",
              "      <td>40</td>\n",
              "      <td>United-States</td>\n",
              "      <td>&lt;=50K</td>\n",
              "    </tr>\n",
              "    <tr>\n",
              "      <th>3</th>\n",
              "      <td>53</td>\n",
              "      <td>Private</td>\n",
              "      <td>234721</td>\n",
              "      <td>11th</td>\n",
              "      <td>Married-civ-spouse</td>\n",
              "      <td>Handlers-cleaners</td>\n",
              "      <td>Husband</td>\n",
              "      <td>Black</td>\n",
              "      <td>Male</td>\n",
              "      <td>0</td>\n",
              "      <td>0</td>\n",
              "      <td>40</td>\n",
              "      <td>United-States</td>\n",
              "      <td>&lt;=50K</td>\n",
              "    </tr>\n",
              "    <tr>\n",
              "      <th>4</th>\n",
              "      <td>28</td>\n",
              "      <td>Private</td>\n",
              "      <td>338409</td>\n",
              "      <td>Bachelors</td>\n",
              "      <td>Married-civ-spouse</td>\n",
              "      <td>Prof-specialty</td>\n",
              "      <td>Wife</td>\n",
              "      <td>Black</td>\n",
              "      <td>Female</td>\n",
              "      <td>0</td>\n",
              "      <td>0</td>\n",
              "      <td>40</td>\n",
              "      <td>Cuba</td>\n",
              "      <td>&lt;=50K</td>\n",
              "    </tr>\n",
              "  </tbody>\n",
              "</table>\n",
              "</div>"
            ],
            "text/plain": [
              "   age          workclass  fnlwgt   education       marital-status  \\\n",
              "0   39          State-gov   77516   Bachelors        Never-married   \n",
              "1   50   Self-emp-not-inc   83311   Bachelors   Married-civ-spouse   \n",
              "2   38            Private  215646     HS-grad             Divorced   \n",
              "3   53            Private  234721        11th   Married-civ-spouse   \n",
              "4   28            Private  338409   Bachelors   Married-civ-spouse   \n",
              "\n",
              "           occupation    relationship    race      sex  capital-gain  \\\n",
              "0        Adm-clerical   Not-in-family   White     Male          2174   \n",
              "1     Exec-managerial         Husband   White     Male             0   \n",
              "2   Handlers-cleaners   Not-in-family   White     Male             0   \n",
              "3   Handlers-cleaners         Husband   Black     Male             0   \n",
              "4      Prof-specialty            Wife   Black   Female             0   \n",
              "\n",
              "   capital-loss  hours-per-week  native-country  salary  \n",
              "0             0              40   United-States   <=50K  \n",
              "1             0              13   United-States   <=50K  \n",
              "2             0              40   United-States   <=50K  \n",
              "3             0              40   United-States   <=50K  \n",
              "4             0              40            Cuba   <=50K  "
            ]
          },
          "execution_count": 115,
          "metadata": {},
          "output_type": "execute_result"
        }
      ],
      "source": [
        "df = df.drop('education-num', axis = 'columns')\n",
        "df.head()"
      ]
    },
    {
      "cell_type": "markdown",
      "metadata": {
        "nteract": {
          "transient": {
            "deleting": false
          }
        }
      },
      "source": [
        "### Step 3-7: Categorical Variable Merging"
      ]
    },
    {
      "cell_type": "code",
      "execution_count": 116,
      "metadata": {
        "gather": {
          "logged": 1674912693266
        },
        "jupyter": {
          "outputs_hidden": false,
          "source_hidden": false
        },
        "nteract": {
          "transient": {
            "deleting": false
          }
        }
      },
      "outputs": [
        {
          "name": "stdout",
          "output_type": "stream",
          "text": [
            " Private             23812\n",
            " Gov                  3391\n",
            " Self-emp-not-inc     2541\n",
            "  Private             1836\n",
            " Federal-gov           960\n",
            " Without-pay            21\n",
            "Name: workclass, dtype: int64\n",
            "\n",
            "\n",
            " HS-grad         10501\n",
            " Some-college     7291\n",
            " Bachelors        5355\n",
            " Assoc            2449\n",
            " Masters          1723\n",
            " 11th             1175\n",
            " 10th              933\n",
            " 7th-8th           646\n",
            " Prof-school       576\n",
            " 9th               514\n",
            " 12th              433\n",
            " Doctorate         413\n",
            " 5th-6th           333\n",
            " 1st-4th           168\n",
            " Preschool          51\n",
            "Name: education, dtype: int64\n",
            "\n",
            "\n",
            " Married-with-spouse    14999\n",
            " Never-married          10683\n",
            " No-spouse               6879\n",
            "Name: marital-status, dtype: int64\n",
            "\n",
            "\n",
            " Other      17800\n",
            " Husband    13193\n",
            " Wife        1568\n",
            "Name: relationship, dtype: int64\n",
            "\n",
            "\n",
            " White                 27816\n",
            " Black                  3124\n",
            " Asian-Pac-Islander     1039\n",
            " Other                   582\n",
            "Name: race, dtype: int64\n"
          ]
        }
      ],
      "source": [
        "df['workclass'] = df['workclass'].replace('Never-worked', 'Without-pay', regex=True)\n",
        "df['workclass'] = df['workclass'].replace(to_replace=['State-gov', 'Local-gov'], value='Gov', regex=True)\n",
        "df['workclass'] = df['workclass'].replace('Self-emp-inc', 'Private', regex=True)\n",
        "\n",
        "df['education'] = df['education'].replace('Prof-school', 'Doctorate')\n",
        "df['education'] = df['education'].replace(to_replace=['Assoc-acdm','Assoc-voc'], value='Assoc', regex=True)\n",
        "\n",
        "df['marital-status'] = df['marital-status'].replace(to_replace=['Divorced','Widowed','Separated','Married-spouse-absent'], value='No-spouse', regex=True)\n",
        "df['marital-status'] = df['marital-status'].replace(to_replace=['Married-AF-spouse', 'Married-civ-spouse'], value='Married-with-spouse', regex=True)\n",
        "\n",
        "df['relationship'] = df['relationship'].replace(to_replace=['Not-in-family','Own-child','Unmarried','Other-relative'], value='Other', regex=True)\n",
        "\n",
        "df['race'] = df['race'].replace('Amer-Indian-Eskimo', 'Other', regex=True)\n",
        "\n",
        "#Sanity check:\n",
        "from IPython.core.interactiveshell import InteractiveShell\n",
        "InteractiveShell.ast_node_interactivity = 'all'\n",
        "\n",
        "print(df['workclass'].value_counts())\n",
        "print('\\n')\n",
        "print(df['education'].value_counts())\n",
        "print('\\n')\n",
        "print(df['marital-status'].value_counts())\n",
        "print('\\n')\n",
        "print(df['relationship'].value_counts())\n",
        "print('\\n')\n",
        "print(df['race'].value_counts())\n"
      ]
    },
    {
      "cell_type": "markdown",
      "metadata": {
        "nteract": {
          "transient": {
            "deleting": false
          }
        }
      },
      "source": [
        "### Pre-Step 8/9/10: Split Discrete and Continuous Variables"
      ]
    },
    {
      "cell_type": "code",
      "execution_count": 117,
      "metadata": {
        "gather": {
          "logged": 1674912696416
        },
        "jupyter": {
          "outputs_hidden": false,
          "source_hidden": false
        },
        "nteract": {
          "transient": {
            "deleting": false
          }
        }
      },
      "outputs": [
        {
          "data": {
            "text/html": [
              "<div>\n",
              "<style scoped>\n",
              "    .dataframe tbody tr th:only-of-type {\n",
              "        vertical-align: middle;\n",
              "    }\n",
              "\n",
              "    .dataframe tbody tr th {\n",
              "        vertical-align: top;\n",
              "    }\n",
              "\n",
              "    .dataframe thead th {\n",
              "        text-align: right;\n",
              "    }\n",
              "</style>\n",
              "<table border=\"1\" class=\"dataframe\">\n",
              "  <thead>\n",
              "    <tr style=\"text-align: right;\">\n",
              "      <th></th>\n",
              "      <th>age</th>\n",
              "      <th>fnlwgt</th>\n",
              "      <th>capital-gain</th>\n",
              "      <th>capital-loss</th>\n",
              "      <th>hours-per-week</th>\n",
              "    </tr>\n",
              "  </thead>\n",
              "  <tbody>\n",
              "    <tr>\n",
              "      <th>0</th>\n",
              "      <td>39</td>\n",
              "      <td>77516</td>\n",
              "      <td>2174</td>\n",
              "      <td>0</td>\n",
              "      <td>40</td>\n",
              "    </tr>\n",
              "    <tr>\n",
              "      <th>1</th>\n",
              "      <td>50</td>\n",
              "      <td>83311</td>\n",
              "      <td>0</td>\n",
              "      <td>0</td>\n",
              "      <td>13</td>\n",
              "    </tr>\n",
              "    <tr>\n",
              "      <th>2</th>\n",
              "      <td>38</td>\n",
              "      <td>215646</td>\n",
              "      <td>0</td>\n",
              "      <td>0</td>\n",
              "      <td>40</td>\n",
              "    </tr>\n",
              "    <tr>\n",
              "      <th>3</th>\n",
              "      <td>53</td>\n",
              "      <td>234721</td>\n",
              "      <td>0</td>\n",
              "      <td>0</td>\n",
              "      <td>40</td>\n",
              "    </tr>\n",
              "    <tr>\n",
              "      <th>4</th>\n",
              "      <td>28</td>\n",
              "      <td>338409</td>\n",
              "      <td>0</td>\n",
              "      <td>0</td>\n",
              "      <td>40</td>\n",
              "    </tr>\n",
              "  </tbody>\n",
              "</table>\n",
              "</div>"
            ],
            "text/plain": [
              "   age  fnlwgt  capital-gain  capital-loss  hours-per-week\n",
              "0   39   77516          2174             0              40\n",
              "1   50   83311             0             0              13\n",
              "2   38  215646             0             0              40\n",
              "3   53  234721             0             0              40\n",
              "4   28  338409             0             0              40"
            ]
          },
          "execution_count": 117,
          "metadata": {},
          "output_type": "execute_result"
        },
        {
          "data": {
            "text/html": [
              "<div>\n",
              "<style scoped>\n",
              "    .dataframe tbody tr th:only-of-type {\n",
              "        vertical-align: middle;\n",
              "    }\n",
              "\n",
              "    .dataframe tbody tr th {\n",
              "        vertical-align: top;\n",
              "    }\n",
              "\n",
              "    .dataframe thead th {\n",
              "        text-align: right;\n",
              "    }\n",
              "</style>\n",
              "<table border=\"1\" class=\"dataframe\">\n",
              "  <thead>\n",
              "    <tr style=\"text-align: right;\">\n",
              "      <th></th>\n",
              "      <th>workclass</th>\n",
              "      <th>education</th>\n",
              "      <th>marital-status</th>\n",
              "      <th>occupation</th>\n",
              "      <th>relationship</th>\n",
              "      <th>race</th>\n",
              "      <th>sex</th>\n",
              "      <th>native-country</th>\n",
              "      <th>salary</th>\n",
              "    </tr>\n",
              "  </thead>\n",
              "  <tbody>\n",
              "    <tr>\n",
              "      <th>0</th>\n",
              "      <td>Gov</td>\n",
              "      <td>Bachelors</td>\n",
              "      <td>Never-married</td>\n",
              "      <td>Adm-clerical</td>\n",
              "      <td>Other</td>\n",
              "      <td>White</td>\n",
              "      <td>Male</td>\n",
              "      <td>United-States</td>\n",
              "      <td>&lt;=50K</td>\n",
              "    </tr>\n",
              "    <tr>\n",
              "      <th>1</th>\n",
              "      <td>Self-emp-not-inc</td>\n",
              "      <td>Bachelors</td>\n",
              "      <td>Married-with-spouse</td>\n",
              "      <td>Exec-managerial</td>\n",
              "      <td>Husband</td>\n",
              "      <td>White</td>\n",
              "      <td>Male</td>\n",
              "      <td>United-States</td>\n",
              "      <td>&lt;=50K</td>\n",
              "    </tr>\n",
              "    <tr>\n",
              "      <th>2</th>\n",
              "      <td>Private</td>\n",
              "      <td>HS-grad</td>\n",
              "      <td>No-spouse</td>\n",
              "      <td>Handlers-cleaners</td>\n",
              "      <td>Other</td>\n",
              "      <td>White</td>\n",
              "      <td>Male</td>\n",
              "      <td>United-States</td>\n",
              "      <td>&lt;=50K</td>\n",
              "    </tr>\n",
              "    <tr>\n",
              "      <th>3</th>\n",
              "      <td>Private</td>\n",
              "      <td>11th</td>\n",
              "      <td>Married-with-spouse</td>\n",
              "      <td>Handlers-cleaners</td>\n",
              "      <td>Husband</td>\n",
              "      <td>Black</td>\n",
              "      <td>Male</td>\n",
              "      <td>United-States</td>\n",
              "      <td>&lt;=50K</td>\n",
              "    </tr>\n",
              "    <tr>\n",
              "      <th>4</th>\n",
              "      <td>Private</td>\n",
              "      <td>Bachelors</td>\n",
              "      <td>Married-with-spouse</td>\n",
              "      <td>Prof-specialty</td>\n",
              "      <td>Wife</td>\n",
              "      <td>Black</td>\n",
              "      <td>Female</td>\n",
              "      <td>Cuba</td>\n",
              "      <td>&lt;=50K</td>\n",
              "    </tr>\n",
              "  </tbody>\n",
              "</table>\n",
              "</div>"
            ],
            "text/plain": [
              "           workclass   education        marital-status          occupation  \\\n",
              "0                Gov   Bachelors         Never-married        Adm-clerical   \n",
              "1   Self-emp-not-inc   Bachelors   Married-with-spouse     Exec-managerial   \n",
              "2            Private     HS-grad             No-spouse   Handlers-cleaners   \n",
              "3            Private        11th   Married-with-spouse   Handlers-cleaners   \n",
              "4            Private   Bachelors   Married-with-spouse      Prof-specialty   \n",
              "\n",
              "  relationship    race      sex  native-country  salary  \n",
              "0        Other   White     Male   United-States   <=50K  \n",
              "1      Husband   White     Male   United-States   <=50K  \n",
              "2        Other   White     Male   United-States   <=50K  \n",
              "3      Husband   Black     Male   United-States   <=50K  \n",
              "4         Wife   Black   Female            Cuba   <=50K  "
            ]
          },
          "execution_count": 117,
          "metadata": {},
          "output_type": "execute_result"
        }
      ],
      "source": [
        "#Split dataset into continuous and discrete variables:\n",
        "c_cols = [0, 2, 9, 10, 11]\n",
        "d_cols = [1, 3, 4, 5, 6, 7, 8, 12, 13]\n",
        "df_c = df[df.columns[c_cols]]\n",
        "df_d = df[df.columns[d_cols]]\n",
        "\n",
        "df_c.head()\n",
        "df_d.head()"
      ]
    },
    {
      "cell_type": "markdown",
      "metadata": {
        "nteract": {
          "transient": {
            "deleting": false
          }
        }
      },
      "source": [
        "### Step 8: Label Encoding"
      ]
    },
    {
      "cell_type": "code",
      "execution_count": 118,
      "metadata": {
        "gather": {
          "logged": 1674912698887
        },
        "jupyter": {
          "outputs_hidden": false,
          "source_hidden": false
        },
        "nteract": {
          "transient": {
            "deleting": false
          }
        }
      },
      "outputs": [
        {
          "data": {
            "text/html": [
              "<div>\n",
              "<style scoped>\n",
              "    .dataframe tbody tr th:only-of-type {\n",
              "        vertical-align: middle;\n",
              "    }\n",
              "\n",
              "    .dataframe tbody tr th {\n",
              "        vertical-align: top;\n",
              "    }\n",
              "\n",
              "    .dataframe thead th {\n",
              "        text-align: right;\n",
              "    }\n",
              "</style>\n",
              "<table border=\"1\" class=\"dataframe\">\n",
              "  <thead>\n",
              "    <tr style=\"text-align: right;\">\n",
              "      <th></th>\n",
              "      <th>workclass</th>\n",
              "      <th>education</th>\n",
              "      <th>marital-status</th>\n",
              "      <th>occupation</th>\n",
              "      <th>relationship</th>\n",
              "      <th>race</th>\n",
              "      <th>sex</th>\n",
              "      <th>native-country</th>\n",
              "      <th>salary</th>\n",
              "    </tr>\n",
              "  </thead>\n",
              "  <tbody>\n",
              "    <tr>\n",
              "      <th>0</th>\n",
              "      <td>2</td>\n",
              "      <td>8</td>\n",
              "      <td>1</td>\n",
              "      <td>1</td>\n",
              "      <td>1</td>\n",
              "      <td>3</td>\n",
              "      <td>1</td>\n",
              "      <td>39</td>\n",
              "      <td>0</td>\n",
              "    </tr>\n",
              "    <tr>\n",
              "      <th>1</th>\n",
              "      <td>4</td>\n",
              "      <td>8</td>\n",
              "      <td>0</td>\n",
              "      <td>4</td>\n",
              "      <td>0</td>\n",
              "      <td>3</td>\n",
              "      <td>1</td>\n",
              "      <td>39</td>\n",
              "      <td>0</td>\n",
              "    </tr>\n",
              "    <tr>\n",
              "      <th>2</th>\n",
              "      <td>3</td>\n",
              "      <td>10</td>\n",
              "      <td>2</td>\n",
              "      <td>6</td>\n",
              "      <td>1</td>\n",
              "      <td>3</td>\n",
              "      <td>1</td>\n",
              "      <td>39</td>\n",
              "      <td>0</td>\n",
              "    </tr>\n",
              "    <tr>\n",
              "      <th>3</th>\n",
              "      <td>3</td>\n",
              "      <td>1</td>\n",
              "      <td>0</td>\n",
              "      <td>6</td>\n",
              "      <td>0</td>\n",
              "      <td>1</td>\n",
              "      <td>1</td>\n",
              "      <td>39</td>\n",
              "      <td>0</td>\n",
              "    </tr>\n",
              "    <tr>\n",
              "      <th>4</th>\n",
              "      <td>3</td>\n",
              "      <td>8</td>\n",
              "      <td>0</td>\n",
              "      <td>10</td>\n",
              "      <td>2</td>\n",
              "      <td>1</td>\n",
              "      <td>0</td>\n",
              "      <td>5</td>\n",
              "      <td>0</td>\n",
              "    </tr>\n",
              "  </tbody>\n",
              "</table>\n",
              "</div>"
            ],
            "text/plain": [
              "   workclass  education  marital-status  occupation  relationship  race  sex  \\\n",
              "0          2          8               1           1             1     3    1   \n",
              "1          4          8               0           4             0     3    1   \n",
              "2          3         10               2           6             1     3    1   \n",
              "3          3          1               0           6             0     1    1   \n",
              "4          3          8               0          10             2     1    0   \n",
              "\n",
              "   native-country  salary  \n",
              "0              39       0  \n",
              "1              39       0  \n",
              "2              39       0  \n",
              "3              39       0  \n",
              "4               5       0  "
            ]
          },
          "execution_count": 118,
          "metadata": {},
          "output_type": "execute_result"
        }
      ],
      "source": [
        "from sklearn.preprocessing import LabelEncoder\n",
        "le = LabelEncoder()\n",
        "df_d_le = df_d.apply(le.fit_transform)\n",
        "df_d_le.head()"
      ]
    },
    {
      "cell_type": "markdown",
      "metadata": {
        "nteract": {
          "transient": {
            "deleting": false
          }
        }
      },
      "source": [
        "### Step 9: Skewed Distribution Treatment"
      ]
    },
    {
      "cell_type": "code",
      "execution_count": 119,
      "metadata": {
        "gather": {
          "logged": 1674912701099
        },
        "jupyter": {
          "outputs_hidden": false,
          "source_hidden": false
        },
        "nteract": {
          "transient": {
            "deleting": false
          }
        }
      },
      "outputs": [
        {
          "name": "stdout",
          "output_type": "stream",
          "text": [
            "Skewness of skewed variables prior to transformation: \n",
            "\n",
            "fnlwgt: 1.4469800945789826\n",
            "capital-gain: 11.953847687699799\n",
            "capital-loss: 4.594629121679692\n",
            "\n",
            "\n",
            "Skewness of variables after treatment: \n",
            "\n",
            "fnlwgt: 0.18911507102940592\n",
            "capital-gain: 4.099578209557927\n",
            "capital-loss: 4.337076103499937\n"
          ]
        }
      ],
      "source": [
        "print('Skewness of skewed variables prior to transformation: \\n')\n",
        "print('fnlwgt: '+ str(df_c['fnlwgt'].skew()))\n",
        "print('capital-gain: '+ str(df_c['capital-gain'].skew()))\n",
        "print('capital-loss: '+ str(df_c['capital-loss'].skew()))\n",
        "df_c['fnlwgt'] = np.sqrt(df_c['fnlwgt'])\n",
        "df_c['capital-gain'] =np.cbrt(df_c['capital-gain'])\n",
        "df_c['capital-loss']= np.cbrt(df_c['capital-loss'])\n",
        "print('\\n')\n",
        "print('Skewness of variables after treatment: \\n')\n",
        "print('fnlwgt: '+ str(df_c['fnlwgt'].skew()))\n",
        "print('capital-gain: '+ str(df_c['capital-gain'].skew()))\n",
        "print('capital-loss: '+ str(df_c['capital-loss'].skew()))"
      ]
    },
    {
      "cell_type": "markdown",
      "metadata": {
        "nteract": {
          "transient": {
            "deleting": false
          }
        }
      },
      "source": [
        "### Final step: Join together continuous and discrete variables"
      ]
    },
    {
      "cell_type": "code",
      "execution_count": 120,
      "metadata": {
        "gather": {
          "logged": 1674912703568
        },
        "jupyter": {
          "outputs_hidden": false,
          "source_hidden": false
        },
        "nteract": {
          "transient": {
            "deleting": false
          }
        }
      },
      "outputs": [
        {
          "data": {
            "text/html": [
              "<div>\n",
              "<style scoped>\n",
              "    .dataframe tbody tr th:only-of-type {\n",
              "        vertical-align: middle;\n",
              "    }\n",
              "\n",
              "    .dataframe tbody tr th {\n",
              "        vertical-align: top;\n",
              "    }\n",
              "\n",
              "    .dataframe thead th {\n",
              "        text-align: right;\n",
              "    }\n",
              "</style>\n",
              "<table border=\"1\" class=\"dataframe\">\n",
              "  <thead>\n",
              "    <tr style=\"text-align: right;\">\n",
              "      <th></th>\n",
              "      <th>age</th>\n",
              "      <th>fnlwgt</th>\n",
              "      <th>capital-gain</th>\n",
              "      <th>capital-loss</th>\n",
              "      <th>hours-per-week</th>\n",
              "      <th>workclass</th>\n",
              "      <th>education</th>\n",
              "      <th>marital-status</th>\n",
              "      <th>occupation</th>\n",
              "      <th>relationship</th>\n",
              "      <th>race</th>\n",
              "      <th>sex</th>\n",
              "      <th>native-country</th>\n",
              "      <th>salary</th>\n",
              "    </tr>\n",
              "  </thead>\n",
              "  <tbody>\n",
              "    <tr>\n",
              "      <th>0</th>\n",
              "      <td>39</td>\n",
              "      <td>278.42</td>\n",
              "      <td>12.95</td>\n",
              "      <td>0.00</td>\n",
              "      <td>40</td>\n",
              "      <td>2</td>\n",
              "      <td>8</td>\n",
              "      <td>1</td>\n",
              "      <td>1</td>\n",
              "      <td>1</td>\n",
              "      <td>3</td>\n",
              "      <td>1</td>\n",
              "      <td>39</td>\n",
              "      <td>0</td>\n",
              "    </tr>\n",
              "    <tr>\n",
              "      <th>1</th>\n",
              "      <td>50</td>\n",
              "      <td>288.64</td>\n",
              "      <td>0.00</td>\n",
              "      <td>0.00</td>\n",
              "      <td>13</td>\n",
              "      <td>4</td>\n",
              "      <td>8</td>\n",
              "      <td>0</td>\n",
              "      <td>4</td>\n",
              "      <td>0</td>\n",
              "      <td>3</td>\n",
              "      <td>1</td>\n",
              "      <td>39</td>\n",
              "      <td>0</td>\n",
              "    </tr>\n",
              "    <tr>\n",
              "      <th>2</th>\n",
              "      <td>38</td>\n",
              "      <td>464.38</td>\n",
              "      <td>0.00</td>\n",
              "      <td>0.00</td>\n",
              "      <td>40</td>\n",
              "      <td>3</td>\n",
              "      <td>10</td>\n",
              "      <td>2</td>\n",
              "      <td>6</td>\n",
              "      <td>1</td>\n",
              "      <td>3</td>\n",
              "      <td>1</td>\n",
              "      <td>39</td>\n",
              "      <td>0</td>\n",
              "    </tr>\n",
              "    <tr>\n",
              "      <th>3</th>\n",
              "      <td>53</td>\n",
              "      <td>484.48</td>\n",
              "      <td>0.00</td>\n",
              "      <td>0.00</td>\n",
              "      <td>40</td>\n",
              "      <td>3</td>\n",
              "      <td>1</td>\n",
              "      <td>0</td>\n",
              "      <td>6</td>\n",
              "      <td>0</td>\n",
              "      <td>1</td>\n",
              "      <td>1</td>\n",
              "      <td>39</td>\n",
              "      <td>0</td>\n",
              "    </tr>\n",
              "    <tr>\n",
              "      <th>4</th>\n",
              "      <td>28</td>\n",
              "      <td>581.73</td>\n",
              "      <td>0.00</td>\n",
              "      <td>0.00</td>\n",
              "      <td>40</td>\n",
              "      <td>3</td>\n",
              "      <td>8</td>\n",
              "      <td>0</td>\n",
              "      <td>10</td>\n",
              "      <td>2</td>\n",
              "      <td>1</td>\n",
              "      <td>0</td>\n",
              "      <td>5</td>\n",
              "      <td>0</td>\n",
              "    </tr>\n",
              "  </tbody>\n",
              "</table>\n",
              "</div>"
            ],
            "text/plain": [
              "   age  fnlwgt  capital-gain  capital-loss  hours-per-week  workclass  \\\n",
              "0   39  278.42         12.95          0.00              40          2   \n",
              "1   50  288.64          0.00          0.00              13          4   \n",
              "2   38  464.38          0.00          0.00              40          3   \n",
              "3   53  484.48          0.00          0.00              40          3   \n",
              "4   28  581.73          0.00          0.00              40          3   \n",
              "\n",
              "   education  marital-status  occupation  relationship  race  sex  \\\n",
              "0          8               1           1             1     3    1   \n",
              "1          8               0           4             0     3    1   \n",
              "2         10               2           6             1     3    1   \n",
              "3          1               0           6             0     1    1   \n",
              "4          8               0          10             2     1    0   \n",
              "\n",
              "   native-country  salary  \n",
              "0              39       0  \n",
              "1              39       0  \n",
              "2              39       0  \n",
              "3              39       0  \n",
              "4               5       0  "
            ]
          },
          "execution_count": 120,
          "metadata": {},
          "output_type": "execute_result"
        }
      ],
      "source": [
        "from azureml.core import Datastore\n",
        "df_final = df_c.join(df_d_le)\n",
        "df_final.head()"
      ]
    },
    {
      "cell_type": "markdown",
      "metadata": {
        "nteract": {
          "transient": {
            "deleting": false
          }
        }
      },
      "source": [
        "## Register Dataset as Data Asset"
      ]
    },
    {
      "cell_type": "code",
      "execution_count": 94,
      "metadata": {
        "gather": {
          "logged": 1674824324190
        },
        "jupyter": {
          "outputs_hidden": false,
          "source_hidden": false
        },
        "nteract": {
          "transient": {
            "deleting": false
          }
        }
      },
      "outputs": [
        {
          "name": "stdout",
          "output_type": "stream",
          "text": [
            "Validating arguments.\n",
            "Arguments validated.\n",
            "Successfully obtained datastore reference and path.\n",
            "Uploading file to managed-dataset/df1d5f60-ad39-4521-8088-efb34230a49e/\n",
            "Successfully uploaded file to datastore.\n",
            "Creating and registering a new dataset.\n",
            "Successfully created and registered a new dataset.\n"
          ]
        }
      ],
      "source": [
        "datastore = Datastore.get(ws,'workspaceblobstore')\n",
        "dataset = Dataset.Tabular.register_pandas_dataframe(df_final, datastore, \"Salary-Dataset-Cleaned\", show_progress=True)\n",
        "\n",
        "#Cleaned dataframe also saved as csv to reuse in the hyperparameter script:\n",
        "df_final.to_csv('salary_cleaned.csv')"
      ]
    },
    {
      "cell_type": "markdown",
      "metadata": {},
      "source": [
        "## AutoML Configuration\n",
        "\n",
        "TODO: Explain why you chose the automl settings and cofiguration you used below."
      ]
    },
    {
      "cell_type": "markdown",
      "metadata": {
        "nteract": {
          "transient": {
            "deleting": false
          }
        }
      },
      "source": [
        "### Attach Cluster Compute"
      ]
    },
    {
      "cell_type": "code",
      "execution_count": 121,
      "metadata": {
        "gather": {
          "logged": 1674912717445
        },
        "jupyter": {
          "outputs_hidden": false,
          "source_hidden": false
        },
        "nteract": {
          "transient": {
            "deleting": false
          }
        }
      },
      "outputs": [
        {
          "name": "stdout",
          "output_type": "stream",
          "text": [
            "Found existing cluster, use it.\n"
          ]
        }
      ],
      "source": [
        "from azureml.core.compute import AmlCompute\n",
        "from azureml.core.compute import ComputeTarget\n",
        "from azureml.core.compute_target import ComputeTargetException\n",
        "\n",
        "# NOTE: update the cluster name to match the existing cluster\n",
        "# Choose a name for your CPU cluster\n",
        "amlcompute_cluster_name = \"auto-ml\"\n",
        "\n",
        "# Verify that cluster does not exist already\n",
        "try:\n",
        "    compute_target = ComputeTarget(workspace=ws, name=amlcompute_cluster_name)\n",
        "    print('Found existing cluster, use it.')\n",
        "except ComputeTargetException:\n",
        "    compute_config = AmlCompute.provisioning_configuration(vm_size='STANDARD_NC6', max_nodes=4)\n",
        "    compute_target = ComputeTarget.create(ws, amlcompute_cluster_name, compute_config)"
      ]
    },
    {
      "cell_type": "code",
      "execution_count": 122,
      "metadata": {
        "gather": {
          "logged": 1674912719747
        },
        "jupyter": {
          "outputs_hidden": false,
          "source_hidden": false
        },
        "nteract": {
          "transient": {
            "deleting": false
          }
        }
      },
      "outputs": [],
      "source": [
        "experiment_name = 'salary-automl-experiment'\n",
        "experiment=Experiment(ws, experiment_name)"
      ]
    },
    {
      "cell_type": "code",
      "execution_count": 130,
      "metadata": {
        "gather": {
          "logged": 1674921469327
        },
        "jupyter": {
          "outputs_hidden": false,
          "source_hidden": false
        },
        "nteract": {
          "transient": {
            "deleting": false
          }
        }
      },
      "outputs": [],
      "source": [
        "# TODO: Put your automl settings here\n",
        "automl_settings = {\n",
        "    \"experiment_timeout_minutes\": 30,\n",
        "    \"max_concurrent_iterations\": 5,\n",
        "    \"primary_metric\" : 'accuracy' \n",
        "}\n",
        "\n",
        "# TODO: Put your automl config here\n",
        "automl_config = AutoMLConfig(compute_target=compute_target,\n",
        "                             task = \"classification\",\n",
        "                             training_data=dataset,\n",
        "                             label_column_name=\"salary\",   \n",
        "                             path = 'Users/alex.jamieson/log_files',\n",
        "                             enable_early_stopping= True,\n",
        "                             featurization= 'auto',\n",
        "                             debug_log = \"automl_errors.log\",\n",
        "                             **automl_settings\n",
        "                            )"
      ]
    },
    {
      "cell_type": "code",
      "execution_count": 131,
      "metadata": {
        "gather": {
          "logged": 1674921474342
        },
        "jupyter": {
          "outputs_hidden": false,
          "source_hidden": false
        },
        "nteract": {
          "transient": {
            "deleting": false
          }
        }
      },
      "outputs": [
        {
          "name": "stdout",
          "output_type": "stream",
          "text": [
            "Submitting remote run.\n"
          ]
        },
        {
          "data": {
            "text/html": [
              "<table style=\"width:100%\"><tr><th>Experiment</th><th>Id</th><th>Type</th><th>Status</th><th>Details Page</th><th>Docs Page</th></tr><tr><td>salary-automl-experiment</td><td>AutoML_6153b81f-cfb1-45cc-82ff-928ca40cb597</td><td>automl</td><td>NotStarted</td><td><a href=\"https://ml.azure.com/runs/AutoML_6153b81f-cfb1-45cc-82ff-928ca40cb597?wsid=/subscriptions/36cd5b29-0f0b-4505-8ed0-2c1f142e8de3/resourcegroups/mlops-udacity-rg/workspaces/mlops-udacity-ws&amp;tid=d660b123-1953-4239-8c43-988d36f8930b\" target=\"_blank\" rel=\"noopener\">Link to Azure Machine Learning studio</a></td><td><a href=\"https://docs.microsoft.com/en-us/python/api/overview/azure/ml/intro?view=azure-ml-py\" target=\"_blank\" rel=\"noopener\">Link to Documentation</a></td></tr></table>"
            ],
            "text/plain": [
              "<IPython.core.display.HTML object>"
            ]
          },
          "metadata": {},
          "output_type": "display_data"
        }
      ],
      "source": [
        "# TODO: Submit your experiment\n",
        "automl_run = experiment.submit(automl_config)"
      ]
    },
    {
      "cell_type": "markdown",
      "metadata": {},
      "source": [
        "## Run Details\n",
        "\n",
        "OPTIONAL: Write about the different models trained and their performance. Why do you think some models did better than others?\n",
        "\n",
        "TODO: In the cell below, use the `RunDetails` widget to show the different experiments."
      ]
    },
    {
      "cell_type": "code",
      "execution_count": 132,
      "metadata": {
        "gather": {
          "logged": 1674921478026
        },
        "jupyter": {
          "outputs_hidden": false,
          "source_hidden": false
        },
        "nteract": {
          "transient": {
            "deleting": false
          }
        }
      },
      "outputs": [
        {
          "data": {
            "application/vnd.jupyter.widget-view+json": {
              "model_id": "1d7f286c626c4edd81a8147929221645",
              "version_major": 2,
              "version_minor": 0
            },
            "text/plain": [
              "_AutoMLWidget(widget_settings={'childWidgetDisplay': 'popup', 'send_telemetry': False, 'log_level': 'INFO', 's…"
            ]
          },
          "metadata": {},
          "output_type": "display_data"
        },
        {
          "data": {
            "application/aml.mini.widget.v1": "{\"status\": \"Completed\", \"workbench_run_details_uri\": \"https://ml.azure.com/runs/AutoML_6153b81f-cfb1-45cc-82ff-928ca40cb597?wsid=/subscriptions/36cd5b29-0f0b-4505-8ed0-2c1f142e8de3/resourcegroups/mlops-udacity-rg/workspaces/mlops-udacity-ws&tid=d660b123-1953-4239-8c43-988d36f8930b\", \"run_id\": \"AutoML_6153b81f-cfb1-45cc-82ff-928ca40cb597\", \"run_properties\": {\"run_id\": \"AutoML_6153b81f-cfb1-45cc-82ff-928ca40cb597\", \"created_utc\": \"2023-01-28T15:57:53.874739Z\", \"properties\": {\"num_iterations\": \"1000\", \"training_type\": \"TrainFull\", \"acquisition_function\": \"EI\", \"primary_metric\": \"accuracy\", \"train_split\": \"0\", \"acquisition_parameter\": \"0\", \"num_cross_validation\": null, \"target\": \"auto-ml\", \"AMLSettingsJsonString\": \"{\\\"path\\\":null,\\\"name\\\":\\\"salary-automl-experiment\\\",\\\"subscription_id\\\":\\\"36cd5b29-0f0b-4505-8ed0-2c1f142e8de3\\\",\\\"resource_group\\\":\\\"mlops-udacity-rg\\\",\\\"workspace_name\\\":\\\"mlops-udacity-ws\\\",\\\"region\\\":\\\"uksouth\\\",\\\"compute_target\\\":\\\"auto-ml\\\",\\\"spark_service\\\":null,\\\"azure_service\\\":\\\"remote\\\",\\\"many_models\\\":false,\\\"pipeline_fetch_max_batch_size\\\":1,\\\"enable_batch_run\\\":true,\\\"enable_parallel_run\\\":false,\\\"num_procs\\\":null,\\\"enable_run_restructure\\\":false,\\\"start_auxiliary_runs_before_parent_complete\\\":false,\\\"enable_code_generation\\\":true,\\\"iterations\\\":1000,\\\"primary_metric\\\":\\\"accuracy\\\",\\\"task_type\\\":\\\"classification\\\",\\\"positive_label\\\":null,\\\"data_script\\\":null,\\\"test_size\\\":0.0,\\\"test_include_predictions_only\\\":false,\\\"validation_size\\\":0.0,\\\"n_cross_validations\\\":null,\\\"y_min\\\":null,\\\"y_max\\\":null,\\\"num_classes\\\":null,\\\"featurization\\\":\\\"auto\\\",\\\"_ignore_package_version_incompatibilities\\\":false,\\\"is_timeseries\\\":false,\\\"max_cores_per_iteration\\\":1,\\\"max_concurrent_iterations\\\":5,\\\"iteration_timeout_minutes\\\":null,\\\"mem_in_mb\\\":null,\\\"enforce_time_on_windows\\\":false,\\\"experiment_timeout_minutes\\\":30,\\\"experiment_exit_score\\\":null,\\\"partition_column_names\\\":null,\\\"whitelist_models\\\":null,\\\"blacklist_algos\\\":[\\\"TensorFlowLinearClassifier\\\",\\\"TensorFlowDNN\\\"],\\\"supported_models\\\":[\\\"ExtremeRandomTrees\\\",\\\"LightGBM\\\",\\\"TensorFlowDNN\\\",\\\"AveragedPerceptronClassifier\\\",\\\"LogisticRegression\\\",\\\"DecisionTree\\\",\\\"RandomForest\\\",\\\"KNN\\\",\\\"BernoulliNaiveBayes\\\",\\\"TensorFlowLinearClassifier\\\",\\\"GradientBoosting\\\",\\\"XGBoostClassifier\\\",\\\"LinearSVM\\\",\\\"SGD\\\",\\\"MultinomialNaiveBayes\\\",\\\"TabnetClassifier\\\",\\\"SVM\\\"],\\\"private_models\\\":[],\\\"auto_blacklist\\\":true,\\\"blacklist_samples_reached\\\":false,\\\"exclude_nan_labels\\\":true,\\\"verbosity\\\":20,\\\"_debug_log\\\":\\\"azureml_automl.log\\\",\\\"show_warnings\\\":false,\\\"model_explainability\\\":true,\\\"service_url\\\":null,\\\"sdk_url\\\":null,\\\"sdk_packages\\\":null,\\\"enable_onnx_compatible_models\\\":false,\\\"enable_split_onnx_featurizer_estimator_models\\\":false,\\\"vm_type\\\":\\\"STANDARD_NC6\\\",\\\"telemetry_verbosity\\\":20,\\\"send_telemetry\\\":true,\\\"enable_dnn\\\":false,\\\"scenario\\\":\\\"AutoML\\\",\\\"environment_label\\\":null,\\\"save_mlflow\\\":false,\\\"enable_categorical_indicators\\\":false,\\\"force_text_dnn\\\":false,\\\"enable_feature_sweeping\\\":true,\\\"enable_early_stopping\\\":true,\\\"early_stopping_n_iters\\\":10,\\\"arguments\\\":null,\\\"dataset_id\\\":\\\"3ddc3abb-5bc8-4364-8ff8-23db2715bd50\\\",\\\"hyperdrive_config\\\":null,\\\"validation_dataset_id\\\":null,\\\"run_source\\\":null,\\\"metrics\\\":null,\\\"enable_metric_confidence\\\":false,\\\"enable_ensembling\\\":true,\\\"enable_stack_ensembling\\\":true,\\\"ensemble_iterations\\\":15,\\\"enable_tf\\\":false,\\\"enable_subsampling\\\":null,\\\"subsample_seed\\\":null,\\\"enable_nimbusml\\\":false,\\\"enable_streaming\\\":false,\\\"force_streaming\\\":false,\\\"track_child_runs\\\":true,\\\"n_best_runs\\\":1,\\\"allowed_private_models\\\":[],\\\"label_column_name\\\":\\\"salary\\\",\\\"weight_column_name\\\":null,\\\"cv_split_column_names\\\":null,\\\"enable_local_managed\\\":false,\\\"_local_managed_run_id\\\":null,\\\"cost_mode\\\":1,\\\"lag_length\\\":0,\\\"metric_operation\\\":\\\"maximize\\\",\\\"preprocess\\\":true}\", \"DataPrepJsonString\": \"{\\\\\\\"training_data\\\\\\\": {\\\\\\\"datasetId\\\\\\\": \\\\\\\"3ddc3abb-5bc8-4364-8ff8-23db2715bd50\\\\\\\"}, \\\\\\\"datasets\\\\\\\": 0}\", \"EnableSubsampling\": null, \"runTemplate\": \"AutoML\", \"azureml.runsource\": \"automl\", \"display_task_type\": \"classification\", \"dependencies_versions\": \"{\\\"azureml-widgets\\\": \\\"1.47.0\\\", \\\"azureml-training-tabular\\\": \\\"1.47.0\\\", \\\"azureml-train\\\": \\\"1.47.0\\\", \\\"azureml-train-restclients-hyperdrive\\\": \\\"1.47.0\\\", \\\"azureml-train-core\\\": \\\"1.47.0\\\", \\\"azureml-train-automl\\\": \\\"1.47.0\\\", \\\"azureml-train-automl-runtime\\\": \\\"1.47.0\\\", \\\"azureml-train-automl-client\\\": \\\"1.47.0\\\", \\\"azureml-tensorboard\\\": \\\"1.47.0\\\", \\\"azureml-telemetry\\\": \\\"1.47.0\\\", \\\"azureml-sdk\\\": \\\"1.47.0\\\", \\\"azureml-samples\\\": \\\"0+unknown\\\", \\\"azureml-responsibleai\\\": \\\"1.47.0\\\", \\\"azureml-pipeline\\\": \\\"1.47.0\\\", \\\"azureml-pipeline-steps\\\": \\\"1.47.0\\\", \\\"azureml-pipeline-core\\\": \\\"1.47.0\\\", \\\"azureml-opendatasets\\\": \\\"1.47.0\\\", \\\"azureml-mlflow\\\": \\\"1.47.0\\\", \\\"azureml-interpret\\\": \\\"1.47.0\\\", \\\"azureml-inference-server-http\\\": \\\"0.7.6\\\", \\\"azureml-explain-model\\\": \\\"1.47.0\\\", \\\"azureml-defaults\\\": \\\"1.47.0\\\", \\\"azureml-dataset-runtime\\\": \\\"1.47.0\\\", \\\"azureml-dataprep\\\": \\\"4.5.7\\\", \\\"azureml-dataprep-rslex\\\": \\\"2.11.4\\\", \\\"azureml-dataprep-native\\\": \\\"38.0.0\\\", \\\"azureml-datadrift\\\": \\\"1.47.0\\\", \\\"azureml-core\\\": \\\"1.47.0\\\", \\\"azureml-contrib-services\\\": \\\"1.47.0\\\", \\\"azureml-contrib-server\\\": \\\"1.47.0\\\", \\\"azureml-contrib-reinforcementlearning\\\": \\\"1.47.0\\\", \\\"azureml-contrib-pipeline-steps\\\": \\\"1.47.0\\\", \\\"azureml-contrib-notebook\\\": \\\"1.47.0\\\", \\\"azureml-contrib-fairness\\\": \\\"1.47.0\\\", \\\"azureml-contrib-dataset\\\": \\\"1.47.0\\\", \\\"azureml-contrib-automl-pipeline-steps\\\": \\\"1.47.0\\\", \\\"azureml-cli-common\\\": \\\"1.47.0\\\", \\\"azureml-automl-runtime\\\": \\\"1.47.0\\\", \\\"azureml-automl-dnn-nlp\\\": \\\"1.47.0\\\", \\\"azureml-automl-core\\\": \\\"1.47.0\\\", \\\"azureml-accel-models\\\": \\\"1.47.0\\\"}\", \"_aml_system_scenario_identification\": \"Remote.Parent\", \"ClientType\": \"SDK\", \"environment_cpu_name\": \"AzureML-AutoML\", \"environment_cpu_label\": \"prod\", \"environment_gpu_name\": \"AzureML-AutoML-GPU\", \"environment_gpu_label\": \"prod\", \"root_attribution\": \"automl\", \"attribution\": \"AutoML\", \"Orchestrator\": \"AutoML\", \"CancelUri\": \"https://uksouth.api.azureml.ms/jasmine/v1.0/subscriptions/36cd5b29-0f0b-4505-8ed0-2c1f142e8de3/resourceGroups/mlops-udacity-rg/providers/Microsoft.MachineLearningServices/workspaces/mlops-udacity-ws/experimentids/6de2a69f-8df1-4b63-b201-165bb8f74b89/cancel/AutoML_6153b81f-cfb1-45cc-82ff-928ca40cb597\", \"ClientSdkVersion\": \"1.48.0.post1\", \"snapshotId\": \"00000000-0000-0000-0000-000000000000\", \"SetupRunId\": \"AutoML_6153b81f-cfb1-45cc-82ff-928ca40cb597_setup\", \"SetupRunContainerId\": \"dcid.AutoML_6153b81f-cfb1-45cc-82ff-928ca40cb597_setup\", \"FeaturizationRunJsonPath\": \"featurizer_container.json\", \"FeaturizationRunId\": \"AutoML_6153b81f-cfb1-45cc-82ff-928ca40cb597_featurize\", \"ProblemInfoJsonString\": \"{\\\"dataset_num_categorical\\\": 0, \\\"is_sparse\\\": true, \\\"subsampling\\\": false, \\\"has_extra_col\\\": true, \\\"dataset_classes\\\": 2, \\\"dataset_features\\\": 94, \\\"dataset_samples\\\": 29304, \\\"single_frequency_class_detected\\\": false}\", \"ModelExplainRunId\": \"AutoML_6153b81f-cfb1-45cc-82ff-928ca40cb597_ModelExplain\"}, \"tags\": {\"model_explain_run\": \"best_run\", \"_aml_system_automl_run_workspace_id\": \"c95affc8-22be-47ea-88b3-8058bfccac5b\", \"_aml_system_azureml.automlComponent\": \"AutoML\", \"is_gpu\": \"True\", \"pipeline_id\": \"\", \"score\": \"\", \"predicted_cost\": \"\", \"fit_time\": \"\", \"training_percent\": \"\", \"iteration\": \"\", \"run_preprocessor\": \"\", \"run_algorithm\": \"\", \"dynamic_allowlisting_iterations\": \"<25>;<30>;<35>;<40>;\", \"_aml_system_azureml.automl_early_exit_message\": \"No scores improved over last 10 iterations, so experiment stopped early. This early stopping behavior can be disabled by setting enable_early_stopping = False in AutoMLConfig for notebook/python SDK runs.\", \"automl_best_child_run_id\": \"AutoML_6153b81f-cfb1-45cc-82ff-928ca40cb597_41\", \"model_explain_best_run_child_id\": \"AutoML_6153b81f-cfb1-45cc-82ff-928ca40cb597_41\"}, \"end_time_utc\": \"2023-01-28T16:26:24.215896Z\", \"status\": \"Completed\", \"log_files\": {}, \"log_groups\": [], \"run_duration\": \"0:28:30\", \"run_number\": \"1674921473\", \"run_queued_details\": {\"status\": \"Completed\", \"details\": null}}, \"child_runs\": [{\"run_id\": \"AutoML_6153b81f-cfb1-45cc-82ff-928ca40cb597_setup\", \"run_number\": 1674921491, \"metric\": null, \"status\": \"Completed\", \"run_type\": \"azureml.scriptrun\", \"training_percent\": null, \"start_time\": \"2023-01-28T15:58:19.492344Z\", \"end_time\": \"2023-01-28T16:03:00.082354Z\", \"created_time\": \"2023-01-28T15:58:11.503617Z\", \"created_time_dt\": \"2023-01-28T15:58:11.503617Z\", \"duration\": \"0:04:48\", \"iteration\": null, \"goal\": null, \"run_name\": \"Completed\", \"run_properties\": null}, {\"run_id\": \"AutoML_6153b81f-cfb1-45cc-82ff-928ca40cb597_featurize\", \"run_number\": 1674921780, \"metric\": null, \"status\": \"Completed\", \"run_type\": \"automl.featurization\", \"training_percent\": null, \"start_time\": \"2023-01-28T16:03:00.623751Z\", \"end_time\": \"2023-01-28T16:03:41.773679Z\", \"created_time\": \"2023-01-28T16:03:00.404763Z\", \"created_time_dt\": \"2023-01-28T16:03:00.404763Z\", \"duration\": \"0:00:41\", \"iteration\": null, \"goal\": null, \"run_name\": \"Completed\", \"run_properties\": null}, {\"run_id\": \"AutoML_6153b81f-cfb1-45cc-82ff-928ca40cb597_0\", \"run_number\": 1674921823, \"metric\": null, \"status\": \"Completed\", \"run_type\": null, \"training_percent\": \"100\", \"start_time\": \"2023-01-28T16:03:59.880157Z\", \"end_time\": \"2023-01-28T16:04:24.733976Z\", \"created_time\": \"2023-01-28T16:03:43.041887Z\", \"created_time_dt\": \"2023-01-28T16:03:43.041887Z\", \"duration\": \"0:00:41\", \"iteration\": \"0\", \"goal\": \"accuracy_max\", \"run_name\": \"MaxAbsScaler, LightGBM\", \"run_properties\": \"copy=True\", \"primary_metric\": 0.87657353, \"best_metric\": 0.87657353}, {\"run_id\": \"AutoML_6153b81f-cfb1-45cc-82ff-928ca40cb597_worker_0\", \"run_number\": 1674921824, \"metric\": null, \"status\": \"Completed\", \"run_type\": \"azureml.scriptrun\", \"training_percent\": null, \"start_time\": \"2023-01-28T16:03:49.732867Z\", \"end_time\": \"2023-01-28T16:05:20.593672Z\", \"created_time\": \"2023-01-28T16:03:44.714769Z\", \"created_time_dt\": \"2023-01-28T16:03:44.714769Z\", \"duration\": \"0:01:35\", \"iteration\": null, \"goal\": null, \"run_name\": \"Completed\", \"run_properties\": null}, {\"run_id\": \"AutoML_6153b81f-cfb1-45cc-82ff-928ca40cb597_5\", \"run_number\": 1674921825, \"metric\": null, \"status\": \"Completed\", \"run_type\": null, \"training_percent\": \"100\", \"start_time\": \"2023-01-28T16:05:57.055059Z\", \"end_time\": \"2023-01-28T16:06:11.641089Z\", \"created_time\": \"2023-01-28T16:03:45.312562Z\", \"created_time_dt\": \"2023-01-28T16:03:45.312562Z\", \"duration\": \"0:02:26\", \"iteration\": \"5\", \"goal\": \"accuracy_max\", \"run_name\": \"MaxAbsScaler, LightGBM\", \"run_properties\": \"copy=True\", \"primary_metric\": 0.78753454, \"best_metric\": 0.87657353}, {\"run_id\": \"AutoML_6153b81f-cfb1-45cc-82ff-928ca40cb597_worker_1\", \"run_number\": 1674921826, \"metric\": null, \"status\": \"Completed\", \"run_type\": \"azureml.scriptrun\", \"training_percent\": null, \"start_time\": \"2023-01-28T16:05:26.636399Z\", \"end_time\": \"2023-01-28T16:06:49.621294Z\", \"created_time\": \"2023-01-28T16:03:46.392634Z\", \"created_time_dt\": \"2023-01-28T16:03:46.392634Z\", \"duration\": \"0:03:03\", \"iteration\": null, \"goal\": null, \"run_name\": \"Completed\", \"run_properties\": null}, {\"run_id\": \"AutoML_6153b81f-cfb1-45cc-82ff-928ca40cb597_worker_2\", \"run_number\": 1674921827, \"metric\": null, \"status\": \"Completed\", \"run_type\": \"azureml.scriptrun\", \"training_percent\": null, \"start_time\": \"2023-01-28T16:06:54.317067Z\", \"end_time\": \"2023-01-28T16:08:15.502233Z\", \"created_time\": \"2023-01-28T16:03:47.961551Z\", \"created_time_dt\": \"2023-01-28T16:03:47.961551Z\", \"duration\": \"0:04:27\", \"iteration\": null, \"goal\": null, \"run_name\": \"Completed\", \"run_properties\": null}, {\"run_id\": \"AutoML_6153b81f-cfb1-45cc-82ff-928ca40cb597_12\", \"run_number\": 1674921828, \"metric\": null, \"status\": \"Completed\", \"run_type\": null, \"training_percent\": \"100\", \"start_time\": \"2023-01-28T16:08:33.476673Z\", \"end_time\": \"2023-01-28T16:08:49.007016Z\", \"created_time\": \"2023-01-28T16:03:48.111616Z\", \"created_time_dt\": \"2023-01-28T16:03:48.111616Z\", \"duration\": \"0:05:00\", \"iteration\": \"12\", \"goal\": \"accuracy_max\", \"run_name\": \"MaxAbsScaler, LogisticRegression\", \"run_properties\": \"copy=True\", \"primary_metric\": 0.84525637, \"best_metric\": 0.87657353}, {\"run_id\": \"AutoML_6153b81f-cfb1-45cc-82ff-928ca40cb597_worker_3\", \"run_number\": 1674921829, \"metric\": null, \"status\": \"Completed\", \"run_type\": \"azureml.scriptrun\", \"training_percent\": null, \"start_time\": \"2023-01-28T16:08:22.351571Z\", \"end_time\": \"2023-01-28T16:09:43.944362Z\", \"created_time\": \"2023-01-28T16:03:49.592715Z\", \"created_time_dt\": \"2023-01-28T16:03:49.592715Z\", \"duration\": \"0:05:54\", \"iteration\": null, \"goal\": null, \"run_name\": \"Completed\", \"run_properties\": null}, {\"run_id\": \"AutoML_6153b81f-cfb1-45cc-82ff-928ca40cb597_17\", \"run_number\": 1674921830, \"metric\": null, \"status\": \"Completed\", \"run_type\": null, \"training_percent\": \"100\", \"start_time\": \"2023-01-28T16:10:52.815495Z\", \"end_time\": \"2023-01-28T16:11:07.666794Z\", \"created_time\": \"2023-01-28T16:03:50.142229Z\", \"created_time_dt\": \"2023-01-28T16:03:50.142229Z\", \"duration\": \"0:07:17\", \"iteration\": \"17\", \"goal\": \"accuracy_max\", \"run_name\": \"StandardScalerWrapper, RandomForest\", \"run_properties\": \"copy=True, with_mean=False, with_std=False\", \"primary_metric\": 0.84679153, \"best_metric\": 0.87657353}, {\"run_id\": \"AutoML_6153b81f-cfb1-45cc-82ff-928ca40cb597_worker_4\", \"run_number\": 1674921831, \"metric\": null, \"status\": \"Completed\", \"run_type\": \"azureml.scriptrun\", \"training_percent\": null, \"start_time\": \"2023-01-28T16:10:26.957Z\", \"end_time\": \"2023-01-28T16:12:03.425348Z\", \"created_time\": \"2023-01-28T16:03:51.178827Z\", \"created_time_dt\": \"2023-01-28T16:03:51.178827Z\", \"duration\": \"0:08:12\", \"iteration\": null, \"goal\": null, \"run_name\": \"Completed\", \"run_properties\": null}, {\"run_id\": \"AutoML_6153b81f-cfb1-45cc-82ff-928ca40cb597_22\", \"run_number\": 1674922178, \"metric\": null, \"status\": \"Completed\", \"run_type\": \"azureml.scriptrun\", \"training_percent\": \"100\", \"start_time\": \"2023-01-28T16:09:47.550236Z\", \"end_time\": \"2023-01-28T16:10:21.963973Z\", \"created_time\": \"2023-01-28T16:09:38.491896Z\", \"created_time_dt\": \"2023-01-28T16:09:38.491896Z\", \"duration\": \"0:00:43\", \"iteration\": \"22\", \"goal\": \"accuracy_max\", \"run_name\": \"SparseNormalizer, XGBoostClassifier\", \"run_properties\": \"copy=True, norm='l1'\", \"primary_metric\": 0.85784464, \"best_metric\": 0.87657353}, {\"run_id\": \"AutoML_6153b81f-cfb1-45cc-82ff-928ca40cb597_24\", \"run_number\": 1674922270, \"metric\": null, \"status\": \"Completed\", \"run_type\": \"azureml.scriptrun\", \"training_percent\": \"100\", \"start_time\": \"2023-01-28T16:13:49.943695Z\", \"end_time\": \"2023-01-28T16:14:21.230705Z\", \"created_time\": \"2023-01-28T16:11:10.263535Z\", \"created_time_dt\": \"2023-01-28T16:11:10.263535Z\", \"duration\": \"0:03:10\", \"iteration\": \"24\", \"goal\": \"accuracy_max\", \"run_name\": \"StandardScalerWrapper, RandomForest\", \"run_properties\": \"copy=True, with_mean=False, with_std=False\", \"primary_metric\": 0.79152594, \"best_metric\": 0.87657353}, {\"run_id\": \"AutoML_6153b81f-cfb1-45cc-82ff-928ca40cb597_25\", \"run_number\": 1674922378, \"metric\": null, \"status\": \"Completed\", \"run_type\": \"azureml.scriptrun\", \"training_percent\": \"100\", \"start_time\": \"2023-01-28T16:14:26.23032Z\", \"end_time\": \"2023-01-28T16:15:11.030081Z\", \"created_time\": \"2023-01-28T16:12:58.530075Z\", \"created_time_dt\": \"2023-01-28T16:12:58.530075Z\", \"duration\": \"0:02:12\", \"iteration\": \"25\", \"goal\": \"accuracy_max\", \"run_name\": \"StandardScalerWrapper, XGBoostClassifier\", \"run_properties\": \"copy=True, with_mean=False, with_std=False\", \"primary_metric\": 0.87534541, \"best_metric\": 0.87657353}, {\"run_id\": \"AutoML_6153b81f-cfb1-45cc-82ff-928ca40cb597_26\", \"run_number\": 1674922391, \"metric\": null, \"status\": \"Completed\", \"run_type\": \"azureml.scriptrun\", \"training_percent\": \"100\", \"start_time\": \"2023-01-28T16:15:51.159475Z\", \"end_time\": \"2023-01-28T16:16:24.737605Z\", \"created_time\": \"2023-01-28T16:13:11.43127Z\", \"created_time_dt\": \"2023-01-28T16:13:11.43127Z\", \"duration\": \"0:03:13\", \"iteration\": \"26\", \"goal\": \"accuracy_max\", \"run_name\": \"TruncatedSVDWrapper, XGBoostClassifier\", \"run_properties\": \"n_components=0.8015789473684211, random_state=None\", \"primary_metric\": 0.84587043, \"best_metric\": 0.87657353}, {\"run_id\": \"AutoML_6153b81f-cfb1-45cc-82ff-928ca40cb597_27\", \"run_number\": 1674922426, \"metric\": null, \"status\": \"Completed\", \"run_type\": \"azureml.scriptrun\", \"training_percent\": \"100\", \"start_time\": \"2023-01-28T16:17:40.187828Z\", \"end_time\": \"2023-01-28T16:18:22.307915Z\", \"created_time\": \"2023-01-28T16:13:46.710931Z\", \"created_time_dt\": \"2023-01-28T16:13:46.710931Z\", \"duration\": \"0:04:35\", \"iteration\": \"27\", \"goal\": \"accuracy_max\", \"run_name\": \"SparseNormalizer, XGBoostClassifier\", \"run_properties\": \"copy=True, norm='max'\", \"primary_metric\": 0.84801965, \"best_metric\": 0.87657353}, {\"run_id\": \"AutoML_6153b81f-cfb1-45cc-82ff-928ca40cb597_28\", \"run_number\": 1674922462, \"metric\": null, \"status\": \"Completed\", \"run_type\": \"azureml.scriptrun\", \"training_percent\": \"100\", \"start_time\": \"2023-01-28T16:17:03.875853Z\", \"end_time\": \"2023-01-28T16:17:36.402053Z\", \"created_time\": \"2023-01-28T16:14:22.536394Z\", \"created_time_dt\": \"2023-01-28T16:14:22.536394Z\", \"duration\": \"0:03:13\", \"iteration\": \"28\", \"goal\": \"accuracy_max\", \"run_name\": \"SparseNormalizer, XGBoostClassifier\", \"run_properties\": \"copy=True, norm='l1'\", \"primary_metric\": 0.85784464, \"best_metric\": 0.87657353}, {\"run_id\": \"AutoML_6153b81f-cfb1-45cc-82ff-928ca40cb597_29\", \"run_number\": 1674922512, \"metric\": null, \"status\": \"Completed\", \"run_type\": \"azureml.scriptrun\", \"training_percent\": \"100\", \"start_time\": \"2023-01-28T16:16:30.349582Z\", \"end_time\": \"2023-01-28T16:17:02.240526Z\", \"created_time\": \"2023-01-28T16:15:12.418195Z\", \"created_time_dt\": \"2023-01-28T16:15:12.418195Z\", \"duration\": \"0:01:49\", \"iteration\": \"29\", \"goal\": \"accuracy_max\", \"run_name\": \"StandardScalerWrapper, XGBoostClassifier\", \"run_properties\": \"copy=True, with_mean=False, with_std=False\", \"primary_metric\": 0.84218606, \"best_metric\": 0.87657353}, {\"run_id\": \"AutoML_6153b81f-cfb1-45cc-82ff-928ca40cb597_30\", \"run_number\": 1674922549, \"metric\": null, \"status\": \"Completed\", \"run_type\": \"azureml.scriptrun\", \"training_percent\": \"100\", \"start_time\": \"2023-01-28T16:18:25.616937Z\", \"end_time\": \"2023-01-28T16:18:53.482262Z\", \"created_time\": \"2023-01-28T16:15:49.509788Z\", \"created_time_dt\": \"2023-01-28T16:15:49.509788Z\", \"duration\": \"0:03:03\", \"iteration\": \"30\", \"goal\": \"accuracy_max\", \"run_name\": \"StandardScalerWrapper, XGBoostClassifier\", \"run_properties\": \"copy=True, with_mean=False, with_std=False\", \"primary_metric\": 0.82836967, \"best_metric\": 0.87657353}, {\"run_id\": \"AutoML_6153b81f-cfb1-45cc-82ff-928ca40cb597_31\", \"run_number\": 1674922586, \"metric\": null, \"status\": \"Completed\", \"run_type\": \"azureml.scriptrun\", \"training_percent\": \"100\", \"start_time\": \"2023-01-28T16:18:59.001718Z\", \"end_time\": \"2023-01-28T16:19:35.530194Z\", \"created_time\": \"2023-01-28T16:16:26.123294Z\", \"created_time_dt\": \"2023-01-28T16:16:26.123294Z\", \"duration\": \"0:03:09\", \"iteration\": \"31\", \"goal\": \"accuracy_max\", \"run_name\": \"StandardScalerWrapper, XGBoostClassifier\", \"run_properties\": \"copy=True, with_mean=False, with_std=False\", \"primary_metric\": 0.86859073, \"best_metric\": 0.87657353}, {\"run_id\": \"AutoML_6153b81f-cfb1-45cc-82ff-928ca40cb597_32\", \"run_number\": 1674922623, \"metric\": null, \"status\": \"Completed\", \"run_type\": \"azureml.scriptrun\", \"training_percent\": \"100\", \"start_time\": \"2023-01-28T16:19:38.818292Z\", \"end_time\": \"2023-01-28T16:20:17.900035Z\", \"created_time\": \"2023-01-28T16:17:03.428462Z\", \"created_time_dt\": \"2023-01-28T16:17:03.428462Z\", \"duration\": \"0:03:14\", \"iteration\": \"32\", \"goal\": \"accuracy_max\", \"run_name\": \"StandardScalerWrapper, XGBoostClassifier\", \"run_properties\": \"copy=True, with_mean=False, with_std=False\", \"primary_metric\": 0.86275714, \"best_metric\": 0.87657353}, {\"run_id\": \"AutoML_6153b81f-cfb1-45cc-82ff-928ca40cb597_33\", \"run_number\": 1674922657, \"metric\": null, \"status\": \"Completed\", \"run_type\": \"azureml.scriptrun\", \"training_percent\": \"100\", \"start_time\": \"2023-01-28T16:21:39.701676Z\", \"end_time\": \"2023-01-28T16:22:15.743145Z\", \"created_time\": \"2023-01-28T16:17:37.593635Z\", \"created_time_dt\": \"2023-01-28T16:17:37.593635Z\", \"duration\": \"0:04:38\", \"iteration\": \"33\", \"goal\": \"accuracy_max\", \"run_name\": \"StandardScalerWrapper, XGBoostClassifier\", \"run_properties\": \"copy=True, with_mean=False, with_std=False\", \"primary_metric\": 0.87964384, \"best_metric\": 0.87964384}, {\"run_id\": \"AutoML_6153b81f-cfb1-45cc-82ff-928ca40cb597_34\", \"run_number\": 1674922703, \"metric\": null, \"status\": \"Completed\", \"run_type\": \"azureml.scriptrun\", \"training_percent\": \"100\", \"start_time\": \"2023-01-28T16:20:21.127291Z\", \"end_time\": \"2023-01-28T16:20:59.844721Z\", \"created_time\": \"2023-01-28T16:18:23.517179Z\", \"created_time_dt\": \"2023-01-28T16:18:23.517179Z\", \"duration\": \"0:02:36\", \"iteration\": \"34\", \"goal\": \"accuracy_max\", \"run_name\": \"StandardScalerWrapper, XGBoostClassifier\", \"run_properties\": \"copy=True, with_mean=False, with_std=False\", \"primary_metric\": 0.86459932, \"best_metric\": 0.87964384}, {\"run_id\": \"AutoML_6153b81f-cfb1-45cc-82ff-928ca40cb597_35\", \"run_number\": 1674922735, \"metric\": null, \"status\": \"Completed\", \"run_type\": \"azureml.scriptrun\", \"training_percent\": \"100\", \"start_time\": \"2023-01-28T16:21:03.310253Z\", \"end_time\": \"2023-01-28T16:21:34.916897Z\", \"created_time\": \"2023-01-28T16:18:55.520593Z\", \"created_time_dt\": \"2023-01-28T16:18:55.520593Z\", \"duration\": \"0:02:39\", \"iteration\": \"35\", \"goal\": \"accuracy_max\", \"run_name\": \"SparseNormalizer, XGBoostClassifier\", \"run_properties\": \"copy=True, norm='l1'\", \"primary_metric\": 0.75928769, \"best_metric\": 0.87964384}, {\"run_id\": \"AutoML_6153b81f-cfb1-45cc-82ff-928ca40cb597_36\", \"run_number\": 1674922776, \"metric\": null, \"status\": \"Completed\", \"run_type\": \"azureml.scriptrun\", \"training_percent\": \"100\", \"start_time\": \"2023-01-28T16:22:18.684126Z\", \"end_time\": \"2023-01-28T16:22:52.673108Z\", \"created_time\": \"2023-01-28T16:19:36.8186Z\", \"created_time_dt\": \"2023-01-28T16:19:36.8186Z\", \"duration\": \"0:03:15\", \"iteration\": \"36\", \"goal\": \"accuracy_max\", \"run_name\": \"SparseNormalizer, XGBoostClassifier\", \"run_properties\": \"copy=True, norm='l1'\", \"primary_metric\": 0.85815167, \"best_metric\": 0.87964384}, {\"run_id\": \"AutoML_6153b81f-cfb1-45cc-82ff-928ca40cb597_37\", \"run_number\": 1674922819, \"metric\": null, \"status\": \"Canceled\", \"run_type\": \"azureml.scriptrun\", \"training_percent\": \"100\", \"start_time\": \"2023-01-28T16:22:53.102334Z\", \"end_time\": \"2023-01-28T16:22:54.069901Z\", \"created_time\": \"2023-01-28T16:20:19.140226Z\", \"created_time_dt\": \"2023-01-28T16:20:19.140226Z\", \"duration\": \"0:02:34\", \"iteration\": \"37\", \"goal\": null, \"run_name\": \"Canceled\", \"run_properties\": null}, {\"run_id\": \"AutoML_6153b81f-cfb1-45cc-82ff-928ca40cb597_38\", \"run_number\": 1674922861, \"metric\": null, \"status\": \"Canceled\", \"run_type\": \"azureml.scriptrun\", \"training_percent\": \"100\", \"start_time\": \"2023-01-28T16:22:53.109722Z\", \"end_time\": \"2023-01-28T16:22:53.603874Z\", \"created_time\": \"2023-01-28T16:21:01.251606Z\", \"created_time_dt\": \"2023-01-28T16:21:01.251606Z\", \"duration\": \"0:01:52\", \"iteration\": \"38\", \"goal\": null, \"run_name\": \"Canceled\", \"run_properties\": null}, {\"run_id\": \"AutoML_6153b81f-cfb1-45cc-82ff-928ca40cb597_39\", \"run_number\": 1674922896, \"metric\": null, \"status\": \"Canceled\", \"run_type\": \"azureml.scriptrun\", \"training_percent\": \"100\", \"start_time\": \"2023-01-28T16:22:53.09433Z\", \"end_time\": \"2023-01-28T16:22:53.283392Z\", \"created_time\": \"2023-01-28T16:21:36.080423Z\", \"created_time_dt\": \"2023-01-28T16:21:36.080423Z\", \"duration\": \"0:01:17\", \"iteration\": \"39\", \"goal\": null, \"run_name\": \"Canceled\", \"run_properties\": null}, {\"run_id\": \"AutoML_6153b81f-cfb1-45cc-82ff-928ca40cb597_40\", \"run_number\": 1674922937, \"metric\": null, \"status\": \"Canceled\", \"run_type\": \"azureml.scriptrun\", \"training_percent\": \"100\", \"start_time\": \"2023-01-28T16:22:53.048638Z\", \"end_time\": \"2023-01-28T16:22:53.311895Z\", \"created_time\": \"2023-01-28T16:22:17.902205Z\", \"created_time_dt\": \"2023-01-28T16:22:17.902205Z\", \"duration\": \"0:00:35\", \"iteration\": \"40\", \"goal\": null, \"run_name\": \"Canceled\", \"run_properties\": null}, {\"run_id\": \"AutoML_6153b81f-cfb1-45cc-82ff-928ca40cb597_41\", \"run_number\": 1674922974, \"metric\": null, \"status\": \"Completed\", \"run_type\": \"azureml.scriptrun\", \"training_percent\": \"100\", \"start_time\": \"2023-01-28T16:23:55.987606Z\", \"end_time\": \"2023-01-28T16:24:38.693595Z\", \"created_time\": \"2023-01-28T16:22:54.702514Z\", \"created_time_dt\": \"2023-01-28T16:22:54.702514Z\", \"duration\": \"0:01:43\", \"iteration\": \"41\", \"goal\": \"accuracy_max\", \"run_name\": \"VotingEnsemble\", \"run_properties\": \"classification_labels=numpy.array([0, 1]\", \"primary_metric\": 0.8860915, \"best_metric\": 0.8860915}], \"children_metrics\": {\"categories\": [0], \"series\": {\"f1_score_macro\": [{\"categories\": [\"0\", \"5\", \"12\", \"17\", \"22\", \"24\", \"25\", \"26\", \"27\", \"28\", \"29\", \"30\", \"31\", \"32\", \"33\", \"34\", \"35\", \"36\", \"41\"], \"mode\": \"markers\", \"name\": \"f1_score_macro\", \"stepped\": false, \"type\": \"scatter\", \"data\": [0.8191761048190096, 0.5436535511637438, 0.7723704135119394, 0.7482041116381251, 0.7859033251200929, 0.5585904293592954, 0.8103190177008923, 0.7751049501246197, 0.7801109909520647, 0.7945288202981666, 0.7274911773515125, 0.6890757967221055, 0.8110819586818524, 0.8059708892162958, 0.8209291000731574, 0.785732410647436, 0.4315881326352531, 0.7904809458512627, 0.8321817893700194]}, {\"categories\": [\"0\", \"5\", \"12\", \"17\", \"22\", \"24\", \"25\", \"26\", \"27\", \"28\", \"29\", \"30\", \"31\", \"32\", \"33\", \"34\", \"35\", \"36\", \"41\"], \"mode\": \"lines\", \"name\": \"f1_score_macro_max\", \"stepped\": true, \"type\": \"scatter\", \"data\": [0.8191761048190096, 0.8191761048190096, 0.8191761048190096, 0.8191761048190096, 0.8191761048190096, 0.8191761048190096, 0.8191761048190096, 0.8191761048190096, 0.8191761048190096, 0.8191761048190096, 0.8191761048190096, 0.8191761048190096, 0.8191761048190096, 0.8191761048190096, 0.8209291000731574, 0.8209291000731574, 0.8209291000731574, 0.8209291000731574, 0.8321817893700194]}], \"precision_score_micro\": [{\"categories\": [\"0\", \"5\", \"12\", \"17\", \"22\", \"24\", \"25\", \"26\", \"27\", \"28\", \"29\", \"30\", \"31\", \"32\", \"33\", \"34\", \"35\", \"36\", \"41\"], \"mode\": \"markers\", \"name\": \"precision_score_micro\", \"stepped\": false, \"type\": \"scatter\", \"data\": [0.8765735339269266, 0.7875345409886398, 0.8452563708934603, 0.8467915259441203, 0.8578446423088733, 0.7915259441203562, 0.8753454098863985, 0.8458704329137243, 0.8480196499846484, 0.8578446423088733, 0.84218606079214, 0.8283696653361989, 0.868590727663494, 0.8627571384709856, 0.8796438440282468, 0.8645993245317777, 0.7592876880564937, 0.8581516733190052, 0.8860914952410194]}, {\"categories\": [\"0\", \"5\", \"12\", \"17\", \"22\", \"24\", \"25\", \"26\", \"27\", \"28\", \"29\", \"30\", \"31\", \"32\", \"33\", \"34\", \"35\", \"36\", \"41\"], \"mode\": \"lines\", \"name\": \"precision_score_micro_max\", \"stepped\": true, \"type\": \"scatter\", \"data\": [0.8765735339269266, 0.8765735339269266, 0.8765735339269266, 0.8765735339269266, 0.8765735339269266, 0.8765735339269266, 0.8765735339269266, 0.8765735339269266, 0.8765735339269266, 0.8765735339269266, 0.8765735339269266, 0.8765735339269266, 0.8765735339269266, 0.8765735339269266, 0.8796438440282468, 0.8796438440282468, 0.8796438440282468, 0.8796438440282468, 0.8860914952410194]}], \"recall_score_micro\": [{\"categories\": [\"0\", \"5\", \"12\", \"17\", \"22\", \"24\", \"25\", \"26\", \"27\", \"28\", \"29\", \"30\", \"31\", \"32\", \"33\", \"34\", \"35\", \"36\", \"41\"], \"mode\": \"markers\", \"name\": \"recall_score_micro\", \"stepped\": false, \"type\": \"scatter\", \"data\": [0.8765735339269266, 0.7875345409886398, 0.8452563708934603, 0.8467915259441203, 0.8578446423088733, 0.7915259441203562, 0.8753454098863985, 0.8458704329137243, 0.8480196499846484, 0.8578446423088733, 0.84218606079214, 0.8283696653361989, 0.868590727663494, 0.8627571384709856, 0.8796438440282468, 0.8645993245317777, 0.7592876880564937, 0.8581516733190052, 0.8860914952410194]}, {\"categories\": [\"0\", \"5\", \"12\", \"17\", \"22\", \"24\", \"25\", \"26\", \"27\", \"28\", \"29\", \"30\", \"31\", \"32\", \"33\", \"34\", \"35\", \"36\", \"41\"], \"mode\": \"lines\", \"name\": \"recall_score_micro_max\", \"stepped\": true, \"type\": \"scatter\", \"data\": [0.8765735339269266, 0.8765735339269266, 0.8765735339269266, 0.8765735339269266, 0.8765735339269266, 0.8765735339269266, 0.8765735339269266, 0.8765735339269266, 0.8765735339269266, 0.8765735339269266, 0.8765735339269266, 0.8765735339269266, 0.8765735339269266, 0.8765735339269266, 0.8796438440282468, 0.8796438440282468, 0.8796438440282468, 0.8796438440282468, 0.8860914952410194]}], \"average_precision_score_macro\": [{\"categories\": [\"0\", \"5\", \"12\", \"17\", \"22\", \"24\", \"25\", \"26\", \"27\", \"28\", \"29\", \"30\", \"31\", \"32\", \"33\", \"34\", \"35\", \"36\", \"41\"], \"mode\": \"markers\", \"name\": \"average_precision_score_macro\", \"stepped\": false, \"type\": \"scatter\", \"data\": [0.9104549072216604, 0.8847385720502039, 0.8625403408733952, 0.869006214870609, 0.8764561964433725, 0.8518398196580281, 0.9097208379946868, 0.8584262830144047, 0.8717849641528616, 0.8814708569276968, 0.8537710824900019, 0.8487275777464652, 0.8935145411674354, 0.8866773724830959, 0.9104934695125522, 0.8835994026566066, 0.5, 0.8847256502886327, 0.9102401635652664]}, {\"categories\": [\"0\", \"5\", \"12\", \"17\", \"22\", \"24\", \"25\", \"26\", \"27\", \"28\", \"29\", \"30\", \"31\", \"32\", \"33\", \"34\", \"35\", \"36\", \"41\"], \"mode\": \"lines\", \"name\": \"average_precision_score_macro_max\", \"stepped\": true, \"type\": \"scatter\", \"data\": [0.9104549072216604, 0.9104549072216604, 0.9104549072216604, 0.9104549072216604, 0.9104549072216604, 0.9104549072216604, 0.9104549072216604, 0.9104549072216604, 0.9104549072216604, 0.9104549072216604, 0.9104549072216604, 0.9104549072216604, 0.9104549072216604, 0.9104549072216604, 0.9104934695125522, 0.9104934695125522, 0.9104934695125522, 0.9104934695125522, 0.9104934695125522]}], \"recall_score_macro\": [{\"categories\": [\"0\", \"5\", \"12\", \"17\", \"22\", \"24\", \"25\", \"26\", \"27\", \"28\", \"29\", \"30\", \"31\", \"32\", \"33\", \"34\", \"35\", \"36\", \"41\"], \"mode\": \"markers\", \"name\": \"recall_score_macro\", \"stepped\": false, \"type\": \"scatter\", \"data\": [0.7993756034561014, 0.5586734693877551, 0.7547964444572814, 0.7144280680327125, 0.7622148283090024, 0.5673998572336334, 0.7820151513901152, 0.7591209552967972, 0.7657630986078217, 0.7796376890829118, 0.6917945959216683, 0.6583043296170066, 0.7967322594221675, 0.7963753435057808, 0.7970417240895549, 0.7522890069897753, 0.5, 0.7706928707593025, 0.8099990097130643]}, {\"categories\": [\"0\", \"5\", \"12\", \"17\", \"22\", \"24\", \"25\", \"26\", \"27\", \"28\", \"29\", \"30\", \"31\", \"32\", \"33\", \"34\", \"35\", \"36\", \"41\"], \"mode\": \"lines\", \"name\": \"recall_score_macro_max\", \"stepped\": true, \"type\": \"scatter\", \"data\": [0.7993756034561014, 0.7993756034561014, 0.7993756034561014, 0.7993756034561014, 0.7993756034561014, 0.7993756034561014, 0.7993756034561014, 0.7993756034561014, 0.7993756034561014, 0.7993756034561014, 0.7993756034561014, 0.7993756034561014, 0.7993756034561014, 0.7993756034561014, 0.7993756034561014, 0.7993756034561014, 0.7993756034561014, 0.7993756034561014, 0.8099990097130643]}], \"weighted_accuracy\": [{\"categories\": [\"0\", \"5\", \"12\", \"17\", \"22\", \"24\", \"25\", \"26\", \"27\", \"28\", \"29\", \"30\", \"31\", \"32\", \"33\", \"34\", \"35\", \"36\", \"41\"], \"mode\": \"markers\", \"name\": \"weighted_accuracy\", \"stepped\": false, \"type\": \"scatter\", \"data\": [0.9210505788301858, 0.919391238391266, 0.8973742215341323, 0.9230518016428483, 0.9129410873226421, 0.9206546133690718, 0.9291169821637248, 0.8958505345533726, 0.895411183758433, 0.9029030285786029, 0.9288330459550236, 0.926351612872072, 0.9099914789421408, 0.9010025429451659, 0.9272344746994415, 0.9293061243896152, 0.9086744666166945, 0.908540447537548, 0.9299316458122382]}, {\"categories\": [\"0\", \"5\", \"12\", \"17\", \"22\", \"24\", \"25\", \"26\", \"27\", \"28\", \"29\", \"30\", \"31\", \"32\", \"33\", \"34\", \"35\", \"36\", \"41\"], \"mode\": \"lines\", \"name\": \"weighted_accuracy_max\", \"stepped\": true, \"type\": \"scatter\", \"data\": [0.9210505788301858, 0.9210505788301858, 0.9210505788301858, 0.9230518016428483, 0.9230518016428483, 0.9230518016428483, 0.9291169821637248, 0.9291169821637248, 0.9291169821637248, 0.9291169821637248, 0.9291169821637248, 0.9291169821637248, 0.9291169821637248, 0.9291169821637248, 0.9291169821637248, 0.9293061243896152, 0.9293061243896152, 0.9293061243896152, 0.9299316458122382]}], \"accuracy\": [{\"categories\": [\"0\", \"5\", \"12\", \"17\", \"22\", \"24\", \"25\", \"26\", \"27\", \"28\", \"29\", \"30\", \"31\", \"32\", \"33\", \"34\", \"35\", \"36\", \"41\"], \"mode\": \"markers\", \"name\": \"accuracy\", \"stepped\": false, \"type\": \"scatter\", \"data\": [0.8765735339269266, 0.7875345409886398, 0.8452563708934603, 0.8467915259441203, 0.8578446423088733, 0.7915259441203562, 0.8753454098863985, 0.8458704329137243, 0.8480196499846484, 0.8578446423088733, 0.84218606079214, 0.8283696653361989, 0.868590727663494, 0.8627571384709856, 0.8796438440282468, 0.8645993245317777, 0.7592876880564937, 0.8581516733190052, 0.8860914952410194]}, {\"categories\": [\"0\", \"5\", \"12\", \"17\", \"22\", \"24\", \"25\", \"26\", \"27\", \"28\", \"29\", \"30\", \"31\", \"32\", \"33\", \"34\", \"35\", \"36\", \"41\"], \"mode\": \"lines\", \"name\": \"accuracy_max\", \"stepped\": true, \"type\": \"scatter\", \"data\": [0.8765735339269266, 0.8765735339269266, 0.8765735339269266, 0.8765735339269266, 0.8765735339269266, 0.8765735339269266, 0.8765735339269266, 0.8765735339269266, 0.8765735339269266, 0.8765735339269266, 0.8765735339269266, 0.8765735339269266, 0.8765735339269266, 0.8765735339269266, 0.8796438440282468, 0.8796438440282468, 0.8796438440282468, 0.8796438440282468, 0.8860914952410194]}], \"average_precision_score_weighted\": [{\"categories\": [\"0\", \"5\", \"12\", \"17\", \"22\", \"24\", \"25\", \"26\", \"27\", \"28\", \"29\", \"30\", \"31\", \"32\", \"33\", \"34\", \"35\", \"36\", \"41\"], \"mode\": \"markers\", \"name\": \"average_precision_score_weighted\", \"stepped\": false, \"type\": \"scatter\", \"data\": [0.9447106270530274, 0.9284160432595987, 0.9170869033473547, 0.919886797956667, 0.9239448747058141, 0.9079584354554283, 0.944355899720366, 0.9145819971402622, 0.9211324852978277, 0.9277017976321913, 0.9090626156113878, 0.9064684281903526, 0.9337009843151745, 0.9293489221000075, 0.9448453438632254, 0.9272028382480272, 0.6344602103553632, 0.9299467532343336, 0.944515824311521]}, {\"categories\": [\"0\", \"5\", \"12\", \"17\", \"22\", \"24\", \"25\", \"26\", \"27\", \"28\", \"29\", \"30\", \"31\", \"32\", \"33\", \"34\", \"35\", \"36\", \"41\"], \"mode\": \"lines\", \"name\": \"average_precision_score_weighted_max\", \"stepped\": true, \"type\": \"scatter\", \"data\": [0.9447106270530274, 0.9447106270530274, 0.9447106270530274, 0.9447106270530274, 0.9447106270530274, 0.9447106270530274, 0.9447106270530274, 0.9447106270530274, 0.9447106270530274, 0.9447106270530274, 0.9447106270530274, 0.9447106270530274, 0.9447106270530274, 0.9447106270530274, 0.9448453438632254, 0.9448453438632254, 0.9448453438632254, 0.9448453438632254, 0.9448453438632254]}], \"f1_score_weighted\": [{\"categories\": [\"0\", \"5\", \"12\", \"17\", \"22\", \"24\", \"25\", \"26\", \"27\", \"28\", \"29\", \"30\", \"31\", \"32\", \"33\", \"34\", \"35\", \"36\", \"41\"], \"mode\": \"markers\", \"name\": \"f1_score_weighted\", \"stepped\": false, \"type\": \"scatter\", \"data\": [0.8720067630006291, 0.7166543877089978, 0.8391660630059105, 0.8299087940536434, 0.8502618445755219, 0.7248744887132395, 0.8679118737057796, 0.8405252568738247, 0.843479899850426, 0.8536772845548499, 0.8191710912801541, 0.7969965967630247, 0.8651344410469012, 0.8604044732067447, 0.8741029352153268, 0.8531444640637584, 0.6553991108424814, 0.8522291137027036, 0.8815065419247967]}, {\"categories\": [\"0\", \"5\", \"12\", \"17\", \"22\", \"24\", \"25\", \"26\", \"27\", \"28\", \"29\", \"30\", \"31\", \"32\", \"33\", \"34\", \"35\", \"36\", \"41\"], \"mode\": \"lines\", \"name\": \"f1_score_weighted_max\", \"stepped\": true, \"type\": \"scatter\", \"data\": [0.8720067630006291, 0.8720067630006291, 0.8720067630006291, 0.8720067630006291, 0.8720067630006291, 0.8720067630006291, 0.8720067630006291, 0.8720067630006291, 0.8720067630006291, 0.8720067630006291, 0.8720067630006291, 0.8720067630006291, 0.8720067630006291, 0.8720067630006291, 0.8741029352153268, 0.8741029352153268, 0.8741029352153268, 0.8741029352153268, 0.8815065419247967]}], \"f1_score_micro\": [{\"categories\": [\"0\", \"5\", \"12\", \"17\", \"22\", \"24\", \"25\", \"26\", \"27\", \"28\", \"29\", \"30\", \"31\", \"32\", \"33\", \"34\", \"35\", \"36\", \"41\"], \"mode\": \"markers\", \"name\": \"f1_score_micro\", \"stepped\": false, \"type\": \"scatter\", \"data\": [0.8765735339269266, 0.7875345409886398, 0.8452563708934603, 0.8467915259441203, 0.8578446423088733, 0.791525944120356, 0.8753454098863985, 0.8458704329137243, 0.8480196499846484, 0.8578446423088733, 0.84218606079214, 0.8283696653361989, 0.868590727663494, 0.8627571384709856, 0.8796438440282468, 0.8645993245317777, 0.7592876880564937, 0.8581516733190052, 0.8860914952410194]}, {\"categories\": [\"0\", \"5\", \"12\", \"17\", \"22\", \"24\", \"25\", \"26\", \"27\", \"28\", \"29\", \"30\", \"31\", \"32\", \"33\", \"34\", \"35\", \"36\", \"41\"], \"mode\": \"lines\", \"name\": \"f1_score_micro_max\", \"stepped\": true, \"type\": \"scatter\", \"data\": [0.8765735339269266, 0.8765735339269266, 0.8765735339269266, 0.8765735339269266, 0.8765735339269266, 0.8765735339269266, 0.8765735339269266, 0.8765735339269266, 0.8765735339269266, 0.8765735339269266, 0.8765735339269266, 0.8765735339269266, 0.8765735339269266, 0.8765735339269266, 0.8796438440282468, 0.8796438440282468, 0.8796438440282468, 0.8796438440282468, 0.8860914952410194]}], \"precision_score_macro\": [{\"categories\": [\"0\", \"5\", \"12\", \"17\", \"22\", \"24\", \"25\", \"26\", \"27\", \"28\", \"29\", \"30\", \"31\", \"32\", \"33\", \"34\", \"35\", \"36\", \"41\"], \"mode\": \"markers\", \"name\": \"precision_score_macro\", \"stepped\": false, \"type\": \"scatter\", \"data\": [0.8473764783754119, 0.8906793048973144, 0.7984921541259569, 0.8386690779344559, 0.8252408644249962, 0.8877080551846908, 0.8589901162492959, 0.7978539235646283, 0.7996065871933258, 0.8145424324700641, 0.8565541939937866, 0.8534167691478631, 0.8297389434396558, 0.8174345903173451, 0.8575790765134808, 0.8565931822820984, 0.37964384402824686, 0.8202181858118208, 0.8644829321835525]}, {\"categories\": [\"0\", \"5\", \"12\", \"17\", \"22\", \"24\", \"25\", \"26\", \"27\", \"28\", \"29\", \"30\", \"31\", \"32\", \"33\", \"34\", \"35\", \"36\", \"41\"], \"mode\": \"lines\", \"name\": \"precision_score_macro_max\", \"stepped\": true, \"type\": \"scatter\", \"data\": [0.8473764783754119, 0.8906793048973144, 0.8906793048973144, 0.8906793048973144, 0.8906793048973144, 0.8906793048973144, 0.8906793048973144, 0.8906793048973144, 0.8906793048973144, 0.8906793048973144, 0.8906793048973144, 0.8906793048973144, 0.8906793048973144, 0.8906793048973144, 0.8906793048973144, 0.8906793048973144, 0.8906793048973144, 0.8906793048973144, 0.8906793048973144]}], \"norm_macro_recall\": [{\"categories\": [\"0\", \"5\", \"12\", \"17\", \"22\", \"24\", \"25\", \"26\", \"27\", \"28\", \"29\", \"30\", \"31\", \"32\", \"33\", \"34\", \"35\", \"36\", \"41\"], \"mode\": \"markers\", \"name\": \"norm_macro_recall\", \"stepped\": false, \"type\": \"scatter\", \"data\": [0.5987512069122027, 0.11734693877551017, 0.5095928889145629, 0.42885613606542505, 0.5244296566180049, 0.1347997144672668, 0.5640303027802305, 0.5182419105935945, 0.5315261972156433, 0.5592753781658235, 0.3835891918433365, 0.31660865923401316, 0.593464518844335, 0.5927506870115615, 0.5940834481791097, 0.5045780139795506, 0.0, 0.541385741518605, 0.6199980194261285]}, {\"categories\": [\"0\", \"5\", \"12\", \"17\", \"22\", \"24\", \"25\", \"26\", \"27\", \"28\", \"29\", \"30\", \"31\", \"32\", \"33\", \"34\", \"35\", \"36\", \"41\"], \"mode\": \"lines\", \"name\": \"norm_macro_recall_max\", \"stepped\": true, \"type\": \"scatter\", \"data\": [0.5987512069122027, 0.5987512069122027, 0.5987512069122027, 0.5987512069122027, 0.5987512069122027, 0.5987512069122027, 0.5987512069122027, 0.5987512069122027, 0.5987512069122027, 0.5987512069122027, 0.5987512069122027, 0.5987512069122027, 0.5987512069122027, 0.5987512069122027, 0.5987512069122027, 0.5987512069122027, 0.5987512069122027, 0.5987512069122027, 0.6199980194261285]}], \"balanced_accuracy\": [{\"categories\": [\"0\", \"5\", \"12\", \"17\", \"22\", \"24\", \"25\", \"26\", \"27\", \"28\", \"29\", \"30\", \"31\", \"32\", \"33\", \"34\", \"35\", \"36\", \"41\"], \"mode\": \"markers\", \"name\": \"balanced_accuracy\", \"stepped\": false, \"type\": \"scatter\", \"data\": [0.7993756034561014, 0.5586734693877551, 0.7547964444572814, 0.7144280680327125, 0.7622148283090024, 0.5673998572336334, 0.7820151513901152, 0.7591209552967972, 0.7657630986078217, 0.7796376890829118, 0.6917945959216683, 0.6583043296170066, 0.7967322594221675, 0.7963753435057808, 0.7970417240895549, 0.7522890069897753, 0.5, 0.7706928707593025, 0.8099990097130643]}, {\"categories\": [\"0\", \"5\", \"12\", \"17\", \"22\", \"24\", \"25\", \"26\", \"27\", \"28\", \"29\", \"30\", \"31\", \"32\", \"33\", \"34\", \"35\", \"36\", \"41\"], \"mode\": \"lines\", \"name\": \"balanced_accuracy_max\", \"stepped\": true, \"type\": \"scatter\", \"data\": [0.7993756034561014, 0.7993756034561014, 0.7993756034561014, 0.7993756034561014, 0.7993756034561014, 0.7993756034561014, 0.7993756034561014, 0.7993756034561014, 0.7993756034561014, 0.7993756034561014, 0.7993756034561014, 0.7993756034561014, 0.7993756034561014, 0.7993756034561014, 0.7993756034561014, 0.7993756034561014, 0.7993756034561014, 0.7993756034561014, 0.8099990097130643]}], \"recall_score_weighted\": [{\"categories\": [\"0\", \"5\", \"12\", \"17\", \"22\", \"24\", \"25\", \"26\", \"27\", \"28\", \"29\", \"30\", \"31\", \"32\", \"33\", \"34\", \"35\", \"36\", \"41\"], \"mode\": \"markers\", \"name\": \"recall_score_weighted\", \"stepped\": false, \"type\": \"scatter\", \"data\": [0.8765735339269266, 0.7875345409886398, 0.8452563708934603, 0.8467915259441203, 0.8578446423088733, 0.7915259441203562, 0.8753454098863985, 0.8458704329137243, 0.8480196499846484, 0.8578446423088733, 0.84218606079214, 0.8283696653361989, 0.868590727663494, 0.8627571384709856, 0.8796438440282468, 0.8645993245317777, 0.7592876880564937, 0.8581516733190052, 0.8860914952410194]}, {\"categories\": [\"0\", \"5\", \"12\", \"17\", \"22\", \"24\", \"25\", \"26\", \"27\", \"28\", \"29\", \"30\", \"31\", \"32\", \"33\", \"34\", \"35\", \"36\", \"41\"], \"mode\": \"lines\", \"name\": \"recall_score_weighted_max\", \"stepped\": true, \"type\": \"scatter\", \"data\": [0.8765735339269266, 0.8765735339269266, 0.8765735339269266, 0.8765735339269266, 0.8765735339269266, 0.8765735339269266, 0.8765735339269266, 0.8765735339269266, 0.8765735339269266, 0.8765735339269266, 0.8765735339269266, 0.8765735339269266, 0.8765735339269266, 0.8765735339269266, 0.8796438440282468, 0.8796438440282468, 0.8796438440282468, 0.8796438440282468, 0.8860914952410194]}], \"AUC_micro\": [{\"categories\": [\"0\", \"5\", \"12\", \"17\", \"22\", \"24\", \"25\", \"26\", \"27\", \"28\", \"29\", \"30\", \"31\", \"32\", \"33\", \"34\", \"35\", \"36\", \"41\"], \"mode\": \"markers\", \"name\": \"AUC_micro\", \"stepped\": false, \"type\": \"scatter\", \"data\": [0.9554501492215959, 0.9129670309780809, 0.9347846149654851, 0.928183872453832, 0.9405797899312117, 0.9085325680528059, 0.9544632570984541, 0.9330862819355378, 0.9367775356241286, 0.9420509841159292, 0.9257828654449087, 0.9216558106019308, 0.9470664681130339, 0.9432322569399895, 0.9553101140464187, 0.9390111225919112, 0.7592876880564937, 0.94384443359943, 0.9548317508714373]}, {\"categories\": [\"0\", \"5\", \"12\", \"17\", \"22\", \"24\", \"25\", \"26\", \"27\", \"28\", \"29\", \"30\", \"31\", \"32\", \"33\", \"34\", \"35\", \"36\", \"41\"], \"mode\": \"lines\", \"name\": \"AUC_micro_max\", \"stepped\": true, \"type\": \"scatter\", \"data\": [0.9554501492215959, 0.9554501492215959, 0.9554501492215959, 0.9554501492215959, 0.9554501492215959, 0.9554501492215959, 0.9554501492215959, 0.9554501492215959, 0.9554501492215959, 0.9554501492215959, 0.9554501492215959, 0.9554501492215959, 0.9554501492215959, 0.9554501492215959, 0.9554501492215959, 0.9554501492215959, 0.9554501492215959, 0.9554501492215959, 0.9554501492215959]}], \"AUC_macro\": [{\"categories\": [\"0\", \"5\", \"12\", \"17\", \"22\", \"24\", \"25\", \"26\", \"27\", \"28\", \"29\", \"30\", \"31\", \"32\", \"33\", \"34\", \"35\", \"36\", \"41\"], \"mode\": \"markers\", \"name\": \"AUC_macro\", \"stepped\": false, \"type\": \"scatter\", \"data\": [0.9326958189260337, 0.9125514742896753, 0.9049236860130223, 0.9031757264167293, 0.9120351840695842, 0.8894736624937076, 0.9323881594692062, 0.9018971215659737, 0.905389946111886, 0.9140093107602928, 0.897082109228649, 0.8964701428488904, 0.9194010878714609, 0.9138465839226917, 0.9331802600741065, 0.9092922955676406, 0.5, 0.9173329612880332, 0.9322303324888387]}, {\"categories\": [\"0\", \"5\", \"12\", \"17\", \"22\", \"24\", \"25\", \"26\", \"27\", \"28\", \"29\", \"30\", \"31\", \"32\", \"33\", \"34\", \"35\", \"36\", \"41\"], \"mode\": \"lines\", \"name\": \"AUC_macro_max\", \"stepped\": true, \"type\": \"scatter\", \"data\": [0.9326958189260337, 0.9326958189260337, 0.9326958189260337, 0.9326958189260337, 0.9326958189260337, 0.9326958189260337, 0.9326958189260337, 0.9326958189260337, 0.9326958189260337, 0.9326958189260337, 0.9326958189260337, 0.9326958189260337, 0.9326958189260337, 0.9326958189260337, 0.9331802600741065, 0.9331802600741065, 0.9331802600741065, 0.9331802600741065, 0.9331802600741065]}], \"matthews_correlation\": [{\"categories\": [\"0\", \"5\", \"12\", \"17\", \"22\", \"24\", \"25\", \"26\", \"27\", \"28\", \"29\", \"30\", \"31\", \"32\", \"33\", \"34\", \"35\", \"36\", \"41\"], \"mode\": \"markers\", \"name\": \"matthews_correlation\", \"stepped\": false, \"type\": \"scatter\", \"data\": [0.6449683491151927, 0.3028036342999999, 0.5515604756314169, 0.5389625444644758, 0.5840649875631031, 0.3233046091089815, 0.6363667244022122, 0.5556264688186325, 0.564355827384861, 0.5931540067619759, 0.5230111569028502, 0.4730640747947822, 0.6256010924105787, 0.6134485658828128, 0.6518156346265874, 0.5998817878791606, 0.0, 0.5888319963681917, 0.6722777641249643]}, {\"categories\": [\"0\", \"5\", \"12\", \"17\", \"22\", \"24\", \"25\", \"26\", \"27\", \"28\", \"29\", \"30\", \"31\", \"32\", \"33\", \"34\", \"35\", \"36\", \"41\"], \"mode\": \"lines\", \"name\": \"matthews_correlation_max\", \"stepped\": true, \"type\": \"scatter\", \"data\": [0.6449683491151927, 0.6449683491151927, 0.6449683491151927, 0.6449683491151927, 0.6449683491151927, 0.6449683491151927, 0.6449683491151927, 0.6449683491151927, 0.6449683491151927, 0.6449683491151927, 0.6449683491151927, 0.6449683491151927, 0.6449683491151927, 0.6449683491151927, 0.6518156346265874, 0.6518156346265874, 0.6518156346265874, 0.6518156346265874, 0.6722777641249643]}], \"precision_score_weighted\": [{\"categories\": [\"0\", \"5\", \"12\", \"17\", \"22\", \"24\", \"25\", \"26\", \"27\", \"28\", \"29\", \"30\", \"31\", \"32\", \"33\", \"34\", \"35\", \"36\", \"41\"], \"mode\": \"markers\", \"name\": \"precision_score_weighted\", \"stepped\": false, \"type\": \"scatter\", \"data\": [0.8722698790955068, 0.8339882843175059, 0.8380438627490481, 0.8444163819513486, 0.851626959703323, 0.8343227165098103, 0.8719896884625036, 0.8391261293104925, 0.8419523474494336, 0.8524964710885118, 0.8469886532064074, 0.8375782972879228, 0.8641854859877203, 0.8591510937677531, 0.8758384554122755, 0.8625686017516999, 0.5765177932341753, 0.8520461343461648, 0.8827040320358048]}, {\"categories\": [\"0\", \"5\", \"12\", \"17\", \"22\", \"24\", \"25\", \"26\", \"27\", \"28\", \"29\", \"30\", \"31\", \"32\", \"33\", \"34\", \"35\", \"36\", \"41\"], \"mode\": \"lines\", \"name\": \"precision_score_weighted_max\", \"stepped\": true, \"type\": \"scatter\", \"data\": [0.8722698790955068, 0.8722698790955068, 0.8722698790955068, 0.8722698790955068, 0.8722698790955068, 0.8722698790955068, 0.8722698790955068, 0.8722698790955068, 0.8722698790955068, 0.8722698790955068, 0.8722698790955068, 0.8722698790955068, 0.8722698790955068, 0.8722698790955068, 0.8758384554122755, 0.8758384554122755, 0.8758384554122755, 0.8758384554122755, 0.8827040320358048]}], \"log_loss\": [{\"categories\": [\"0\", \"5\", \"12\", \"17\", \"22\", \"24\", \"25\", \"26\", \"27\", \"28\", \"29\", \"30\", \"31\", \"32\", \"33\", \"34\", \"35\", \"36\", \"41\"], \"mode\": \"markers\", \"name\": \"log_loss\", \"stepped\": false, \"type\": \"scatter\", \"data\": [0.26926897027912494, 0.41613477669059845, 0.32331461205969847, 0.3559470160883594, 0.3334643883422053, 0.4139498485234572, 0.2789301444741366, 0.3278252191768622, 0.3467567654578481, 0.30620162557512676, 0.3659076214451304, 0.3955575399673076, 0.3100588423213096, 0.33400533633657425, 0.2711367700541684, 0.5320458105019885, 0.5520467384272731, 0.30133675758883244, 0.3333617560596648]}, {\"categories\": [\"0\", \"5\", \"12\", \"17\", \"22\", \"24\", \"25\", \"26\", \"27\", \"28\", \"29\", \"30\", \"31\", \"32\", \"33\", \"34\", \"35\", \"36\", \"41\"], \"mode\": \"lines\", \"name\": \"log_loss_min\", \"stepped\": true, \"type\": \"scatter\", \"data\": [0.26926897027912494, 0.26926897027912494, 0.26926897027912494, 0.26926897027912494, 0.26926897027912494, 0.26926897027912494, 0.26926897027912494, 0.26926897027912494, 0.26926897027912494, 0.26926897027912494, 0.26926897027912494, 0.26926897027912494, 0.26926897027912494, 0.26926897027912494, 0.26926897027912494, 0.26926897027912494, 0.26926897027912494, 0.26926897027912494, 0.26926897027912494]}], \"AUC_weighted\": [{\"categories\": [\"0\", \"5\", \"12\", \"17\", \"22\", \"24\", \"25\", \"26\", \"27\", \"28\", \"29\", \"30\", \"31\", \"32\", \"33\", \"34\", \"35\", \"36\", \"41\"], \"mode\": \"markers\", \"name\": \"AUC_weighted\", \"stepped\": false, \"type\": \"scatter\", \"data\": [0.9326958189260338, 0.9125514742896753, 0.9049236860130223, 0.9031757264167294, 0.9120351840695841, 0.8894736624937075, 0.9323881594692062, 0.9018971215659738, 0.905389946111886, 0.9140093107602927, 0.8970821092286491, 0.8964701428488904, 0.9194011547384426, 0.9138465839226916, 0.9331803269410882, 0.9092922955676406, 0.5, 0.9173329612880332, 0.9322303324888388]}, {\"categories\": [\"0\", \"5\", \"12\", \"17\", \"22\", \"24\", \"25\", \"26\", \"27\", \"28\", \"29\", \"30\", \"31\", \"32\", \"33\", \"34\", \"35\", \"36\", \"41\"], \"mode\": \"lines\", \"name\": \"AUC_weighted_max\", \"stepped\": true, \"type\": \"scatter\", \"data\": [0.9326958189260338, 0.9326958189260338, 0.9326958189260338, 0.9326958189260338, 0.9326958189260338, 0.9326958189260338, 0.9326958189260338, 0.9326958189260338, 0.9326958189260338, 0.9326958189260338, 0.9326958189260338, 0.9326958189260338, 0.9326958189260338, 0.9326958189260338, 0.9331803269410882, 0.9331803269410882, 0.9331803269410882, 0.9331803269410882, 0.9331803269410882]}], \"average_precision_score_micro\": [{\"categories\": [\"0\", \"5\", \"12\", \"17\", \"22\", \"24\", \"25\", \"26\", \"27\", \"28\", \"29\", \"30\", \"31\", \"32\", \"33\", \"34\", \"35\", \"36\", \"41\"], \"mode\": \"markers\", \"name\": \"average_precision_score_micro\", \"stepped\": false, \"type\": \"scatter\", \"data\": [0.9568498401550638, 0.9175170915273444, 0.9370424264444103, 0.93096472040453, 0.94105119396958, 0.9115557876277581, 0.9559146985130074, 0.935394801841145, 0.9387115004722346, 0.9440858821150047, 0.9244379211935163, 0.9205205250333187, 0.948199926443845, 0.9445221701690422, 0.9566712726361161, 0.9403539653671541, 0.6968739492059284, 0.9458754136870385, 0.9559420464518574]}, {\"categories\": [\"0\", \"5\", \"12\", \"17\", \"22\", \"24\", \"25\", \"26\", \"27\", \"28\", \"29\", \"30\", \"31\", \"32\", \"33\", \"34\", \"35\", \"36\", \"41\"], \"mode\": \"lines\", \"name\": \"average_precision_score_micro_max\", \"stepped\": true, \"type\": \"scatter\", \"data\": [0.9568498401550638, 0.9568498401550638, 0.9568498401550638, 0.9568498401550638, 0.9568498401550638, 0.9568498401550638, 0.9568498401550638, 0.9568498401550638, 0.9568498401550638, 0.9568498401550638, 0.9568498401550638, 0.9568498401550638, 0.9568498401550638, 0.9568498401550638, 0.9568498401550638, 0.9568498401550638, 0.9568498401550638, 0.9568498401550638, 0.9568498401550638]}]}, \"metricName\": null, \"primaryMetricName\": \"accuracy\", \"showLegend\": false}, \"run_metrics\": [{\"name\": \"experiment_status\", \"run_id\": \"AutoML_6153b81f-cfb1-45cc-82ff-928ca40cb597\", \"categories\": [0, 1, 2, 3, 4, 5, 6, 7, 8, 9, 10, 11, 12], \"series\": [{\"data\": [\"DatasetEvaluation\", \"FeaturesGeneration\", \"DatasetFeaturization\", \"DatasetFeaturizationCompleted\", \"ModelSelection\", \"BestRunExplainModel\", \"ModelExplanationDataSetSetup\", \"PickSurrogateModel\", \"EngineeredFeatureExplanations\", \"EngineeredFeatureExplanations\", \"RawFeaturesExplanations\", \"RawFeaturesExplanations\", \"BestRunExplainModel\"]}]}, {\"name\": \"experiment_status_description\", \"run_id\": \"AutoML_6153b81f-cfb1-45cc-82ff-928ca40cb597\", \"categories\": [0, 1, 2, 3, 4, 5, 6, 7, 8, 9, 10, 11, 12], \"series\": [{\"data\": [\"Gathering dataset statistics.\", \"Generating features for the dataset.\", \"Beginning to fit featurizers and featurize the dataset.\", \"Completed fit featurizers and featurizing the dataset.\", \"Beginning model selection.\", \"Best run model explanations started\", \"Model explanations data setup completed\", \"Choosing LightGBM as the surrogate model for explanations\", \"Computation of engineered features started\", \"Computation of engineered features completed\", \"Computation of raw features started\", \"Computation of raw features completed\", \"Best run model explanations completed\"]}]}, {\"name\": \"f1_score_macro\", \"run_id\": \"AutoML_6153b81f-cfb1-45cc-82ff-928ca40cb597\", \"categories\": [0], \"series\": [{\"data\": [0.8321817893700194]}]}, {\"name\": \"accuracy\", \"run_id\": \"AutoML_6153b81f-cfb1-45cc-82ff-928ca40cb597\", \"categories\": [0], \"series\": [{\"data\": [0.8860914952410194]}]}, {\"name\": \"matthews_correlation\", \"run_id\": \"AutoML_6153b81f-cfb1-45cc-82ff-928ca40cb597\", \"categories\": [0], \"series\": [{\"data\": [0.6722777641249643]}]}, {\"name\": \"balanced_accuracy\", \"run_id\": \"AutoML_6153b81f-cfb1-45cc-82ff-928ca40cb597\", \"categories\": [0], \"series\": [{\"data\": [0.8099990097130643]}]}, {\"name\": \"AUC_macro\", \"run_id\": \"AutoML_6153b81f-cfb1-45cc-82ff-928ca40cb597\", \"categories\": [0], \"series\": [{\"data\": [0.9322303324888387]}]}, {\"name\": \"log_loss\", \"run_id\": \"AutoML_6153b81f-cfb1-45cc-82ff-928ca40cb597\", \"categories\": [0], \"series\": [{\"data\": [0.3333617560596648]}]}, {\"name\": \"average_precision_score_micro\", \"run_id\": \"AutoML_6153b81f-cfb1-45cc-82ff-928ca40cb597\", \"categories\": [0], \"series\": [{\"data\": [0.9559420464518574]}]}, {\"name\": \"norm_macro_recall\", \"run_id\": \"AutoML_6153b81f-cfb1-45cc-82ff-928ca40cb597\", \"categories\": [0], \"series\": [{\"data\": [0.6199980194261285]}]}, {\"name\": \"recall_score_macro\", \"run_id\": \"AutoML_6153b81f-cfb1-45cc-82ff-928ca40cb597\", \"categories\": [0], \"series\": [{\"data\": [0.8099990097130643]}]}, {\"name\": \"average_precision_score_macro\", \"run_id\": \"AutoML_6153b81f-cfb1-45cc-82ff-928ca40cb597\", \"categories\": [0], \"series\": [{\"data\": [0.9102401635652664]}]}, {\"name\": \"f1_score_weighted\", \"run_id\": \"AutoML_6153b81f-cfb1-45cc-82ff-928ca40cb597\", \"categories\": [0], \"series\": [{\"data\": [0.8815065419247967]}]}, {\"name\": \"AUC_micro\", \"run_id\": \"AutoML_6153b81f-cfb1-45cc-82ff-928ca40cb597\", \"categories\": [0], \"series\": [{\"data\": [0.9548317508714373]}]}, {\"name\": \"weighted_accuracy\", \"run_id\": \"AutoML_6153b81f-cfb1-45cc-82ff-928ca40cb597\", \"categories\": [0], \"series\": [{\"data\": [0.9299316458122382]}]}, {\"name\": \"f1_score_micro\", \"run_id\": \"AutoML_6153b81f-cfb1-45cc-82ff-928ca40cb597\", \"categories\": [0], \"series\": [{\"data\": [0.8860914952410194]}]}, {\"name\": \"recall_score_weighted\", \"run_id\": \"AutoML_6153b81f-cfb1-45cc-82ff-928ca40cb597\", \"categories\": [0], \"series\": [{\"data\": [0.8860914952410194]}]}, {\"name\": \"recall_score_micro\", \"run_id\": \"AutoML_6153b81f-cfb1-45cc-82ff-928ca40cb597\", \"categories\": [0], \"series\": [{\"data\": [0.8860914952410194]}]}, {\"name\": \"precision_score_macro\", \"run_id\": \"AutoML_6153b81f-cfb1-45cc-82ff-928ca40cb597\", \"categories\": [0], \"series\": [{\"data\": [0.8644829321835525]}]}, {\"name\": \"average_precision_score_weighted\", \"run_id\": \"AutoML_6153b81f-cfb1-45cc-82ff-928ca40cb597\", \"categories\": [0], \"series\": [{\"data\": [0.944515824311521]}]}, {\"name\": \"AUC_weighted\", \"run_id\": \"AutoML_6153b81f-cfb1-45cc-82ff-928ca40cb597\", \"categories\": [0], \"series\": [{\"data\": [0.9322303324888388]}]}, {\"name\": \"precision_score_weighted\", \"run_id\": \"AutoML_6153b81f-cfb1-45cc-82ff-928ca40cb597\", \"categories\": [0], \"series\": [{\"data\": [0.8827040320358048]}]}, {\"name\": \"precision_score_micro\", \"run_id\": \"AutoML_6153b81f-cfb1-45cc-82ff-928ca40cb597\", \"categories\": [0], \"series\": [{\"data\": [0.8860914952410194]}]}], \"run_logs\": \"\\nRun is completed.\", \"graph\": {}, \"widget_settings\": {\"childWidgetDisplay\": \"popup\", \"send_telemetry\": false, \"log_level\": \"INFO\", \"sdk_version\": \"1.47.0\"}, \"loading\": false}"
          },
          "metadata": {},
          "output_type": "display_data"
        }
      ],
      "source": [
        "from azureml.widgets import RunDetails\n",
        "RunDetails(automl_run).show()"
      ]
    },
    {
      "cell_type": "code",
      "execution_count": 133,
      "metadata": {
        "gather": {
          "logged": 1674923190307
        },
        "jupyter": {
          "outputs_hidden": true,
          "source_hidden": false
        },
        "nteract": {
          "transient": {
            "deleting": false
          }
        }
      },
      "outputs": [
        {
          "name": "stderr",
          "output_type": "stream",
          "text": [
            "2023-01-28 16:05:14,674 WARNING Retrying (Retry(total=2, connect=2, read=3, redirect=None, status=None)) after connection broken by 'ConnectTimeoutError(<urllib3.connection.HTTPSConnection object at 0x7ff34a7dfdf0>, 'Connection to uksouth.experiments.azureml.net timed out. (connect timeout=100)')': /history/v1.0/subscriptions/36cd5b29-0f0b-4505-8ed0-2c1f142e8de3/resourceGroups/mlops-udacity-rg/providers/Microsoft.MachineLearningServices/workspaces/mlops-udacity-ws/experimentids/6de2a69f-8df1-4b63-b201-165bb8f74b89/runs/AutoML_6153b81f-cfb1-45cc-82ff-928ca40cb597\n",
            "WARNING:urllib3.connectionpool:Retrying (Retry(total=2, connect=2, read=3, redirect=None, status=None)) after connection broken by 'ConnectTimeoutError(<urllib3.connection.HTTPSConnection object at 0x7ff34a7dfdf0>, 'Connection to uksouth.experiments.azureml.net timed out. (connect timeout=100)')': /history/v1.0/subscriptions/36cd5b29-0f0b-4505-8ed0-2c1f142e8de3/resourceGroups/mlops-udacity-rg/providers/Microsoft.MachineLearningServices/workspaces/mlops-udacity-ws/experimentids/6de2a69f-8df1-4b63-b201-165bb8f74b89/runs/AutoML_6153b81f-cfb1-45cc-82ff-928ca40cb597\n",
            "2023-01-28 16:05:14,714 WARNING Retrying (Retry(total=2, connect=2, read=3, redirect=None, status=None)) after connection broken by 'ConnectTimeoutError(<urllib3.connection.HTTPSConnection object at 0x7ff34a7dde80>, 'Connection to uksouth.experiments.azureml.net timed out. (connect timeout=100)')': /history/v1.0/subscriptions/36cd5b29-0f0b-4505-8ed0-2c1f142e8de3/resourceGroups/mlops-udacity-rg/providers/Microsoft.MachineLearningServices/workspaces/mlops-udacity-ws/experimentids/6de2a69f-8df1-4b63-b201-165bb8f74b89/runs/AutoML_28efe5c5-3096-4383-a735-b22df3dfa063\n",
            "WARNING:urllib3.connectionpool:Retrying (Retry(total=2, connect=2, read=3, redirect=None, status=None)) after connection broken by 'ConnectTimeoutError(<urllib3.connection.HTTPSConnection object at 0x7ff34a7dde80>, 'Connection to uksouth.experiments.azureml.net timed out. (connect timeout=100)')': /history/v1.0/subscriptions/36cd5b29-0f0b-4505-8ed0-2c1f142e8de3/resourceGroups/mlops-udacity-rg/providers/Microsoft.MachineLearningServices/workspaces/mlops-udacity-ws/experimentids/6de2a69f-8df1-4b63-b201-165bb8f74b89/runs/AutoML_28efe5c5-3096-4383-a735-b22df3dfa063\n",
            "2023-01-28 16:05:14,798 WARNING Retrying (Retry(total=2, connect=2, read=3, redirect=None, status=None)) after connection broken by 'ConnectTimeoutError(<urllib3.connection.HTTPSConnection object at 0x7ff34a7d8d30>, 'Connection to uksouth.experiments.azureml.net timed out. (connect timeout=100)')': /history/v1.0/subscriptions/36cd5b29-0f0b-4505-8ed0-2c1f142e8de3/resourceGroups/mlops-udacity-rg/providers/Microsoft.MachineLearningServices/workspaces/mlops-udacity-ws/experiments/salary-automl-experiment/metrics:query?mergestrategytype=None\n",
            "WARNING:urllib3.connectionpool:Retrying (Retry(total=2, connect=2, read=3, redirect=None, status=None)) after connection broken by 'ConnectTimeoutError(<urllib3.connection.HTTPSConnection object at 0x7ff34a7d8d30>, 'Connection to uksouth.experiments.azureml.net timed out. (connect timeout=100)')': /history/v1.0/subscriptions/36cd5b29-0f0b-4505-8ed0-2c1f142e8de3/resourceGroups/mlops-udacity-rg/providers/Microsoft.MachineLearningServices/workspaces/mlops-udacity-ws/experiments/salary-automl-experiment/metrics:query?mergestrategytype=None\n",
            "2023-01-28 16:05:14,802 WARNING Retrying (Retry(total=2, connect=2, read=3, redirect=None, status=None)) after connection broken by 'ConnectTimeoutError(<urllib3.connection.HTTPSConnection object at 0x7ff34a836b20>, 'Connection to uksouth.experiments.azureml.net timed out. (connect timeout=100)')': /history/v1.0/subscriptions/36cd5b29-0f0b-4505-8ed0-2c1f142e8de3/resourceGroups/mlops-udacity-rg/providers/Microsoft.MachineLearningServices/workspaces/mlops-udacity-ws/experiments/salary-automl-experiment/runs/AutoML_6153b81f-cfb1-45cc-82ff-928ca40cb597/details\n",
            "WARNING:urllib3.connectionpool:Retrying (Retry(total=2, connect=2, read=3, redirect=None, status=None)) after connection broken by 'ConnectTimeoutError(<urllib3.connection.HTTPSConnection object at 0x7ff34a836b20>, 'Connection to uksouth.experiments.azureml.net timed out. (connect timeout=100)')': /history/v1.0/subscriptions/36cd5b29-0f0b-4505-8ed0-2c1f142e8de3/resourceGroups/mlops-udacity-rg/providers/Microsoft.MachineLearningServices/workspaces/mlops-udacity-ws/experiments/salary-automl-experiment/runs/AutoML_6153b81f-cfb1-45cc-82ff-928ca40cb597/details\n",
            "2023-01-28 16:06:56,448 WARNING Retrying (Retry(total=1, connect=1, read=3, redirect=None, status=None)) after connection broken by 'ConnectTimeoutError(<urllib3.connection.HTTPSConnection object at 0x7ff34a7d8a90>, 'Connection to uksouth.experiments.azureml.net timed out. (connect timeout=100)')': /history/v1.0/subscriptions/36cd5b29-0f0b-4505-8ed0-2c1f142e8de3/resourceGroups/mlops-udacity-rg/providers/Microsoft.MachineLearningServices/workspaces/mlops-udacity-ws/experiments/salary-automl-experiment/runs/AutoML_6153b81f-cfb1-45cc-82ff-928ca40cb597/details\n",
            "WARNING:urllib3.connectionpool:Retrying (Retry(total=1, connect=1, read=3, redirect=None, status=None)) after connection broken by 'ConnectTimeoutError(<urllib3.connection.HTTPSConnection object at 0x7ff34a7d8a90>, 'Connection to uksouth.experiments.azureml.net timed out. (connect timeout=100)')': /history/v1.0/subscriptions/36cd5b29-0f0b-4505-8ed0-2c1f142e8de3/resourceGroups/mlops-udacity-rg/providers/Microsoft.MachineLearningServices/workspaces/mlops-udacity-ws/experiments/salary-automl-experiment/runs/AutoML_6153b81f-cfb1-45cc-82ff-928ca40cb597/details\n",
            "2023-01-28 16:07:02,280 WARNING Retrying (Retry(total=2, connect=2, read=3, redirect=None, status=None)) after connection broken by 'ConnectTimeoutError(<urllib3.connection.HTTPSConnection object at 0x7ff34a7e6040>, 'Connection to uksouth.experiments.azureml.net timed out. (connect timeout=100)')': /artifact/v2.0/subscriptions/36cd5b29-0f0b-4505-8ed0-2c1f142e8de3/resourceGroups/mlops-udacity-rg/providers/Microsoft.MachineLearningServices/workspaces/mlops-udacity-ws/artifacts/prefix/contentinfo/ExperimentRun/dcid.AutoML_28efe5c5-3096-4383-a735-b22df3dfa063/system_logs\n",
            "WARNING:urllib3.connectionpool:Retrying (Retry(total=2, connect=2, read=3, redirect=None, status=None)) after connection broken by 'ConnectTimeoutError(<urllib3.connection.HTTPSConnection object at 0x7ff34a7e6040>, 'Connection to uksouth.experiments.azureml.net timed out. (connect timeout=100)')': /artifact/v2.0/subscriptions/36cd5b29-0f0b-4505-8ed0-2c1f142e8de3/resourceGroups/mlops-udacity-rg/providers/Microsoft.MachineLearningServices/workspaces/mlops-udacity-ws/artifacts/prefix/contentinfo/ExperimentRun/dcid.AutoML_28efe5c5-3096-4383-a735-b22df3dfa063/system_logs\n",
            "2023-01-28 16:07:23,567 WARNING Retrying (Retry(total=2, connect=2, read=3, redirect=None, status=None)) after connection broken by 'ConnectTimeoutError(<urllib3.connection.HTTPSConnection object at 0x7ff34a7e6700>, 'Connection to uksouth.experiments.azureml.net timed out. (connect timeout=100)')': /history/v1.0/subscriptions/36cd5b29-0f0b-4505-8ed0-2c1f142e8de3/resourceGroups/mlops-udacity-rg/providers/Microsoft.MachineLearningServices/workspaces/mlops-udacity-ws/experimentids/6de2a69f-8df1-4b63-b201-165bb8f74b89/runs/AutoML_6153b81f-cfb1-45cc-82ff-928ca40cb597\n",
            "WARNING:urllib3.connectionpool:Retrying (Retry(total=2, connect=2, read=3, redirect=None, status=None)) after connection broken by 'ConnectTimeoutError(<urllib3.connection.HTTPSConnection object at 0x7ff34a7e6700>, 'Connection to uksouth.experiments.azureml.net timed out. (connect timeout=100)')': /history/v1.0/subscriptions/36cd5b29-0f0b-4505-8ed0-2c1f142e8de3/resourceGroups/mlops-udacity-rg/providers/Microsoft.MachineLearningServices/workspaces/mlops-udacity-ws/experimentids/6de2a69f-8df1-4b63-b201-165bb8f74b89/runs/AutoML_6153b81f-cfb1-45cc-82ff-928ca40cb597\n",
            "2023-01-28 16:08:39,685 WARNING Retrying (Retry(total=0, connect=0, read=3, redirect=None, status=None)) after connection broken by 'ConnectTimeoutError(<urllib3.connection.HTTPSConnection object at 0x7ff34a7e6820>, 'Connection to uksouth.experiments.azureml.net timed out. (connect timeout=100)')': /history/v1.0/subscriptions/36cd5b29-0f0b-4505-8ed0-2c1f142e8de3/resourceGroups/mlops-udacity-rg/providers/Microsoft.MachineLearningServices/workspaces/mlops-udacity-ws/experiments/salary-automl-experiment/runs/AutoML_6153b81f-cfb1-45cc-82ff-928ca40cb597/details\n",
            "WARNING:urllib3.connectionpool:Retrying (Retry(total=0, connect=0, read=3, redirect=None, status=None)) after connection broken by 'ConnectTimeoutError(<urllib3.connection.HTTPSConnection object at 0x7ff34a7e6820>, 'Connection to uksouth.experiments.azureml.net timed out. (connect timeout=100)')': /history/v1.0/subscriptions/36cd5b29-0f0b-4505-8ed0-2c1f142e8de3/resourceGroups/mlops-udacity-rg/providers/Microsoft.MachineLearningServices/workspaces/mlops-udacity-ws/experiments/salary-automl-experiment/runs/AutoML_6153b81f-cfb1-45cc-82ff-928ca40cb597/details\n",
            "2023-01-28 16:08:42,435 WARNING Retrying (Retry(total=2, connect=2, read=3, redirect=None, status=None)) after connection broken by 'ConnectTimeoutError(<urllib3.connection.HTTPSConnection object at 0x7ff34a7dd5e0>, 'Connection to uksouth.experiments.azureml.net timed out. (connect timeout=100)')': /history/v1.0/subscriptions/36cd5b29-0f0b-4505-8ed0-2c1f142e8de3/resourceGroups/mlops-udacity-rg/providers/Microsoft.MachineLearningServices/workspaces/mlops-udacity-ws/experiments/salary-automl-experiment/runs/AutoML_28efe5c5-3096-4383-a735-b22df3dfa063/children?$orderby=StartTimeUtc%20desc&$top=500\n",
            "WARNING:urllib3.connectionpool:Retrying (Retry(total=2, connect=2, read=3, redirect=None, status=None)) after connection broken by 'ConnectTimeoutError(<urllib3.connection.HTTPSConnection object at 0x7ff34a7dd5e0>, 'Connection to uksouth.experiments.azureml.net timed out. (connect timeout=100)')': /history/v1.0/subscriptions/36cd5b29-0f0b-4505-8ed0-2c1f142e8de3/resourceGroups/mlops-udacity-rg/providers/Microsoft.MachineLearningServices/workspaces/mlops-udacity-ws/experiments/salary-automl-experiment/runs/AutoML_28efe5c5-3096-4383-a735-b22df3dfa063/children?$orderby=StartTimeUtc%20desc&$top=500\n",
            "2023-01-28 16:09:05,244 WARNING Retrying (Retry(total=1, connect=1, read=3, redirect=None, status=None)) after connection broken by 'ConnectTimeoutError(<urllib3.connection.HTTPSConnection object at 0x7ff34a7dde50>, 'Connection to uksouth.experiments.azureml.net timed out. (connect timeout=100)')': /history/v1.0/subscriptions/36cd5b29-0f0b-4505-8ed0-2c1f142e8de3/resourceGroups/mlops-udacity-rg/providers/Microsoft.MachineLearningServices/workspaces/mlops-udacity-ws/experimentids/6de2a69f-8df1-4b63-b201-165bb8f74b89/runs/AutoML_6153b81f-cfb1-45cc-82ff-928ca40cb597\n",
            "WARNING:urllib3.connectionpool:Retrying (Retry(total=1, connect=1, read=3, redirect=None, status=None)) after connection broken by 'ConnectTimeoutError(<urllib3.connection.HTTPSConnection object at 0x7ff34a7dde50>, 'Connection to uksouth.experiments.azureml.net timed out. (connect timeout=100)')': /history/v1.0/subscriptions/36cd5b29-0f0b-4505-8ed0-2c1f142e8de3/resourceGroups/mlops-udacity-rg/providers/Microsoft.MachineLearningServices/workspaces/mlops-udacity-ws/experimentids/6de2a69f-8df1-4b63-b201-165bb8f74b89/runs/AutoML_6153b81f-cfb1-45cc-82ff-928ca40cb597\n",
            "2023-01-28 16:10:48,529 WARNING Retrying (Retry(total=0, connect=0, read=3, redirect=None, status=None)) after connection broken by 'ConnectTimeoutError(<urllib3.connection.HTTPSConnection object at 0x7ff34a6c0ac0>, 'Connection to uksouth.experiments.azureml.net timed out. (connect timeout=100)')': /history/v1.0/subscriptions/36cd5b29-0f0b-4505-8ed0-2c1f142e8de3/resourceGroups/mlops-udacity-rg/providers/Microsoft.MachineLearningServices/workspaces/mlops-udacity-ws/experimentids/6de2a69f-8df1-4b63-b201-165bb8f74b89/runs/AutoML_6153b81f-cfb1-45cc-82ff-928ca40cb597\n",
            "WARNING:urllib3.connectionpool:Retrying (Retry(total=0, connect=0, read=3, redirect=None, status=None)) after connection broken by 'ConnectTimeoutError(<urllib3.connection.HTTPSConnection object at 0x7ff34a6c0ac0>, 'Connection to uksouth.experiments.azureml.net timed out. (connect timeout=100)')': /history/v1.0/subscriptions/36cd5b29-0f0b-4505-8ed0-2c1f142e8de3/resourceGroups/mlops-udacity-rg/providers/Microsoft.MachineLearningServices/workspaces/mlops-udacity-ws/experimentids/6de2a69f-8df1-4b63-b201-165bb8f74b89/runs/AutoML_6153b81f-cfb1-45cc-82ff-928ca40cb597\n",
            "2023-01-28 16:12:34,666 WARNING Retrying (Retry(total=2, connect=2, read=3, redirect=None, status=None)) after connection broken by 'ConnectTimeoutError(<urllib3.connection.HTTPSConnection object at 0x7ff34a4ce940>, 'Connection to uksouth.experiments.azureml.net timed out. (connect timeout=100)')': /history/v1.0/subscriptions/36cd5b29-0f0b-4505-8ed0-2c1f142e8de3/resourceGroups/mlops-udacity-rg/providers/Microsoft.MachineLearningServices/workspaces/mlops-udacity-ws/experiments/salary-automl-experiment/metrics:query?mergestrategytype=None\n",
            "WARNING:urllib3.connectionpool:Retrying (Retry(total=2, connect=2, read=3, redirect=None, status=None)) after connection broken by 'ConnectTimeoutError(<urllib3.connection.HTTPSConnection object at 0x7ff34a4ce940>, 'Connection to uksouth.experiments.azureml.net timed out. (connect timeout=100)')': /history/v1.0/subscriptions/36cd5b29-0f0b-4505-8ed0-2c1f142e8de3/resourceGroups/mlops-udacity-rg/providers/Microsoft.MachineLearningServices/workspaces/mlops-udacity-ws/experiments/salary-automl-experiment/metrics:query?mergestrategytype=None\n",
            "2023-01-28 16:12:37,966 WARNING Retrying (Retry(total=2, connect=2, read=3, redirect=None, status=None)) after connection broken by 'ConnectTimeoutError(<urllib3.connection.HTTPSConnection object at 0x7ff34a4bc490>, 'Connection to uksouth.experiments.azureml.net timed out. (connect timeout=100)')': /history/v1.0/subscriptions/36cd5b29-0f0b-4505-8ed0-2c1f142e8de3/resourceGroups/mlops-udacity-rg/providers/Microsoft.MachineLearningServices/workspaces/mlops-udacity-ws/experimentids/6de2a69f-8df1-4b63-b201-165bb8f74b89/runs/AutoML_6153b81f-cfb1-45cc-82ff-928ca40cb597\n",
            "WARNING:urllib3.connectionpool:Retrying (Retry(total=2, connect=2, read=3, redirect=None, status=None)) after connection broken by 'ConnectTimeoutError(<urllib3.connection.HTTPSConnection object at 0x7ff34a4bc490>, 'Connection to uksouth.experiments.azureml.net timed out. (connect timeout=100)')': /history/v1.0/subscriptions/36cd5b29-0f0b-4505-8ed0-2c1f142e8de3/resourceGroups/mlops-udacity-rg/providers/Microsoft.MachineLearningServices/workspaces/mlops-udacity-ws/experimentids/6de2a69f-8df1-4b63-b201-165bb8f74b89/runs/AutoML_6153b81f-cfb1-45cc-82ff-928ca40cb597\n",
            "2023-01-28 16:14:16,438 WARNING Retrying (Retry(total=2, connect=2, read=3, redirect=None, status=None)) after connection broken by 'ConnectTimeoutError(<urllib3.connection.HTTPSConnection object at 0x7ff34a409cd0>, 'Connection to uksouth.experiments.azureml.net timed out. (connect timeout=100)')': /history/v1.0/subscriptions/36cd5b29-0f0b-4505-8ed0-2c1f142e8de3/resourceGroups/mlops-udacity-rg/providers/Microsoft.MachineLearningServices/workspaces/mlops-udacity-ws/experiments/salary-automl-experiment/metrics:query?mergestrategytype=None\n",
            "WARNING:urllib3.connectionpool:Retrying (Retry(total=2, connect=2, read=3, redirect=None, status=None)) after connection broken by 'ConnectTimeoutError(<urllib3.connection.HTTPSConnection object at 0x7ff34a409cd0>, 'Connection to uksouth.experiments.azureml.net timed out. (connect timeout=100)')': /history/v1.0/subscriptions/36cd5b29-0f0b-4505-8ed0-2c1f142e8de3/resourceGroups/mlops-udacity-rg/providers/Microsoft.MachineLearningServices/workspaces/mlops-udacity-ws/experiments/salary-automl-experiment/metrics:query?mergestrategytype=None\n",
            "2023-01-28 16:14:40,358 WARNING Retrying (Retry(total=2, connect=2, read=3, redirect=None, status=None)) after connection broken by 'ConnectTimeoutError(<urllib3.connection.HTTPSConnection object at 0x7ff34a428a00>, 'Connection to uksouth.experiments.azureml.net timed out. (connect timeout=100)')': /history/v1.0/subscriptions/36cd5b29-0f0b-4505-8ed0-2c1f142e8de3/resourceGroups/mlops-udacity-rg/providers/Microsoft.MachineLearningServices/workspaces/mlops-udacity-ws/experimentids/6de2a69f-8df1-4b63-b201-165bb8f74b89/runs/AutoML_6153b81f-cfb1-45cc-82ff-928ca40cb597\n",
            "WARNING:urllib3.connectionpool:Retrying (Retry(total=2, connect=2, read=3, redirect=None, status=None)) after connection broken by 'ConnectTimeoutError(<urllib3.connection.HTTPSConnection object at 0x7ff34a428a00>, 'Connection to uksouth.experiments.azureml.net timed out. (connect timeout=100)')': /history/v1.0/subscriptions/36cd5b29-0f0b-4505-8ed0-2c1f142e8de3/resourceGroups/mlops-udacity-rg/providers/Microsoft.MachineLearningServices/workspaces/mlops-udacity-ws/experimentids/6de2a69f-8df1-4b63-b201-165bb8f74b89/runs/AutoML_6153b81f-cfb1-45cc-82ff-928ca40cb597\n",
            "2023-01-28 16:16:21,984 WARNING Retrying (Retry(total=1, connect=1, read=3, redirect=None, status=None)) after connection broken by 'ConnectTimeoutError(<urllib3.connection.HTTPSConnection object at 0x7ff34a4229a0>, 'Connection to uksouth.experiments.azureml.net timed out. (connect timeout=100)')': /history/v1.0/subscriptions/36cd5b29-0f0b-4505-8ed0-2c1f142e8de3/resourceGroups/mlops-udacity-rg/providers/Microsoft.MachineLearningServices/workspaces/mlops-udacity-ws/experimentids/6de2a69f-8df1-4b63-b201-165bb8f74b89/runs/AutoML_6153b81f-cfb1-45cc-82ff-928ca40cb597\n",
            "WARNING:urllib3.connectionpool:Retrying (Retry(total=1, connect=1, read=3, redirect=None, status=None)) after connection broken by 'ConnectTimeoutError(<urllib3.connection.HTTPSConnection object at 0x7ff34a4229a0>, 'Connection to uksouth.experiments.azureml.net timed out. (connect timeout=100)')': /history/v1.0/subscriptions/36cd5b29-0f0b-4505-8ed0-2c1f142e8de3/resourceGroups/mlops-udacity-rg/providers/Microsoft.MachineLearningServices/workspaces/mlops-udacity-ws/experimentids/6de2a69f-8df1-4b63-b201-165bb8f74b89/runs/AutoML_6153b81f-cfb1-45cc-82ff-928ca40cb597\n",
            "2023-01-28 16:16:32,338 WARNING Retrying (Retry(total=2, connect=2, read=3, redirect=None, status=None)) after connection broken by 'ConnectTimeoutError(<urllib3.connection.HTTPSConnection object at 0x7ff34a41fcd0>, 'Connection to uksouth.experiments.azureml.net timed out. (connect timeout=100)')': /history/v1.0/subscriptions/36cd5b29-0f0b-4505-8ed0-2c1f142e8de3/resourceGroups/mlops-udacity-rg/providers/Microsoft.MachineLearningServices/workspaces/mlops-udacity-ws/experiments/salary-automl-experiment/metrics:query?mergestrategytype=None\n",
            "WARNING:urllib3.connectionpool:Retrying (Retry(total=2, connect=2, read=3, redirect=None, status=None)) after connection broken by 'ConnectTimeoutError(<urllib3.connection.HTTPSConnection object at 0x7ff34a41fcd0>, 'Connection to uksouth.experiments.azureml.net timed out. (connect timeout=100)')': /history/v1.0/subscriptions/36cd5b29-0f0b-4505-8ed0-2c1f142e8de3/resourceGroups/mlops-udacity-rg/providers/Microsoft.MachineLearningServices/workspaces/mlops-udacity-ws/experiments/salary-automl-experiment/metrics:query?mergestrategytype=None\n",
            "2023-01-28 16:16:32,474 WARNING Retrying (Retry(total=2, connect=2, read=3, redirect=None, status=None)) after connection broken by 'ConnectTimeoutError(<urllib3.connection.HTTPSConnection object at 0x7ff34a4c4b50>, 'Connection to uksouth.experiments.azureml.net timed out. (connect timeout=100)')': /artifact/v2.0/subscriptions/36cd5b29-0f0b-4505-8ed0-2c1f142e8de3/resourceGroups/mlops-udacity-rg/providers/Microsoft.MachineLearningServices/workspaces/mlops-udacity-ws/artifacts/prefix/contentinfo/ExperimentRun/dcid.AutoML_6153b81f-cfb1-45cc-82ff-928ca40cb597/user_logs\n",
            "WARNING:urllib3.connectionpool:Retrying (Retry(total=2, connect=2, read=3, redirect=None, status=None)) after connection broken by 'ConnectTimeoutError(<urllib3.connection.HTTPSConnection object at 0x7ff34a4c4b50>, 'Connection to uksouth.experiments.azureml.net timed out. (connect timeout=100)')': /artifact/v2.0/subscriptions/36cd5b29-0f0b-4505-8ed0-2c1f142e8de3/resourceGroups/mlops-udacity-rg/providers/Microsoft.MachineLearningServices/workspaces/mlops-udacity-ws/artifacts/prefix/contentinfo/ExperimentRun/dcid.AutoML_6153b81f-cfb1-45cc-82ff-928ca40cb597/user_logs\n",
            "2023-01-28 16:17:11,298 WARNING Retrying (Retry(total=2, connect=2, read=3, redirect=None, status=None)) after connection broken by 'ConnectTimeoutError(<urllib3.connection.HTTPSConnection object at 0x7ff349a2fa60>, 'Connection to uksouth.experiments.azureml.net timed out. (connect timeout=100)')': /history/v1.0/subscriptions/36cd5b29-0f0b-4505-8ed0-2c1f142e8de3/resourceGroups/mlops-udacity-rg/providers/Microsoft.MachineLearningServices/workspaces/mlops-udacity-ws/experiments/salary-automl-experiment/metrics:query?mergestrategytype=None\n",
            "WARNING:urllib3.connectionpool:Retrying (Retry(total=2, connect=2, read=3, redirect=None, status=None)) after connection broken by 'ConnectTimeoutError(<urllib3.connection.HTTPSConnection object at 0x7ff349a2fa60>, 'Connection to uksouth.experiments.azureml.net timed out. (connect timeout=100)')': /history/v1.0/subscriptions/36cd5b29-0f0b-4505-8ed0-2c1f142e8de3/resourceGroups/mlops-udacity-rg/providers/Microsoft.MachineLearningServices/workspaces/mlops-udacity-ws/experiments/salary-automl-experiment/metrics:query?mergestrategytype=None\n",
            "2023-01-28 16:17:16,246 WARNING Retrying (Retry(total=2, connect=2, read=3, redirect=None, status=None)) after connection broken by 'ConnectTimeoutError(<urllib3.connection.HTTPSConnection object at 0x7ff349a2f310>, 'Connection to uksouth.experiments.azureml.net timed out. (connect timeout=100)')': /history/v1.0/subscriptions/36cd5b29-0f0b-4505-8ed0-2c1f142e8de3/resourceGroups/mlops-udacity-rg/providers/Microsoft.MachineLearningServices/workspaces/mlops-udacity-ws/experiments/salary-automl-experiment/metrics:query?mergestrategytype=None\n",
            "WARNING:urllib3.connectionpool:Retrying (Retry(total=2, connect=2, read=3, redirect=None, status=None)) after connection broken by 'ConnectTimeoutError(<urllib3.connection.HTTPSConnection object at 0x7ff349a2f310>, 'Connection to uksouth.experiments.azureml.net timed out. (connect timeout=100)')': /history/v1.0/subscriptions/36cd5b29-0f0b-4505-8ed0-2c1f142e8de3/resourceGroups/mlops-udacity-rg/providers/Microsoft.MachineLearningServices/workspaces/mlops-udacity-ws/experiments/salary-automl-experiment/metrics:query?mergestrategytype=None\n",
            "2023-01-28 16:18:05,274 WARNING Retrying (Retry(total=0, connect=0, read=3, redirect=None, status=None)) after connection broken by 'ConnectTimeoutError(<urllib3.connection.HTTPSConnection object at 0x7ff349a2f460>, 'Connection to uksouth.experiments.azureml.net timed out. (connect timeout=100)')': /history/v1.0/subscriptions/36cd5b29-0f0b-4505-8ed0-2c1f142e8de3/resourceGroups/mlops-udacity-rg/providers/Microsoft.MachineLearningServices/workspaces/mlops-udacity-ws/experimentids/6de2a69f-8df1-4b63-b201-165bb8f74b89/runs/AutoML_6153b81f-cfb1-45cc-82ff-928ca40cb597\n",
            "WARNING:urllib3.connectionpool:Retrying (Retry(total=0, connect=0, read=3, redirect=None, status=None)) after connection broken by 'ConnectTimeoutError(<urllib3.connection.HTTPSConnection object at 0x7ff349a2f460>, 'Connection to uksouth.experiments.azureml.net timed out. (connect timeout=100)')': /history/v1.0/subscriptions/36cd5b29-0f0b-4505-8ed0-2c1f142e8de3/resourceGroups/mlops-udacity-rg/providers/Microsoft.MachineLearningServices/workspaces/mlops-udacity-ws/experimentids/6de2a69f-8df1-4b63-b201-165bb8f74b89/runs/AutoML_6153b81f-cfb1-45cc-82ff-928ca40cb597\n",
            "2023-01-28 16:18:14,002 WARNING Retrying (Retry(total=1, connect=1, read=3, redirect=None, status=None)) after connection broken by 'ConnectTimeoutError(<urllib3.connection.HTTPSConnection object at 0x7ff349a2fe80>, 'Connection to uksouth.experiments.azureml.net timed out. (connect timeout=100)')': /history/v1.0/subscriptions/36cd5b29-0f0b-4505-8ed0-2c1f142e8de3/resourceGroups/mlops-udacity-rg/providers/Microsoft.MachineLearningServices/workspaces/mlops-udacity-ws/experiments/salary-automl-experiment/metrics:query?mergestrategytype=None\n",
            "WARNING:urllib3.connectionpool:Retrying (Retry(total=1, connect=1, read=3, redirect=None, status=None)) after connection broken by 'ConnectTimeoutError(<urllib3.connection.HTTPSConnection object at 0x7ff349a2fe80>, 'Connection to uksouth.experiments.azureml.net timed out. (connect timeout=100)')': /history/v1.0/subscriptions/36cd5b29-0f0b-4505-8ed0-2c1f142e8de3/resourceGroups/mlops-udacity-rg/providers/Microsoft.MachineLearningServices/workspaces/mlops-udacity-ws/experiments/salary-automl-experiment/metrics:query?mergestrategytype=None\n",
            "2023-01-28 16:18:14,172 WARNING Retrying (Retry(total=1, connect=1, read=3, redirect=None, status=None)) after connection broken by 'ConnectTimeoutError(<urllib3.connection.HTTPSConnection object at 0x7ff349a2f220>, 'Connection to uksouth.experiments.azureml.net timed out. (connect timeout=100)')': /artifact/v2.0/subscriptions/36cd5b29-0f0b-4505-8ed0-2c1f142e8de3/resourceGroups/mlops-udacity-rg/providers/Microsoft.MachineLearningServices/workspaces/mlops-udacity-ws/artifacts/prefix/contentinfo/ExperimentRun/dcid.AutoML_6153b81f-cfb1-45cc-82ff-928ca40cb597/user_logs\n",
            "WARNING:urllib3.connectionpool:Retrying (Retry(total=1, connect=1, read=3, redirect=None, status=None)) after connection broken by 'ConnectTimeoutError(<urllib3.connection.HTTPSConnection object at 0x7ff349a2f220>, 'Connection to uksouth.experiments.azureml.net timed out. (connect timeout=100)')': /artifact/v2.0/subscriptions/36cd5b29-0f0b-4505-8ed0-2c1f142e8de3/resourceGroups/mlops-udacity-rg/providers/Microsoft.MachineLearningServices/workspaces/mlops-udacity-ws/artifacts/prefix/contentinfo/ExperimentRun/dcid.AutoML_6153b81f-cfb1-45cc-82ff-928ca40cb597/user_logs\n",
            "2023-01-28 16:19:51,502 WARNING Retrying (Retry(total=2, connect=2, read=3, redirect=None, status=None)) after connection broken by 'ConnectTimeoutError(<urllib3.connection.HTTPSConnection object at 0x7ff3499d9430>, 'Connection to uksouth.experiments.azureml.net timed out. (connect timeout=100)')': /history/v1.0/subscriptions/36cd5b29-0f0b-4505-8ed0-2c1f142e8de3/resourceGroups/mlops-udacity-rg/providers/Microsoft.MachineLearningServices/workspaces/mlops-udacity-ws/experimentids/6de2a69f-8df1-4b63-b201-165bb8f74b89/runs/AutoML_28efe5c5-3096-4383-a735-b22df3dfa063\n",
            "WARNING:urllib3.connectionpool:Retrying (Retry(total=2, connect=2, read=3, redirect=None, status=None)) after connection broken by 'ConnectTimeoutError(<urllib3.connection.HTTPSConnection object at 0x7ff3499d9430>, 'Connection to uksouth.experiments.azureml.net timed out. (connect timeout=100)')': /history/v1.0/subscriptions/36cd5b29-0f0b-4505-8ed0-2c1f142e8de3/resourceGroups/mlops-udacity-rg/providers/Microsoft.MachineLearningServices/workspaces/mlops-udacity-ws/experimentids/6de2a69f-8df1-4b63-b201-165bb8f74b89/runs/AutoML_28efe5c5-3096-4383-a735-b22df3dfa063\n",
            "2023-01-28 16:19:57,303 WARNING Retrying (Retry(total=0, connect=0, read=3, redirect=None, status=None)) after connection broken by 'ConnectTimeoutError(<urllib3.connection.HTTPSConnection object at 0x7ff3499d97f0>, 'Connection to uksouth.experiments.azureml.net timed out. (connect timeout=100)')': /history/v1.0/subscriptions/36cd5b29-0f0b-4505-8ed0-2c1f142e8de3/resourceGroups/mlops-udacity-rg/providers/Microsoft.MachineLearningServices/workspaces/mlops-udacity-ws/experiments/salary-automl-experiment/metrics:query?mergestrategytype=None\n",
            "WARNING:urllib3.connectionpool:Retrying (Retry(total=0, connect=0, read=3, redirect=None, status=None)) after connection broken by 'ConnectTimeoutError(<urllib3.connection.HTTPSConnection object at 0x7ff3499d97f0>, 'Connection to uksouth.experiments.azureml.net timed out. (connect timeout=100)')': /history/v1.0/subscriptions/36cd5b29-0f0b-4505-8ed0-2c1f142e8de3/resourceGroups/mlops-udacity-rg/providers/Microsoft.MachineLearningServices/workspaces/mlops-udacity-ws/experiments/salary-automl-experiment/metrics:query?mergestrategytype=None\n",
            "2023-01-28 16:19:57,479 WARNING Retrying (Retry(total=0, connect=0, read=3, redirect=None, status=None)) after connection broken by 'ConnectTimeoutError(<urllib3.connection.HTTPSConnection object at 0x7ff3499d9670>, 'Connection to uksouth.experiments.azureml.net timed out. (connect timeout=100)')': /artifact/v2.0/subscriptions/36cd5b29-0f0b-4505-8ed0-2c1f142e8de3/resourceGroups/mlops-udacity-rg/providers/Microsoft.MachineLearningServices/workspaces/mlops-udacity-ws/artifacts/prefix/contentinfo/ExperimentRun/dcid.AutoML_6153b81f-cfb1-45cc-82ff-928ca40cb597/user_logs\n",
            "WARNING:urllib3.connectionpool:Retrying (Retry(total=0, connect=0, read=3, redirect=None, status=None)) after connection broken by 'ConnectTimeoutError(<urllib3.connection.HTTPSConnection object at 0x7ff3499d9670>, 'Connection to uksouth.experiments.azureml.net timed out. (connect timeout=100)')': /artifact/v2.0/subscriptions/36cd5b29-0f0b-4505-8ed0-2c1f142e8de3/resourceGroups/mlops-udacity-rg/providers/Microsoft.MachineLearningServices/workspaces/mlops-udacity-ws/artifacts/prefix/contentinfo/ExperimentRun/dcid.AutoML_6153b81f-cfb1-45cc-82ff-928ca40cb597/user_logs\n"
          ]
        },
        {
          "data": {
            "text/plain": [
              "{'runId': 'AutoML_6153b81f-cfb1-45cc-82ff-928ca40cb597',\n",
              " 'target': 'auto-ml',\n",
              " 'status': 'Completed',\n",
              " 'startTimeUtc': '2023-01-28T15:58:12.933123Z',\n",
              " 'endTimeUtc': '2023-01-28T16:26:24.215896Z',\n",
              " 'services': {},\n",
              " 'warnings': [{'source': 'JasmineService',\n",
              "   'message': 'No scores improved over last 10 iterations, so experiment stopped early. This early stopping behavior can be disabled by setting enable_early_stopping = False in AutoMLConfig for notebook/python SDK runs.'}],\n",
              " 'properties': {'num_iterations': '1000',\n",
              "  'training_type': 'TrainFull',\n",
              "  'acquisition_function': 'EI',\n",
              "  'primary_metric': 'accuracy',\n",
              "  'train_split': '0',\n",
              "  'acquisition_parameter': '0',\n",
              "  'num_cross_validation': None,\n",
              "  'target': 'auto-ml',\n",
              "  'AMLSettingsJsonString': '{\"path\":null,\"name\":\"salary-automl-experiment\",\"subscription_id\":\"36cd5b29-0f0b-4505-8ed0-2c1f142e8de3\",\"resource_group\":\"mlops-udacity-rg\",\"workspace_name\":\"mlops-udacity-ws\",\"region\":\"uksouth\",\"compute_target\":\"auto-ml\",\"spark_service\":null,\"azure_service\":\"remote\",\"many_models\":false,\"pipeline_fetch_max_batch_size\":1,\"enable_batch_run\":true,\"enable_parallel_run\":false,\"num_procs\":null,\"enable_run_restructure\":false,\"start_auxiliary_runs_before_parent_complete\":false,\"enable_code_generation\":true,\"iterations\":1000,\"primary_metric\":\"accuracy\",\"task_type\":\"classification\",\"positive_label\":null,\"data_script\":null,\"test_size\":0.0,\"test_include_predictions_only\":false,\"validation_size\":0.0,\"n_cross_validations\":null,\"y_min\":null,\"y_max\":null,\"num_classes\":null,\"featurization\":\"auto\",\"_ignore_package_version_incompatibilities\":false,\"is_timeseries\":false,\"max_cores_per_iteration\":1,\"max_concurrent_iterations\":5,\"iteration_timeout_minutes\":null,\"mem_in_mb\":null,\"enforce_time_on_windows\":false,\"experiment_timeout_minutes\":30,\"experiment_exit_score\":null,\"partition_column_names\":null,\"whitelist_models\":null,\"blacklist_algos\":[\"TensorFlowLinearClassifier\",\"TensorFlowDNN\"],\"supported_models\":[\"ExtremeRandomTrees\",\"LightGBM\",\"TensorFlowDNN\",\"AveragedPerceptronClassifier\",\"LogisticRegression\",\"DecisionTree\",\"RandomForest\",\"KNN\",\"BernoulliNaiveBayes\",\"TensorFlowLinearClassifier\",\"GradientBoosting\",\"XGBoostClassifier\",\"LinearSVM\",\"SGD\",\"MultinomialNaiveBayes\",\"TabnetClassifier\",\"SVM\"],\"private_models\":[],\"auto_blacklist\":true,\"blacklist_samples_reached\":false,\"exclude_nan_labels\":true,\"verbosity\":20,\"_debug_log\":\"azureml_automl.log\",\"show_warnings\":false,\"model_explainability\":true,\"service_url\":null,\"sdk_url\":null,\"sdk_packages\":null,\"enable_onnx_compatible_models\":false,\"enable_split_onnx_featurizer_estimator_models\":false,\"vm_type\":\"STANDARD_NC6\",\"telemetry_verbosity\":20,\"send_telemetry\":true,\"enable_dnn\":false,\"scenario\":\"AutoML\",\"environment_label\":null,\"save_mlflow\":false,\"enable_categorical_indicators\":false,\"force_text_dnn\":false,\"enable_feature_sweeping\":true,\"enable_early_stopping\":true,\"early_stopping_n_iters\":10,\"arguments\":null,\"dataset_id\":\"3ddc3abb-5bc8-4364-8ff8-23db2715bd50\",\"hyperdrive_config\":null,\"validation_dataset_id\":null,\"run_source\":null,\"metrics\":null,\"enable_metric_confidence\":false,\"enable_ensembling\":true,\"enable_stack_ensembling\":true,\"ensemble_iterations\":15,\"enable_tf\":false,\"enable_subsampling\":null,\"subsample_seed\":null,\"enable_nimbusml\":false,\"enable_streaming\":false,\"force_streaming\":false,\"track_child_runs\":true,\"n_best_runs\":1,\"allowed_private_models\":[],\"label_column_name\":\"salary\",\"weight_column_name\":null,\"cv_split_column_names\":null,\"enable_local_managed\":false,\"_local_managed_run_id\":null,\"cost_mode\":1,\"lag_length\":0,\"metric_operation\":\"maximize\",\"preprocess\":true}',\n",
              "  'DataPrepJsonString': '{\\\\\"training_data\\\\\": {\\\\\"datasetId\\\\\": \\\\\"3ddc3abb-5bc8-4364-8ff8-23db2715bd50\\\\\"}, \\\\\"datasets\\\\\": 0}',\n",
              "  'EnableSubsampling': None,\n",
              "  'runTemplate': 'AutoML',\n",
              "  'azureml.runsource': 'automl',\n",
              "  'display_task_type': 'classification',\n",
              "  'dependencies_versions': '{\"azureml-widgets\": \"1.47.0\", \"azureml-training-tabular\": \"1.47.0\", \"azureml-train\": \"1.47.0\", \"azureml-train-restclients-hyperdrive\": \"1.47.0\", \"azureml-train-core\": \"1.47.0\", \"azureml-train-automl\": \"1.47.0\", \"azureml-train-automl-runtime\": \"1.47.0\", \"azureml-train-automl-client\": \"1.47.0\", \"azureml-tensorboard\": \"1.47.0\", \"azureml-telemetry\": \"1.47.0\", \"azureml-sdk\": \"1.47.0\", \"azureml-samples\": \"0+unknown\", \"azureml-responsibleai\": \"1.47.0\", \"azureml-pipeline\": \"1.47.0\", \"azureml-pipeline-steps\": \"1.47.0\", \"azureml-pipeline-core\": \"1.47.0\", \"azureml-opendatasets\": \"1.47.0\", \"azureml-mlflow\": \"1.47.0\", \"azureml-interpret\": \"1.47.0\", \"azureml-inference-server-http\": \"0.7.6\", \"azureml-explain-model\": \"1.47.0\", \"azureml-defaults\": \"1.47.0\", \"azureml-dataset-runtime\": \"1.47.0\", \"azureml-dataprep\": \"4.5.7\", \"azureml-dataprep-rslex\": \"2.11.4\", \"azureml-dataprep-native\": \"38.0.0\", \"azureml-datadrift\": \"1.47.0\", \"azureml-core\": \"1.47.0\", \"azureml-contrib-services\": \"1.47.0\", \"azureml-contrib-server\": \"1.47.0\", \"azureml-contrib-reinforcementlearning\": \"1.47.0\", \"azureml-contrib-pipeline-steps\": \"1.47.0\", \"azureml-contrib-notebook\": \"1.47.0\", \"azureml-contrib-fairness\": \"1.47.0\", \"azureml-contrib-dataset\": \"1.47.0\", \"azureml-contrib-automl-pipeline-steps\": \"1.47.0\", \"azureml-cli-common\": \"1.47.0\", \"azureml-automl-runtime\": \"1.47.0\", \"azureml-automl-dnn-nlp\": \"1.47.0\", \"azureml-automl-core\": \"1.47.0\", \"azureml-accel-models\": \"1.47.0\"}',\n",
              "  '_aml_system_scenario_identification': 'Remote.Parent',\n",
              "  'ClientType': 'SDK',\n",
              "  'environment_cpu_name': 'AzureML-AutoML',\n",
              "  'environment_cpu_label': 'prod',\n",
              "  'environment_gpu_name': 'AzureML-AutoML-GPU',\n",
              "  'environment_gpu_label': 'prod',\n",
              "  'root_attribution': 'automl',\n",
              "  'attribution': 'AutoML',\n",
              "  'Orchestrator': 'AutoML',\n",
              "  'CancelUri': 'https://uksouth.api.azureml.ms/jasmine/v1.0/subscriptions/36cd5b29-0f0b-4505-8ed0-2c1f142e8de3/resourceGroups/mlops-udacity-rg/providers/Microsoft.MachineLearningServices/workspaces/mlops-udacity-ws/experimentids/6de2a69f-8df1-4b63-b201-165bb8f74b89/cancel/AutoML_6153b81f-cfb1-45cc-82ff-928ca40cb597',\n",
              "  'ClientSdkVersion': '1.48.0.post1',\n",
              "  'snapshotId': '00000000-0000-0000-0000-000000000000',\n",
              "  'SetupRunId': 'AutoML_6153b81f-cfb1-45cc-82ff-928ca40cb597_setup',\n",
              "  'SetupRunContainerId': 'dcid.AutoML_6153b81f-cfb1-45cc-82ff-928ca40cb597_setup',\n",
              "  'FeaturizationRunJsonPath': 'featurizer_container.json',\n",
              "  'FeaturizationRunId': 'AutoML_6153b81f-cfb1-45cc-82ff-928ca40cb597_featurize',\n",
              "  'ProblemInfoJsonString': '{\"dataset_num_categorical\": 0, \"is_sparse\": true, \"subsampling\": false, \"has_extra_col\": true, \"dataset_classes\": 2, \"dataset_features\": 94, \"dataset_samples\": 29304, \"single_frequency_class_detected\": false}',\n",
              "  'ModelExplainRunId': 'AutoML_6153b81f-cfb1-45cc-82ff-928ca40cb597_ModelExplain'},\n",
              " 'inputDatasets': [{'dataset': {'id': '3ddc3abb-5bc8-4364-8ff8-23db2715bd50'}, 'consumptionDetails': {'type': 'RunInput', 'inputName': 'training_data', 'mechanism': 'Direct'}}],\n",
              " 'outputDatasets': [],\n",
              " 'logFiles': {},\n",
              " 'submittedBy': 'Alex Jamieson'}"
            ]
          },
          "execution_count": 133,
          "metadata": {},
          "output_type": "execute_result"
        }
      ],
      "source": [
        "automl_run.wait_for_completion()"
      ]
    },
    {
      "cell_type": "code",
      "execution_count": 18,
      "metadata": {
        "gather": {
          "logged": 1675524896862
        },
        "jupyter": {
          "outputs_hidden": false,
          "source_hidden": false
        },
        "nteract": {
          "transient": {
            "deleting": false
          }
        }
      },
      "outputs": [
        {
          "data": {
            "application/vnd.jupyter.widget-view+json": {
              "model_id": "9d0b6c9583cd43129ab4962d7dc148ef",
              "version_major": 2,
              "version_minor": 0
            },
            "text/plain": [
              "_AutoMLWidget(widget_settings={'childWidgetDisplay': 'popup', 'send_telemetry': False, 'log_level': 'INFO', 's…"
            ]
          },
          "metadata": {},
          "output_type": "display_data"
        },
        {
          "data": {
            "application/aml.mini.widget.v1": "{\"status\": \"Completed\", \"workbench_run_details_uri\": \"https://ml.azure.com/runs/AutoML_6153b81f-cfb1-45cc-82ff-928ca40cb597?wsid=/subscriptions/36cd5b29-0f0b-4505-8ed0-2c1f142e8de3/resourcegroups/mlops-udacity-rg/workspaces/mlops-udacity-ws&tid=d660b123-1953-4239-8c43-988d36f8930b\", \"run_id\": \"AutoML_6153b81f-cfb1-45cc-82ff-928ca40cb597\", \"run_properties\": {\"run_id\": \"AutoML_6153b81f-cfb1-45cc-82ff-928ca40cb597\", \"created_utc\": \"2023-01-28T15:57:53.874739Z\", \"properties\": {\"num_iterations\": \"1000\", \"training_type\": \"TrainFull\", \"acquisition_function\": \"EI\", \"primary_metric\": \"accuracy\", \"train_split\": \"0\", \"acquisition_parameter\": \"0\", \"num_cross_validation\": null, \"target\": \"auto-ml\", \"AMLSettingsJsonString\": \"{\\\"path\\\":null,\\\"name\\\":\\\"salary-automl-experiment\\\",\\\"subscription_id\\\":\\\"36cd5b29-0f0b-4505-8ed0-2c1f142e8de3\\\",\\\"resource_group\\\":\\\"mlops-udacity-rg\\\",\\\"workspace_name\\\":\\\"mlops-udacity-ws\\\",\\\"region\\\":\\\"uksouth\\\",\\\"compute_target\\\":\\\"auto-ml\\\",\\\"spark_service\\\":null,\\\"azure_service\\\":\\\"remote\\\",\\\"many_models\\\":false,\\\"pipeline_fetch_max_batch_size\\\":1,\\\"enable_batch_run\\\":true,\\\"enable_parallel_run\\\":false,\\\"num_procs\\\":null,\\\"enable_run_restructure\\\":false,\\\"start_auxiliary_runs_before_parent_complete\\\":false,\\\"enable_code_generation\\\":true,\\\"iterations\\\":1000,\\\"primary_metric\\\":\\\"accuracy\\\",\\\"task_type\\\":\\\"classification\\\",\\\"positive_label\\\":null,\\\"data_script\\\":null,\\\"test_size\\\":0.0,\\\"test_include_predictions_only\\\":false,\\\"validation_size\\\":0.0,\\\"n_cross_validations\\\":null,\\\"y_min\\\":null,\\\"y_max\\\":null,\\\"num_classes\\\":null,\\\"featurization\\\":\\\"auto\\\",\\\"_ignore_package_version_incompatibilities\\\":false,\\\"is_timeseries\\\":false,\\\"max_cores_per_iteration\\\":1,\\\"max_concurrent_iterations\\\":5,\\\"iteration_timeout_minutes\\\":null,\\\"mem_in_mb\\\":null,\\\"enforce_time_on_windows\\\":false,\\\"experiment_timeout_minutes\\\":30,\\\"experiment_exit_score\\\":null,\\\"partition_column_names\\\":null,\\\"whitelist_models\\\":null,\\\"blacklist_algos\\\":[\\\"TensorFlowLinearClassifier\\\",\\\"TensorFlowDNN\\\"],\\\"supported_models\\\":[\\\"ExtremeRandomTrees\\\",\\\"LightGBM\\\",\\\"TensorFlowDNN\\\",\\\"AveragedPerceptronClassifier\\\",\\\"LogisticRegression\\\",\\\"DecisionTree\\\",\\\"RandomForest\\\",\\\"KNN\\\",\\\"BernoulliNaiveBayes\\\",\\\"TensorFlowLinearClassifier\\\",\\\"GradientBoosting\\\",\\\"XGBoostClassifier\\\",\\\"LinearSVM\\\",\\\"SGD\\\",\\\"MultinomialNaiveBayes\\\",\\\"TabnetClassifier\\\",\\\"SVM\\\"],\\\"private_models\\\":[],\\\"auto_blacklist\\\":true,\\\"blacklist_samples_reached\\\":false,\\\"exclude_nan_labels\\\":true,\\\"verbosity\\\":20,\\\"_debug_log\\\":\\\"azureml_automl.log\\\",\\\"show_warnings\\\":false,\\\"model_explainability\\\":true,\\\"service_url\\\":null,\\\"sdk_url\\\":null,\\\"sdk_packages\\\":null,\\\"enable_onnx_compatible_models\\\":false,\\\"enable_split_onnx_featurizer_estimator_models\\\":false,\\\"vm_type\\\":\\\"STANDARD_NC6\\\",\\\"telemetry_verbosity\\\":20,\\\"send_telemetry\\\":true,\\\"enable_dnn\\\":false,\\\"scenario\\\":\\\"AutoML\\\",\\\"environment_label\\\":null,\\\"save_mlflow\\\":false,\\\"enable_categorical_indicators\\\":false,\\\"force_text_dnn\\\":false,\\\"enable_feature_sweeping\\\":true,\\\"enable_early_stopping\\\":true,\\\"early_stopping_n_iters\\\":10,\\\"arguments\\\":null,\\\"dataset_id\\\":\\\"3ddc3abb-5bc8-4364-8ff8-23db2715bd50\\\",\\\"hyperdrive_config\\\":null,\\\"validation_dataset_id\\\":null,\\\"run_source\\\":null,\\\"metrics\\\":null,\\\"enable_metric_confidence\\\":false,\\\"enable_ensembling\\\":true,\\\"enable_stack_ensembling\\\":true,\\\"ensemble_iterations\\\":15,\\\"enable_tf\\\":false,\\\"enable_subsampling\\\":null,\\\"subsample_seed\\\":null,\\\"enable_nimbusml\\\":false,\\\"enable_streaming\\\":false,\\\"force_streaming\\\":false,\\\"track_child_runs\\\":true,\\\"n_best_runs\\\":1,\\\"allowed_private_models\\\":[],\\\"label_column_name\\\":\\\"salary\\\",\\\"weight_column_name\\\":null,\\\"cv_split_column_names\\\":null,\\\"enable_local_managed\\\":false,\\\"_local_managed_run_id\\\":null,\\\"cost_mode\\\":1,\\\"lag_length\\\":0,\\\"metric_operation\\\":\\\"maximize\\\",\\\"preprocess\\\":true}\", \"DataPrepJsonString\": \"{\\\\\\\"training_data\\\\\\\": {\\\\\\\"datasetId\\\\\\\": \\\\\\\"3ddc3abb-5bc8-4364-8ff8-23db2715bd50\\\\\\\"}, \\\\\\\"datasets\\\\\\\": 0}\", \"EnableSubsampling\": null, \"runTemplate\": \"AutoML\", \"azureml.runsource\": \"automl\", \"display_task_type\": \"classification\", \"dependencies_versions\": \"{\\\"azureml-widgets\\\": \\\"1.47.0\\\", \\\"azureml-training-tabular\\\": \\\"1.47.0\\\", \\\"azureml-train\\\": \\\"1.47.0\\\", \\\"azureml-train-restclients-hyperdrive\\\": \\\"1.47.0\\\", \\\"azureml-train-core\\\": \\\"1.47.0\\\", \\\"azureml-train-automl\\\": \\\"1.47.0\\\", \\\"azureml-train-automl-runtime\\\": \\\"1.47.0\\\", \\\"azureml-train-automl-client\\\": \\\"1.47.0\\\", \\\"azureml-tensorboard\\\": \\\"1.47.0\\\", \\\"azureml-telemetry\\\": \\\"1.47.0\\\", \\\"azureml-sdk\\\": \\\"1.47.0\\\", \\\"azureml-samples\\\": \\\"0+unknown\\\", \\\"azureml-responsibleai\\\": \\\"1.47.0\\\", \\\"azureml-pipeline\\\": \\\"1.47.0\\\", \\\"azureml-pipeline-steps\\\": \\\"1.47.0\\\", \\\"azureml-pipeline-core\\\": \\\"1.47.0\\\", \\\"azureml-opendatasets\\\": \\\"1.47.0\\\", \\\"azureml-mlflow\\\": \\\"1.47.0\\\", \\\"azureml-interpret\\\": \\\"1.47.0\\\", \\\"azureml-inference-server-http\\\": \\\"0.7.6\\\", \\\"azureml-explain-model\\\": \\\"1.47.0\\\", \\\"azureml-defaults\\\": \\\"1.47.0\\\", \\\"azureml-dataset-runtime\\\": \\\"1.47.0\\\", \\\"azureml-dataprep\\\": \\\"4.5.7\\\", \\\"azureml-dataprep-rslex\\\": \\\"2.11.4\\\", \\\"azureml-dataprep-native\\\": \\\"38.0.0\\\", \\\"azureml-datadrift\\\": \\\"1.47.0\\\", \\\"azureml-core\\\": \\\"1.47.0\\\", \\\"azureml-contrib-services\\\": \\\"1.47.0\\\", \\\"azureml-contrib-server\\\": \\\"1.47.0\\\", \\\"azureml-contrib-reinforcementlearning\\\": \\\"1.47.0\\\", \\\"azureml-contrib-pipeline-steps\\\": \\\"1.47.0\\\", \\\"azureml-contrib-notebook\\\": \\\"1.47.0\\\", \\\"azureml-contrib-fairness\\\": \\\"1.47.0\\\", \\\"azureml-contrib-dataset\\\": \\\"1.47.0\\\", \\\"azureml-contrib-automl-pipeline-steps\\\": \\\"1.47.0\\\", \\\"azureml-cli-common\\\": \\\"1.47.0\\\", \\\"azureml-automl-runtime\\\": \\\"1.47.0\\\", \\\"azureml-automl-dnn-nlp\\\": \\\"1.47.0\\\", \\\"azureml-automl-core\\\": \\\"1.47.0\\\", \\\"azureml-accel-models\\\": \\\"1.47.0\\\"}\", \"_aml_system_scenario_identification\": \"Remote.Parent\", \"ClientType\": \"SDK\", \"environment_cpu_name\": \"AzureML-AutoML\", \"environment_cpu_label\": \"prod\", \"environment_gpu_name\": \"AzureML-AutoML-GPU\", \"environment_gpu_label\": \"prod\", \"root_attribution\": \"automl\", \"attribution\": \"AutoML\", \"Orchestrator\": \"AutoML\", \"CancelUri\": \"https://uksouth.api.azureml.ms/jasmine/v1.0/subscriptions/36cd5b29-0f0b-4505-8ed0-2c1f142e8de3/resourceGroups/mlops-udacity-rg/providers/Microsoft.MachineLearningServices/workspaces/mlops-udacity-ws/experimentids/6de2a69f-8df1-4b63-b201-165bb8f74b89/cancel/AutoML_6153b81f-cfb1-45cc-82ff-928ca40cb597\", \"ClientSdkVersion\": \"1.48.0.post1\", \"snapshotId\": \"00000000-0000-0000-0000-000000000000\", \"SetupRunId\": \"AutoML_6153b81f-cfb1-45cc-82ff-928ca40cb597_setup\", \"SetupRunContainerId\": \"dcid.AutoML_6153b81f-cfb1-45cc-82ff-928ca40cb597_setup\", \"FeaturizationRunJsonPath\": \"featurizer_container.json\", \"FeaturizationRunId\": \"AutoML_6153b81f-cfb1-45cc-82ff-928ca40cb597_featurize\", \"ProblemInfoJsonString\": \"{\\\"dataset_num_categorical\\\": 0, \\\"is_sparse\\\": true, \\\"subsampling\\\": false, \\\"has_extra_col\\\": true, \\\"dataset_classes\\\": 2, \\\"dataset_features\\\": 94, \\\"dataset_samples\\\": 29304, \\\"single_frequency_class_detected\\\": false}\", \"ModelExplainRunId\": \"AutoML_6153b81f-cfb1-45cc-82ff-928ca40cb597_ModelExplain\"}, \"tags\": {\"model_explain_run\": \"best_run\", \"_aml_system_automl_run_workspace_id\": \"c95affc8-22be-47ea-88b3-8058bfccac5b\", \"_aml_system_azureml.automlComponent\": \"AutoML\", \"is_gpu\": \"True\", \"pipeline_id\": \"\", \"score\": \"\", \"predicted_cost\": \"\", \"fit_time\": \"\", \"training_percent\": \"\", \"iteration\": \"\", \"run_preprocessor\": \"\", \"run_algorithm\": \"\", \"dynamic_allowlisting_iterations\": \"<25>;<30>;<35>;<40>;\", \"_aml_system_azureml.automl_early_exit_message\": \"No scores improved over last 10 iterations, so experiment stopped early. This early stopping behavior can be disabled by setting enable_early_stopping = False in AutoMLConfig for notebook/python SDK runs.\", \"automl_best_child_run_id\": \"AutoML_6153b81f-cfb1-45cc-82ff-928ca40cb597_41\", \"model_explain_best_run_child_id\": \"AutoML_6153b81f-cfb1-45cc-82ff-928ca40cb597_41\"}, \"end_time_utc\": \"2023-01-28T16:26:24.215896Z\", \"status\": \"Completed\", \"log_files\": {}, \"log_groups\": [], \"run_duration\": \"0:28:30\", \"run_number\": \"1674921473\", \"run_queued_details\": {\"status\": \"Completed\", \"details\": null}}, \"child_runs\": [{\"run_id\": \"AutoML_6153b81f-cfb1-45cc-82ff-928ca40cb597_setup\", \"run_number\": 1674921491, \"metric\": null, \"status\": \"Completed\", \"run_type\": \"azureml.scriptrun\", \"training_percent\": null, \"start_time\": \"2023-01-28T15:58:19.492344Z\", \"end_time\": \"2023-01-28T16:03:00.082354Z\", \"created_time\": \"2023-01-28T15:58:11.503617Z\", \"created_time_dt\": \"2023-01-28T15:58:11.503617Z\", \"duration\": \"0:04:48\", \"iteration\": null, \"goal\": null, \"run_name\": \"Completed\", \"run_properties\": null}, {\"run_id\": \"AutoML_6153b81f-cfb1-45cc-82ff-928ca40cb597_featurize\", \"run_number\": 1674921780, \"metric\": null, \"status\": \"Completed\", \"run_type\": \"automl.featurization\", \"training_percent\": null, \"start_time\": \"2023-01-28T16:03:00.623751Z\", \"end_time\": \"2023-01-28T16:03:41.773679Z\", \"created_time\": \"2023-01-28T16:03:00.404763Z\", \"created_time_dt\": \"2023-01-28T16:03:00.404763Z\", \"duration\": \"0:00:41\", \"iteration\": null, \"goal\": null, \"run_name\": \"Completed\", \"run_properties\": null}, {\"run_id\": \"AutoML_6153b81f-cfb1-45cc-82ff-928ca40cb597_0\", \"run_number\": 1674921823, \"metric\": null, \"status\": \"Completed\", \"run_type\": null, \"training_percent\": \"100\", \"start_time\": \"2023-01-28T16:03:59.880157Z\", \"end_time\": \"2023-01-28T16:04:24.733976Z\", \"created_time\": \"2023-01-28T16:03:43.041887Z\", \"created_time_dt\": \"2023-01-28T16:03:43.041887Z\", \"duration\": \"0:00:41\", \"iteration\": \"0\", \"goal\": \"accuracy_max\", \"run_name\": \"MaxAbsScaler, LightGBM\", \"run_properties\": \"copy=True\", \"primary_metric\": 0.87657353, \"best_metric\": 0.87657353}, {\"run_id\": \"AutoML_6153b81f-cfb1-45cc-82ff-928ca40cb597_worker_0\", \"run_number\": 1674921824, \"metric\": null, \"status\": \"Completed\", \"run_type\": \"azureml.scriptrun\", \"training_percent\": null, \"start_time\": \"2023-01-28T16:03:49.732867Z\", \"end_time\": \"2023-01-28T16:05:20.593672Z\", \"created_time\": \"2023-01-28T16:03:44.714769Z\", \"created_time_dt\": \"2023-01-28T16:03:44.714769Z\", \"duration\": \"0:01:35\", \"iteration\": null, \"goal\": null, \"run_name\": \"Completed\", \"run_properties\": null}, {\"run_id\": \"AutoML_6153b81f-cfb1-45cc-82ff-928ca40cb597_5\", \"run_number\": 1674921825, \"metric\": null, \"status\": \"Completed\", \"run_type\": null, \"training_percent\": \"100\", \"start_time\": \"2023-01-28T16:05:57.055059Z\", \"end_time\": \"2023-01-28T16:06:11.641089Z\", \"created_time\": \"2023-01-28T16:03:45.312562Z\", \"created_time_dt\": \"2023-01-28T16:03:45.312562Z\", \"duration\": \"0:02:26\", \"iteration\": \"5\", \"goal\": \"accuracy_max\", \"run_name\": \"MaxAbsScaler, LightGBM\", \"run_properties\": \"copy=True\", \"primary_metric\": 0.78753454, \"best_metric\": 0.87657353}, {\"run_id\": \"AutoML_6153b81f-cfb1-45cc-82ff-928ca40cb597_worker_1\", \"run_number\": 1674921826, \"metric\": null, \"status\": \"Completed\", \"run_type\": \"azureml.scriptrun\", \"training_percent\": null, \"start_time\": \"2023-01-28T16:05:26.636399Z\", \"end_time\": \"2023-01-28T16:06:49.621294Z\", \"created_time\": \"2023-01-28T16:03:46.392634Z\", \"created_time_dt\": \"2023-01-28T16:03:46.392634Z\", \"duration\": \"0:03:03\", \"iteration\": null, \"goal\": null, \"run_name\": \"Completed\", \"run_properties\": null}, {\"run_id\": \"AutoML_6153b81f-cfb1-45cc-82ff-928ca40cb597_worker_2\", \"run_number\": 1674921827, \"metric\": null, \"status\": \"Completed\", \"run_type\": \"azureml.scriptrun\", \"training_percent\": null, \"start_time\": \"2023-01-28T16:06:54.317067Z\", \"end_time\": \"2023-01-28T16:08:15.502233Z\", \"created_time\": \"2023-01-28T16:03:47.961551Z\", \"created_time_dt\": \"2023-01-28T16:03:47.961551Z\", \"duration\": \"0:04:27\", \"iteration\": null, \"goal\": null, \"run_name\": \"Completed\", \"run_properties\": null}, {\"run_id\": \"AutoML_6153b81f-cfb1-45cc-82ff-928ca40cb597_12\", \"run_number\": 1674921828, \"metric\": null, \"status\": \"Completed\", \"run_type\": null, \"training_percent\": \"100\", \"start_time\": \"2023-01-28T16:08:33.476673Z\", \"end_time\": \"2023-01-28T16:08:49.007016Z\", \"created_time\": \"2023-01-28T16:03:48.111616Z\", \"created_time_dt\": \"2023-01-28T16:03:48.111616Z\", \"duration\": \"0:05:00\", \"iteration\": \"12\", \"goal\": \"accuracy_max\", \"run_name\": \"MaxAbsScaler, LogisticRegression\", \"run_properties\": \"copy=True\", \"primary_metric\": 0.84525637, \"best_metric\": 0.87657353}, {\"run_id\": \"AutoML_6153b81f-cfb1-45cc-82ff-928ca40cb597_worker_3\", \"run_number\": 1674921829, \"metric\": null, \"status\": \"Completed\", \"run_type\": \"azureml.scriptrun\", \"training_percent\": null, \"start_time\": \"2023-01-28T16:08:22.351571Z\", \"end_time\": \"2023-01-28T16:09:43.944362Z\", \"created_time\": \"2023-01-28T16:03:49.592715Z\", \"created_time_dt\": \"2023-01-28T16:03:49.592715Z\", \"duration\": \"0:05:54\", \"iteration\": null, \"goal\": null, \"run_name\": \"Completed\", \"run_properties\": null}, {\"run_id\": \"AutoML_6153b81f-cfb1-45cc-82ff-928ca40cb597_17\", \"run_number\": 1674921830, \"metric\": null, \"status\": \"Completed\", \"run_type\": null, \"training_percent\": \"100\", \"start_time\": \"2023-01-28T16:10:52.815495Z\", \"end_time\": \"2023-01-28T16:11:07.666794Z\", \"created_time\": \"2023-01-28T16:03:50.142229Z\", \"created_time_dt\": \"2023-01-28T16:03:50.142229Z\", \"duration\": \"0:07:17\", \"iteration\": \"17\", \"goal\": \"accuracy_max\", \"run_name\": \"StandardScalerWrapper, RandomForest\", \"run_properties\": \"copy=True, with_mean=False, with_std=False\", \"primary_metric\": 0.84679153, \"best_metric\": 0.87657353}, {\"run_id\": \"AutoML_6153b81f-cfb1-45cc-82ff-928ca40cb597_worker_4\", \"run_number\": 1674921831, \"metric\": null, \"status\": \"Completed\", \"run_type\": \"azureml.scriptrun\", \"training_percent\": null, \"start_time\": \"2023-01-28T16:10:26.957Z\", \"end_time\": \"2023-01-28T16:12:03.425348Z\", \"created_time\": \"2023-01-28T16:03:51.178827Z\", \"created_time_dt\": \"2023-01-28T16:03:51.178827Z\", \"duration\": \"0:08:12\", \"iteration\": null, \"goal\": null, \"run_name\": \"Completed\", \"run_properties\": null}, {\"run_id\": \"AutoML_6153b81f-cfb1-45cc-82ff-928ca40cb597_22\", \"run_number\": 1674922178, \"metric\": null, \"status\": \"Completed\", \"run_type\": \"azureml.scriptrun\", \"training_percent\": \"100\", \"start_time\": \"2023-01-28T16:09:47.550236Z\", \"end_time\": \"2023-01-28T16:10:21.963973Z\", \"created_time\": \"2023-01-28T16:09:38.491896Z\", \"created_time_dt\": \"2023-01-28T16:09:38.491896Z\", \"duration\": \"0:00:43\", \"iteration\": \"22\", \"goal\": \"accuracy_max\", \"run_name\": \"SparseNormalizer, XGBoostClassifier\", \"run_properties\": \"copy=True, norm='l1'\", \"primary_metric\": 0.85784464, \"best_metric\": 0.87657353}, {\"run_id\": \"AutoML_6153b81f-cfb1-45cc-82ff-928ca40cb597_24\", \"run_number\": 1674922270, \"metric\": null, \"status\": \"Completed\", \"run_type\": \"azureml.scriptrun\", \"training_percent\": \"100\", \"start_time\": \"2023-01-28T16:13:49.943695Z\", \"end_time\": \"2023-01-28T16:14:21.230705Z\", \"created_time\": \"2023-01-28T16:11:10.263535Z\", \"created_time_dt\": \"2023-01-28T16:11:10.263535Z\", \"duration\": \"0:03:10\", \"iteration\": \"24\", \"goal\": \"accuracy_max\", \"run_name\": \"StandardScalerWrapper, RandomForest\", \"run_properties\": \"copy=True, with_mean=False, with_std=False\", \"primary_metric\": 0.79152594, \"best_metric\": 0.87657353}, {\"run_id\": \"AutoML_6153b81f-cfb1-45cc-82ff-928ca40cb597_25\", \"run_number\": 1674922378, \"metric\": null, \"status\": \"Completed\", \"run_type\": \"azureml.scriptrun\", \"training_percent\": \"100\", \"start_time\": \"2023-01-28T16:14:26.23032Z\", \"end_time\": \"2023-01-28T16:15:11.030081Z\", \"created_time\": \"2023-01-28T16:12:58.530075Z\", \"created_time_dt\": \"2023-01-28T16:12:58.530075Z\", \"duration\": \"0:02:12\", \"iteration\": \"25\", \"goal\": \"accuracy_max\", \"run_name\": \"StandardScalerWrapper, XGBoostClassifier\", \"run_properties\": \"copy=True, with_mean=False, with_std=False\", \"primary_metric\": 0.87534541, \"best_metric\": 0.87657353}, {\"run_id\": \"AutoML_6153b81f-cfb1-45cc-82ff-928ca40cb597_26\", \"run_number\": 1674922391, \"metric\": null, \"status\": \"Completed\", \"run_type\": \"azureml.scriptrun\", \"training_percent\": \"100\", \"start_time\": \"2023-01-28T16:15:51.159475Z\", \"end_time\": \"2023-01-28T16:16:24.737605Z\", \"created_time\": \"2023-01-28T16:13:11.43127Z\", \"created_time_dt\": \"2023-01-28T16:13:11.43127Z\", \"duration\": \"0:03:13\", \"iteration\": \"26\", \"goal\": \"accuracy_max\", \"run_name\": \"TruncatedSVDWrapper, XGBoostClassifier\", \"run_properties\": \"n_components=0.8015789473684211, random_state=None\", \"primary_metric\": 0.84587043, \"best_metric\": 0.87657353}, {\"run_id\": \"AutoML_6153b81f-cfb1-45cc-82ff-928ca40cb597_27\", \"run_number\": 1674922426, \"metric\": null, \"status\": \"Completed\", \"run_type\": \"azureml.scriptrun\", \"training_percent\": \"100\", \"start_time\": \"2023-01-28T16:17:40.187828Z\", \"end_time\": \"2023-01-28T16:18:22.307915Z\", \"created_time\": \"2023-01-28T16:13:46.710931Z\", \"created_time_dt\": \"2023-01-28T16:13:46.710931Z\", \"duration\": \"0:04:35\", \"iteration\": \"27\", \"goal\": \"accuracy_max\", \"run_name\": \"SparseNormalizer, XGBoostClassifier\", \"run_properties\": \"copy=True, norm='max'\", \"primary_metric\": 0.84801965, \"best_metric\": 0.87657353}, {\"run_id\": \"AutoML_6153b81f-cfb1-45cc-82ff-928ca40cb597_28\", \"run_number\": 1674922462, \"metric\": null, \"status\": \"Completed\", \"run_type\": \"azureml.scriptrun\", \"training_percent\": \"100\", \"start_time\": \"2023-01-28T16:17:03.875853Z\", \"end_time\": \"2023-01-28T16:17:36.402053Z\", \"created_time\": \"2023-01-28T16:14:22.536394Z\", \"created_time_dt\": \"2023-01-28T16:14:22.536394Z\", \"duration\": \"0:03:13\", \"iteration\": \"28\", \"goal\": \"accuracy_max\", \"run_name\": \"SparseNormalizer, XGBoostClassifier\", \"run_properties\": \"copy=True, norm='l1'\", \"primary_metric\": 0.85784464, \"best_metric\": 0.87657353}, {\"run_id\": \"AutoML_6153b81f-cfb1-45cc-82ff-928ca40cb597_29\", \"run_number\": 1674922512, \"metric\": null, \"status\": \"Completed\", \"run_type\": \"azureml.scriptrun\", \"training_percent\": \"100\", \"start_time\": \"2023-01-28T16:16:30.349582Z\", \"end_time\": \"2023-01-28T16:17:02.240526Z\", \"created_time\": \"2023-01-28T16:15:12.418195Z\", \"created_time_dt\": \"2023-01-28T16:15:12.418195Z\", \"duration\": \"0:01:49\", \"iteration\": \"29\", \"goal\": \"accuracy_max\", \"run_name\": \"StandardScalerWrapper, XGBoostClassifier\", \"run_properties\": \"copy=True, with_mean=False, with_std=False\", \"primary_metric\": 0.84218606, \"best_metric\": 0.87657353}, {\"run_id\": \"AutoML_6153b81f-cfb1-45cc-82ff-928ca40cb597_30\", \"run_number\": 1674922549, \"metric\": null, \"status\": \"Completed\", \"run_type\": \"azureml.scriptrun\", \"training_percent\": \"100\", \"start_time\": \"2023-01-28T16:18:25.616937Z\", \"end_time\": \"2023-01-28T16:18:53.482262Z\", \"created_time\": \"2023-01-28T16:15:49.509788Z\", \"created_time_dt\": \"2023-01-28T16:15:49.509788Z\", \"duration\": \"0:03:03\", \"iteration\": \"30\", \"goal\": \"accuracy_max\", \"run_name\": \"StandardScalerWrapper, XGBoostClassifier\", \"run_properties\": \"copy=True, with_mean=False, with_std=False\", \"primary_metric\": 0.82836967, \"best_metric\": 0.87657353}, {\"run_id\": \"AutoML_6153b81f-cfb1-45cc-82ff-928ca40cb597_31\", \"run_number\": 1674922586, \"metric\": null, \"status\": \"Completed\", \"run_type\": \"azureml.scriptrun\", \"training_percent\": \"100\", \"start_time\": \"2023-01-28T16:18:59.001718Z\", \"end_time\": \"2023-01-28T16:19:35.530194Z\", \"created_time\": \"2023-01-28T16:16:26.123294Z\", \"created_time_dt\": \"2023-01-28T16:16:26.123294Z\", \"duration\": \"0:03:09\", \"iteration\": \"31\", \"goal\": \"accuracy_max\", \"run_name\": \"StandardScalerWrapper, XGBoostClassifier\", \"run_properties\": \"copy=True, with_mean=False, with_std=False\", \"primary_metric\": 0.86859073, \"best_metric\": 0.87657353}, {\"run_id\": \"AutoML_6153b81f-cfb1-45cc-82ff-928ca40cb597_32\", \"run_number\": 1674922623, \"metric\": null, \"status\": \"Completed\", \"run_type\": \"azureml.scriptrun\", \"training_percent\": \"100\", \"start_time\": \"2023-01-28T16:19:38.818292Z\", \"end_time\": \"2023-01-28T16:20:17.900035Z\", \"created_time\": \"2023-01-28T16:17:03.428462Z\", \"created_time_dt\": \"2023-01-28T16:17:03.428462Z\", \"duration\": \"0:03:14\", \"iteration\": \"32\", \"goal\": \"accuracy_max\", \"run_name\": \"StandardScalerWrapper, XGBoostClassifier\", \"run_properties\": \"copy=True, with_mean=False, with_std=False\", \"primary_metric\": 0.86275714, \"best_metric\": 0.87657353}, {\"run_id\": \"AutoML_6153b81f-cfb1-45cc-82ff-928ca40cb597_33\", \"run_number\": 1674922657, \"metric\": null, \"status\": \"Completed\", \"run_type\": \"azureml.scriptrun\", \"training_percent\": \"100\", \"start_time\": \"2023-01-28T16:21:39.701676Z\", \"end_time\": \"2023-01-28T16:22:15.743145Z\", \"created_time\": \"2023-01-28T16:17:37.593635Z\", \"created_time_dt\": \"2023-01-28T16:17:37.593635Z\", \"duration\": \"0:04:38\", \"iteration\": \"33\", \"goal\": \"accuracy_max\", \"run_name\": \"StandardScalerWrapper, XGBoostClassifier\", \"run_properties\": \"copy=True, with_mean=False, with_std=False\", \"primary_metric\": 0.87964384, \"best_metric\": 0.87964384}, {\"run_id\": \"AutoML_6153b81f-cfb1-45cc-82ff-928ca40cb597_34\", \"run_number\": 1674922703, \"metric\": null, \"status\": \"Completed\", \"run_type\": \"azureml.scriptrun\", \"training_percent\": \"100\", \"start_time\": \"2023-01-28T16:20:21.127291Z\", \"end_time\": \"2023-01-28T16:20:59.844721Z\", \"created_time\": \"2023-01-28T16:18:23.517179Z\", \"created_time_dt\": \"2023-01-28T16:18:23.517179Z\", \"duration\": \"0:02:36\", \"iteration\": \"34\", \"goal\": \"accuracy_max\", \"run_name\": \"StandardScalerWrapper, XGBoostClassifier\", \"run_properties\": \"copy=True, with_mean=False, with_std=False\", \"primary_metric\": 0.86459932, \"best_metric\": 0.87964384}, {\"run_id\": \"AutoML_6153b81f-cfb1-45cc-82ff-928ca40cb597_35\", \"run_number\": 1674922735, \"metric\": null, \"status\": \"Completed\", \"run_type\": \"azureml.scriptrun\", \"training_percent\": \"100\", \"start_time\": \"2023-01-28T16:21:03.310253Z\", \"end_time\": \"2023-01-28T16:21:34.916897Z\", \"created_time\": \"2023-01-28T16:18:55.520593Z\", \"created_time_dt\": \"2023-01-28T16:18:55.520593Z\", \"duration\": \"0:02:39\", \"iteration\": \"35\", \"goal\": \"accuracy_max\", \"run_name\": \"SparseNormalizer, XGBoostClassifier\", \"run_properties\": \"copy=True, norm='l1'\", \"primary_metric\": 0.75928769, \"best_metric\": 0.87964384}, {\"run_id\": \"AutoML_6153b81f-cfb1-45cc-82ff-928ca40cb597_36\", \"run_number\": 1674922776, \"metric\": null, \"status\": \"Completed\", \"run_type\": \"azureml.scriptrun\", \"training_percent\": \"100\", \"start_time\": \"2023-01-28T16:22:18.684126Z\", \"end_time\": \"2023-01-28T16:22:52.673108Z\", \"created_time\": \"2023-01-28T16:19:36.8186Z\", \"created_time_dt\": \"2023-01-28T16:19:36.8186Z\", \"duration\": \"0:03:15\", \"iteration\": \"36\", \"goal\": \"accuracy_max\", \"run_name\": \"SparseNormalizer, XGBoostClassifier\", \"run_properties\": \"copy=True, norm='l1'\", \"primary_metric\": 0.85815167, \"best_metric\": 0.87964384}, {\"run_id\": \"AutoML_6153b81f-cfb1-45cc-82ff-928ca40cb597_37\", \"run_number\": 1674922819, \"metric\": null, \"status\": \"Canceled\", \"run_type\": \"azureml.scriptrun\", \"training_percent\": \"100\", \"start_time\": \"2023-01-28T16:22:53.102334Z\", \"end_time\": \"2023-01-28T16:22:54.069901Z\", \"created_time\": \"2023-01-28T16:20:19.140226Z\", \"created_time_dt\": \"2023-01-28T16:20:19.140226Z\", \"duration\": \"0:02:34\", \"iteration\": \"37\", \"goal\": null, \"run_name\": \"Canceled\", \"run_properties\": null}, {\"run_id\": \"AutoML_6153b81f-cfb1-45cc-82ff-928ca40cb597_38\", \"run_number\": 1674922861, \"metric\": null, \"status\": \"Canceled\", \"run_type\": \"azureml.scriptrun\", \"training_percent\": \"100\", \"start_time\": \"2023-01-28T16:22:53.109722Z\", \"end_time\": \"2023-01-28T16:22:53.603874Z\", \"created_time\": \"2023-01-28T16:21:01.251606Z\", \"created_time_dt\": \"2023-01-28T16:21:01.251606Z\", \"duration\": \"0:01:52\", \"iteration\": \"38\", \"goal\": null, \"run_name\": \"Canceled\", \"run_properties\": null}, {\"run_id\": \"AutoML_6153b81f-cfb1-45cc-82ff-928ca40cb597_39\", \"run_number\": 1674922896, \"metric\": null, \"status\": \"Canceled\", \"run_type\": \"azureml.scriptrun\", \"training_percent\": \"100\", \"start_time\": \"2023-01-28T16:22:53.09433Z\", \"end_time\": \"2023-01-28T16:22:53.283392Z\", \"created_time\": \"2023-01-28T16:21:36.080423Z\", \"created_time_dt\": \"2023-01-28T16:21:36.080423Z\", \"duration\": \"0:01:17\", \"iteration\": \"39\", \"goal\": null, \"run_name\": \"Canceled\", \"run_properties\": null}, {\"run_id\": \"AutoML_6153b81f-cfb1-45cc-82ff-928ca40cb597_40\", \"run_number\": 1674922937, \"metric\": null, \"status\": \"Canceled\", \"run_type\": \"azureml.scriptrun\", \"training_percent\": \"100\", \"start_time\": \"2023-01-28T16:22:53.048638Z\", \"end_time\": \"2023-01-28T16:22:53.311895Z\", \"created_time\": \"2023-01-28T16:22:17.902205Z\", \"created_time_dt\": \"2023-01-28T16:22:17.902205Z\", \"duration\": \"0:00:35\", \"iteration\": \"40\", \"goal\": null, \"run_name\": \"Canceled\", \"run_properties\": null}, {\"run_id\": \"AutoML_6153b81f-cfb1-45cc-82ff-928ca40cb597_41\", \"run_number\": 1674922974, \"metric\": null, \"status\": \"Completed\", \"run_type\": \"azureml.scriptrun\", \"training_percent\": \"100\", \"start_time\": \"2023-01-28T16:23:55.987606Z\", \"end_time\": \"2023-01-28T16:24:38.693595Z\", \"created_time\": \"2023-01-28T16:22:54.702514Z\", \"created_time_dt\": \"2023-01-28T16:22:54.702514Z\", \"duration\": \"0:01:43\", \"iteration\": \"41\", \"goal\": \"accuracy_max\", \"run_name\": \"VotingEnsemble\", \"run_properties\": \"classification_labels=numpy.array([0, 1]\", \"primary_metric\": 0.8860915, \"best_metric\": 0.8860915}], \"children_metrics\": {\"categories\": [0], \"series\": {\"f1_score_macro\": [{\"categories\": [\"0\", \"5\", \"12\", \"17\", \"22\", \"24\", \"25\", \"26\", \"27\", \"28\", \"29\", \"30\", \"31\", \"32\", \"33\", \"34\", \"35\", \"36\", \"41\"], \"mode\": \"markers\", \"name\": \"f1_score_macro\", \"stepped\": false, \"type\": \"scatter\", \"data\": [0.8191761048190096, 0.5436535511637438, 0.7723704135119394, 0.7482041116381251, 0.7859033251200929, 0.5585904293592954, 0.8103190177008923, 0.7751049501246197, 0.7801109909520647, 0.7945288202981666, 0.7274911773515125, 0.6890757967221055, 0.8110819586818524, 0.8059708892162958, 0.8209291000731574, 0.785732410647436, 0.4315881326352531, 0.7904809458512627, 0.8321817893700194]}, {\"categories\": [\"0\", \"5\", \"12\", \"17\", \"22\", \"24\", \"25\", \"26\", \"27\", \"28\", \"29\", \"30\", \"31\", \"32\", \"33\", \"34\", \"35\", \"36\", \"41\"], \"mode\": \"lines\", \"name\": \"f1_score_macro_max\", \"stepped\": true, \"type\": \"scatter\", \"data\": [0.8191761048190096, 0.8191761048190096, 0.8191761048190096, 0.8191761048190096, 0.8191761048190096, 0.8191761048190096, 0.8191761048190096, 0.8191761048190096, 0.8191761048190096, 0.8191761048190096, 0.8191761048190096, 0.8191761048190096, 0.8191761048190096, 0.8191761048190096, 0.8209291000731574, 0.8209291000731574, 0.8209291000731574, 0.8209291000731574, 0.8321817893700194]}], \"precision_score_micro\": [{\"categories\": [\"0\", \"5\", \"12\", \"17\", \"22\", \"24\", \"25\", \"26\", \"27\", \"28\", \"29\", \"30\", \"31\", \"32\", \"33\", \"34\", \"35\", \"36\", \"41\"], \"mode\": \"markers\", \"name\": \"precision_score_micro\", \"stepped\": false, \"type\": \"scatter\", \"data\": [0.8765735339269266, 0.7875345409886398, 0.8452563708934603, 0.8467915259441203, 0.8578446423088733, 0.7915259441203562, 0.8753454098863985, 0.8458704329137243, 0.8480196499846484, 0.8578446423088733, 0.84218606079214, 0.8283696653361989, 0.868590727663494, 0.8627571384709856, 0.8796438440282468, 0.8645993245317777, 0.7592876880564937, 0.8581516733190052, 0.8860914952410194]}, {\"categories\": [\"0\", \"5\", \"12\", \"17\", \"22\", \"24\", \"25\", \"26\", \"27\", \"28\", \"29\", \"30\", \"31\", \"32\", \"33\", \"34\", \"35\", \"36\", \"41\"], \"mode\": \"lines\", \"name\": \"precision_score_micro_max\", \"stepped\": true, \"type\": \"scatter\", \"data\": [0.8765735339269266, 0.8765735339269266, 0.8765735339269266, 0.8765735339269266, 0.8765735339269266, 0.8765735339269266, 0.8765735339269266, 0.8765735339269266, 0.8765735339269266, 0.8765735339269266, 0.8765735339269266, 0.8765735339269266, 0.8765735339269266, 0.8765735339269266, 0.8796438440282468, 0.8796438440282468, 0.8796438440282468, 0.8796438440282468, 0.8860914952410194]}], \"recall_score_micro\": [{\"categories\": [\"0\", \"5\", \"12\", \"17\", \"22\", \"24\", \"25\", \"26\", \"27\", \"28\", \"29\", \"30\", \"31\", \"32\", \"33\", \"34\", \"35\", \"36\", \"41\"], \"mode\": \"markers\", \"name\": \"recall_score_micro\", \"stepped\": false, \"type\": \"scatter\", \"data\": [0.8765735339269266, 0.7875345409886398, 0.8452563708934603, 0.8467915259441203, 0.8578446423088733, 0.7915259441203562, 0.8753454098863985, 0.8458704329137243, 0.8480196499846484, 0.8578446423088733, 0.84218606079214, 0.8283696653361989, 0.868590727663494, 0.8627571384709856, 0.8796438440282468, 0.8645993245317777, 0.7592876880564937, 0.8581516733190052, 0.8860914952410194]}, {\"categories\": [\"0\", \"5\", \"12\", \"17\", \"22\", \"24\", \"25\", \"26\", \"27\", \"28\", \"29\", \"30\", \"31\", \"32\", \"33\", \"34\", \"35\", \"36\", \"41\"], \"mode\": \"lines\", \"name\": \"recall_score_micro_max\", \"stepped\": true, \"type\": \"scatter\", \"data\": [0.8765735339269266, 0.8765735339269266, 0.8765735339269266, 0.8765735339269266, 0.8765735339269266, 0.8765735339269266, 0.8765735339269266, 0.8765735339269266, 0.8765735339269266, 0.8765735339269266, 0.8765735339269266, 0.8765735339269266, 0.8765735339269266, 0.8765735339269266, 0.8796438440282468, 0.8796438440282468, 0.8796438440282468, 0.8796438440282468, 0.8860914952410194]}], \"average_precision_score_macro\": [{\"categories\": [\"0\", \"5\", \"12\", \"17\", \"22\", \"24\", \"25\", \"26\", \"27\", \"28\", \"29\", \"30\", \"31\", \"32\", \"33\", \"34\", \"35\", \"36\", \"41\"], \"mode\": \"markers\", \"name\": \"average_precision_score_macro\", \"stepped\": false, \"type\": \"scatter\", \"data\": [0.9104549072216604, 0.8847385720502039, 0.8625403408733952, 0.869006214870609, 0.8764561964433725, 0.8518398196580281, 0.9097208379946868, 0.8584262830144047, 0.8717849641528616, 0.8814708569276968, 0.8537710824900019, 0.8487275777464652, 0.8935145411674354, 0.8866773724830959, 0.9104934695125522, 0.8835994026566066, 0.5, 0.8847256502886327, 0.9102401635652664]}, {\"categories\": [\"0\", \"5\", \"12\", \"17\", \"22\", \"24\", \"25\", \"26\", \"27\", \"28\", \"29\", \"30\", \"31\", \"32\", \"33\", \"34\", \"35\", \"36\", \"41\"], \"mode\": \"lines\", \"name\": \"average_precision_score_macro_max\", \"stepped\": true, \"type\": \"scatter\", \"data\": [0.9104549072216604, 0.9104549072216604, 0.9104549072216604, 0.9104549072216604, 0.9104549072216604, 0.9104549072216604, 0.9104549072216604, 0.9104549072216604, 0.9104549072216604, 0.9104549072216604, 0.9104549072216604, 0.9104549072216604, 0.9104549072216604, 0.9104549072216604, 0.9104934695125522, 0.9104934695125522, 0.9104934695125522, 0.9104934695125522, 0.9104934695125522]}], \"recall_score_macro\": [{\"categories\": [\"0\", \"5\", \"12\", \"17\", \"22\", \"24\", \"25\", \"26\", \"27\", \"28\", \"29\", \"30\", \"31\", \"32\", \"33\", \"34\", \"35\", \"36\", \"41\"], \"mode\": \"markers\", \"name\": \"recall_score_macro\", \"stepped\": false, \"type\": \"scatter\", \"data\": [0.7993756034561014, 0.5586734693877551, 0.7547964444572814, 0.7144280680327125, 0.7622148283090024, 0.5673998572336334, 0.7820151513901152, 0.7591209552967972, 0.7657630986078217, 0.7796376890829118, 0.6917945959216683, 0.6583043296170066, 0.7967322594221675, 0.7963753435057808, 0.7970417240895549, 0.7522890069897753, 0.5, 0.7706928707593025, 0.8099990097130643]}, {\"categories\": [\"0\", \"5\", \"12\", \"17\", \"22\", \"24\", \"25\", \"26\", \"27\", \"28\", \"29\", \"30\", \"31\", \"32\", \"33\", \"34\", \"35\", \"36\", \"41\"], \"mode\": \"lines\", \"name\": \"recall_score_macro_max\", \"stepped\": true, \"type\": \"scatter\", \"data\": [0.7993756034561014, 0.7993756034561014, 0.7993756034561014, 0.7993756034561014, 0.7993756034561014, 0.7993756034561014, 0.7993756034561014, 0.7993756034561014, 0.7993756034561014, 0.7993756034561014, 0.7993756034561014, 0.7993756034561014, 0.7993756034561014, 0.7993756034561014, 0.7993756034561014, 0.7993756034561014, 0.7993756034561014, 0.7993756034561014, 0.8099990097130643]}], \"weighted_accuracy\": [{\"categories\": [\"0\", \"5\", \"12\", \"17\", \"22\", \"24\", \"25\", \"26\", \"27\", \"28\", \"29\", \"30\", \"31\", \"32\", \"33\", \"34\", \"35\", \"36\", \"41\"], \"mode\": \"markers\", \"name\": \"weighted_accuracy\", \"stepped\": false, \"type\": \"scatter\", \"data\": [0.9210505788301858, 0.919391238391266, 0.8973742215341323, 0.9230518016428483, 0.9129410873226421, 0.9206546133690718, 0.9291169821637248, 0.8958505345533726, 0.895411183758433, 0.9029030285786029, 0.9288330459550236, 0.926351612872072, 0.9099914789421408, 0.9010025429451659, 0.9272344746994415, 0.9293061243896152, 0.9086744666166945, 0.908540447537548, 0.9299316458122382]}, {\"categories\": [\"0\", \"5\", \"12\", \"17\", \"22\", \"24\", \"25\", \"26\", \"27\", \"28\", \"29\", \"30\", \"31\", \"32\", \"33\", \"34\", \"35\", \"36\", \"41\"], \"mode\": \"lines\", \"name\": \"weighted_accuracy_max\", \"stepped\": true, \"type\": \"scatter\", \"data\": [0.9210505788301858, 0.9210505788301858, 0.9210505788301858, 0.9230518016428483, 0.9230518016428483, 0.9230518016428483, 0.9291169821637248, 0.9291169821637248, 0.9291169821637248, 0.9291169821637248, 0.9291169821637248, 0.9291169821637248, 0.9291169821637248, 0.9291169821637248, 0.9291169821637248, 0.9293061243896152, 0.9293061243896152, 0.9293061243896152, 0.9299316458122382]}], \"accuracy\": [{\"categories\": [\"0\", \"5\", \"12\", \"17\", \"22\", \"24\", \"25\", \"26\", \"27\", \"28\", \"29\", \"30\", \"31\", \"32\", \"33\", \"34\", \"35\", \"36\", \"41\"], \"mode\": \"markers\", \"name\": \"accuracy\", \"stepped\": false, \"type\": \"scatter\", \"data\": [0.8765735339269266, 0.7875345409886398, 0.8452563708934603, 0.8467915259441203, 0.8578446423088733, 0.7915259441203562, 0.8753454098863985, 0.8458704329137243, 0.8480196499846484, 0.8578446423088733, 0.84218606079214, 0.8283696653361989, 0.868590727663494, 0.8627571384709856, 0.8796438440282468, 0.8645993245317777, 0.7592876880564937, 0.8581516733190052, 0.8860914952410194]}, {\"categories\": [\"0\", \"5\", \"12\", \"17\", \"22\", \"24\", \"25\", \"26\", \"27\", \"28\", \"29\", \"30\", \"31\", \"32\", \"33\", \"34\", \"35\", \"36\", \"41\"], \"mode\": \"lines\", \"name\": \"accuracy_max\", \"stepped\": true, \"type\": \"scatter\", \"data\": [0.8765735339269266, 0.8765735339269266, 0.8765735339269266, 0.8765735339269266, 0.8765735339269266, 0.8765735339269266, 0.8765735339269266, 0.8765735339269266, 0.8765735339269266, 0.8765735339269266, 0.8765735339269266, 0.8765735339269266, 0.8765735339269266, 0.8765735339269266, 0.8796438440282468, 0.8796438440282468, 0.8796438440282468, 0.8796438440282468, 0.8860914952410194]}], \"average_precision_score_weighted\": [{\"categories\": [\"0\", \"5\", \"12\", \"17\", \"22\", \"24\", \"25\", \"26\", \"27\", \"28\", \"29\", \"30\", \"31\", \"32\", \"33\", \"34\", \"35\", \"36\", \"41\"], \"mode\": \"markers\", \"name\": \"average_precision_score_weighted\", \"stepped\": false, \"type\": \"scatter\", \"data\": [0.9447106270530274, 0.9284160432595987, 0.9170869033473547, 0.919886797956667, 0.9239448747058141, 0.9079584354554283, 0.944355899720366, 0.9145819971402622, 0.9211324852978277, 0.9277017976321913, 0.9090626156113878, 0.9064684281903526, 0.9337009843151745, 0.9293489221000075, 0.9448453438632254, 0.9272028382480272, 0.6344602103553632, 0.9299467532343336, 0.944515824311521]}, {\"categories\": [\"0\", \"5\", \"12\", \"17\", \"22\", \"24\", \"25\", \"26\", \"27\", \"28\", \"29\", \"30\", \"31\", \"32\", \"33\", \"34\", \"35\", \"36\", \"41\"], \"mode\": \"lines\", \"name\": \"average_precision_score_weighted_max\", \"stepped\": true, \"type\": \"scatter\", \"data\": [0.9447106270530274, 0.9447106270530274, 0.9447106270530274, 0.9447106270530274, 0.9447106270530274, 0.9447106270530274, 0.9447106270530274, 0.9447106270530274, 0.9447106270530274, 0.9447106270530274, 0.9447106270530274, 0.9447106270530274, 0.9447106270530274, 0.9447106270530274, 0.9448453438632254, 0.9448453438632254, 0.9448453438632254, 0.9448453438632254, 0.9448453438632254]}], \"f1_score_weighted\": [{\"categories\": [\"0\", \"5\", \"12\", \"17\", \"22\", \"24\", \"25\", \"26\", \"27\", \"28\", \"29\", \"30\", \"31\", \"32\", \"33\", \"34\", \"35\", \"36\", \"41\"], \"mode\": \"markers\", \"name\": \"f1_score_weighted\", \"stepped\": false, \"type\": \"scatter\", \"data\": [0.8720067630006291, 0.7166543877089978, 0.8391660630059105, 0.8299087940536434, 0.8502618445755219, 0.7248744887132395, 0.8679118737057796, 0.8405252568738247, 0.843479899850426, 0.8536772845548499, 0.8191710912801541, 0.7969965967630247, 0.8651344410469012, 0.8604044732067447, 0.8741029352153268, 0.8531444640637584, 0.6553991108424814, 0.8522291137027036, 0.8815065419247967]}, {\"categories\": [\"0\", \"5\", \"12\", \"17\", \"22\", \"24\", \"25\", \"26\", \"27\", \"28\", \"29\", \"30\", \"31\", \"32\", \"33\", \"34\", \"35\", \"36\", \"41\"], \"mode\": \"lines\", \"name\": \"f1_score_weighted_max\", \"stepped\": true, \"type\": \"scatter\", \"data\": [0.8720067630006291, 0.8720067630006291, 0.8720067630006291, 0.8720067630006291, 0.8720067630006291, 0.8720067630006291, 0.8720067630006291, 0.8720067630006291, 0.8720067630006291, 0.8720067630006291, 0.8720067630006291, 0.8720067630006291, 0.8720067630006291, 0.8720067630006291, 0.8741029352153268, 0.8741029352153268, 0.8741029352153268, 0.8741029352153268, 0.8815065419247967]}], \"f1_score_micro\": [{\"categories\": [\"0\", \"5\", \"12\", \"17\", \"22\", \"24\", \"25\", \"26\", \"27\", \"28\", \"29\", \"30\", \"31\", \"32\", \"33\", \"34\", \"35\", \"36\", \"41\"], \"mode\": \"markers\", \"name\": \"f1_score_micro\", \"stepped\": false, \"type\": \"scatter\", \"data\": [0.8765735339269266, 0.7875345409886398, 0.8452563708934603, 0.8467915259441203, 0.8578446423088733, 0.791525944120356, 0.8753454098863985, 0.8458704329137243, 0.8480196499846484, 0.8578446423088733, 0.84218606079214, 0.8283696653361989, 0.868590727663494, 0.8627571384709856, 0.8796438440282468, 0.8645993245317777, 0.7592876880564937, 0.8581516733190052, 0.8860914952410194]}, {\"categories\": [\"0\", \"5\", \"12\", \"17\", \"22\", \"24\", \"25\", \"26\", \"27\", \"28\", \"29\", \"30\", \"31\", \"32\", \"33\", \"34\", \"35\", \"36\", \"41\"], \"mode\": \"lines\", \"name\": \"f1_score_micro_max\", \"stepped\": true, \"type\": \"scatter\", \"data\": [0.8765735339269266, 0.8765735339269266, 0.8765735339269266, 0.8765735339269266, 0.8765735339269266, 0.8765735339269266, 0.8765735339269266, 0.8765735339269266, 0.8765735339269266, 0.8765735339269266, 0.8765735339269266, 0.8765735339269266, 0.8765735339269266, 0.8765735339269266, 0.8796438440282468, 0.8796438440282468, 0.8796438440282468, 0.8796438440282468, 0.8860914952410194]}], \"precision_score_macro\": [{\"categories\": [\"0\", \"5\", \"12\", \"17\", \"22\", \"24\", \"25\", \"26\", \"27\", \"28\", \"29\", \"30\", \"31\", \"32\", \"33\", \"34\", \"35\", \"36\", \"41\"], \"mode\": \"markers\", \"name\": \"precision_score_macro\", \"stepped\": false, \"type\": \"scatter\", \"data\": [0.8473764783754119, 0.8906793048973144, 0.7984921541259569, 0.8386690779344559, 0.8252408644249962, 0.8877080551846908, 0.8589901162492959, 0.7978539235646283, 0.7996065871933258, 0.8145424324700641, 0.8565541939937866, 0.8534167691478631, 0.8297389434396558, 0.8174345903173451, 0.8575790765134808, 0.8565931822820984, 0.37964384402824686, 0.8202181858118208, 0.8644829321835525]}, {\"categories\": [\"0\", \"5\", \"12\", \"17\", \"22\", \"24\", \"25\", \"26\", \"27\", \"28\", \"29\", \"30\", \"31\", \"32\", \"33\", \"34\", \"35\", \"36\", \"41\"], \"mode\": \"lines\", \"name\": \"precision_score_macro_max\", \"stepped\": true, \"type\": \"scatter\", \"data\": [0.8473764783754119, 0.8906793048973144, 0.8906793048973144, 0.8906793048973144, 0.8906793048973144, 0.8906793048973144, 0.8906793048973144, 0.8906793048973144, 0.8906793048973144, 0.8906793048973144, 0.8906793048973144, 0.8906793048973144, 0.8906793048973144, 0.8906793048973144, 0.8906793048973144, 0.8906793048973144, 0.8906793048973144, 0.8906793048973144, 0.8906793048973144]}], \"norm_macro_recall\": [{\"categories\": [\"0\", \"5\", \"12\", \"17\", \"22\", \"24\", \"25\", \"26\", \"27\", \"28\", \"29\", \"30\", \"31\", \"32\", \"33\", \"34\", \"35\", \"36\", \"41\"], \"mode\": \"markers\", \"name\": \"norm_macro_recall\", \"stepped\": false, \"type\": \"scatter\", \"data\": [0.5987512069122027, 0.11734693877551017, 0.5095928889145629, 0.42885613606542505, 0.5244296566180049, 0.1347997144672668, 0.5640303027802305, 0.5182419105935945, 0.5315261972156433, 0.5592753781658235, 0.3835891918433365, 0.31660865923401316, 0.593464518844335, 0.5927506870115615, 0.5940834481791097, 0.5045780139795506, 0.0, 0.541385741518605, 0.6199980194261285]}, {\"categories\": [\"0\", \"5\", \"12\", \"17\", \"22\", \"24\", \"25\", \"26\", \"27\", \"28\", \"29\", \"30\", \"31\", \"32\", \"33\", \"34\", \"35\", \"36\", \"41\"], \"mode\": \"lines\", \"name\": \"norm_macro_recall_max\", \"stepped\": true, \"type\": \"scatter\", \"data\": [0.5987512069122027, 0.5987512069122027, 0.5987512069122027, 0.5987512069122027, 0.5987512069122027, 0.5987512069122027, 0.5987512069122027, 0.5987512069122027, 0.5987512069122027, 0.5987512069122027, 0.5987512069122027, 0.5987512069122027, 0.5987512069122027, 0.5987512069122027, 0.5987512069122027, 0.5987512069122027, 0.5987512069122027, 0.5987512069122027, 0.6199980194261285]}], \"balanced_accuracy\": [{\"categories\": [\"0\", \"5\", \"12\", \"17\", \"22\", \"24\", \"25\", \"26\", \"27\", \"28\", \"29\", \"30\", \"31\", \"32\", \"33\", \"34\", \"35\", \"36\", \"41\"], \"mode\": \"markers\", \"name\": \"balanced_accuracy\", \"stepped\": false, \"type\": \"scatter\", \"data\": [0.7993756034561014, 0.5586734693877551, 0.7547964444572814, 0.7144280680327125, 0.7622148283090024, 0.5673998572336334, 0.7820151513901152, 0.7591209552967972, 0.7657630986078217, 0.7796376890829118, 0.6917945959216683, 0.6583043296170066, 0.7967322594221675, 0.7963753435057808, 0.7970417240895549, 0.7522890069897753, 0.5, 0.7706928707593025, 0.8099990097130643]}, {\"categories\": [\"0\", \"5\", \"12\", \"17\", \"22\", \"24\", \"25\", \"26\", \"27\", \"28\", \"29\", \"30\", \"31\", \"32\", \"33\", \"34\", \"35\", \"36\", \"41\"], \"mode\": \"lines\", \"name\": \"balanced_accuracy_max\", \"stepped\": true, \"type\": \"scatter\", \"data\": [0.7993756034561014, 0.7993756034561014, 0.7993756034561014, 0.7993756034561014, 0.7993756034561014, 0.7993756034561014, 0.7993756034561014, 0.7993756034561014, 0.7993756034561014, 0.7993756034561014, 0.7993756034561014, 0.7993756034561014, 0.7993756034561014, 0.7993756034561014, 0.7993756034561014, 0.7993756034561014, 0.7993756034561014, 0.7993756034561014, 0.8099990097130643]}], \"recall_score_weighted\": [{\"categories\": [\"0\", \"5\", \"12\", \"17\", \"22\", \"24\", \"25\", \"26\", \"27\", \"28\", \"29\", \"30\", \"31\", \"32\", \"33\", \"34\", \"35\", \"36\", \"41\"], \"mode\": \"markers\", \"name\": \"recall_score_weighted\", \"stepped\": false, \"type\": \"scatter\", \"data\": [0.8765735339269266, 0.7875345409886398, 0.8452563708934603, 0.8467915259441203, 0.8578446423088733, 0.7915259441203562, 0.8753454098863985, 0.8458704329137243, 0.8480196499846484, 0.8578446423088733, 0.84218606079214, 0.8283696653361989, 0.868590727663494, 0.8627571384709856, 0.8796438440282468, 0.8645993245317777, 0.7592876880564937, 0.8581516733190052, 0.8860914952410194]}, {\"categories\": [\"0\", \"5\", \"12\", \"17\", \"22\", \"24\", \"25\", \"26\", \"27\", \"28\", \"29\", \"30\", \"31\", \"32\", \"33\", \"34\", \"35\", \"36\", \"41\"], \"mode\": \"lines\", \"name\": \"recall_score_weighted_max\", \"stepped\": true, \"type\": \"scatter\", \"data\": [0.8765735339269266, 0.8765735339269266, 0.8765735339269266, 0.8765735339269266, 0.8765735339269266, 0.8765735339269266, 0.8765735339269266, 0.8765735339269266, 0.8765735339269266, 0.8765735339269266, 0.8765735339269266, 0.8765735339269266, 0.8765735339269266, 0.8765735339269266, 0.8796438440282468, 0.8796438440282468, 0.8796438440282468, 0.8796438440282468, 0.8860914952410194]}], \"AUC_micro\": [{\"categories\": [\"0\", \"5\", \"12\", \"17\", \"22\", \"24\", \"25\", \"26\", \"27\", \"28\", \"29\", \"30\", \"31\", \"32\", \"33\", \"34\", \"35\", \"36\", \"41\"], \"mode\": \"markers\", \"name\": \"AUC_micro\", \"stepped\": false, \"type\": \"scatter\", \"data\": [0.9554501492215959, 0.9129670309780809, 0.9347846149654851, 0.928183872453832, 0.9405797899312117, 0.9085325680528059, 0.9544632570984541, 0.9330862819355378, 0.9367775356241286, 0.9420509841159292, 0.9257828654449087, 0.9216558106019308, 0.9470664681130339, 0.9432322569399895, 0.9553101140464187, 0.9390111225919112, 0.7592876880564937, 0.94384443359943, 0.9548317508714373]}, {\"categories\": [\"0\", \"5\", \"12\", \"17\", \"22\", \"24\", \"25\", \"26\", \"27\", \"28\", \"29\", \"30\", \"31\", \"32\", \"33\", \"34\", \"35\", \"36\", \"41\"], \"mode\": \"lines\", \"name\": \"AUC_micro_max\", \"stepped\": true, \"type\": \"scatter\", \"data\": [0.9554501492215959, 0.9554501492215959, 0.9554501492215959, 0.9554501492215959, 0.9554501492215959, 0.9554501492215959, 0.9554501492215959, 0.9554501492215959, 0.9554501492215959, 0.9554501492215959, 0.9554501492215959, 0.9554501492215959, 0.9554501492215959, 0.9554501492215959, 0.9554501492215959, 0.9554501492215959, 0.9554501492215959, 0.9554501492215959, 0.9554501492215959]}], \"AUC_macro\": [{\"categories\": [\"0\", \"5\", \"12\", \"17\", \"22\", \"24\", \"25\", \"26\", \"27\", \"28\", \"29\", \"30\", \"31\", \"32\", \"33\", \"34\", \"35\", \"36\", \"41\"], \"mode\": \"markers\", \"name\": \"AUC_macro\", \"stepped\": false, \"type\": \"scatter\", \"data\": [0.9326958189260337, 0.9125514742896753, 0.9049236860130223, 0.9031757264167293, 0.9120351840695842, 0.8894736624937076, 0.9323881594692062, 0.9018971215659737, 0.905389946111886, 0.9140093107602928, 0.897082109228649, 0.8964701428488904, 0.9194010878714609, 0.9138465839226917, 0.9331802600741065, 0.9092922955676406, 0.5, 0.9173329612880332, 0.9322303324888387]}, {\"categories\": [\"0\", \"5\", \"12\", \"17\", \"22\", \"24\", \"25\", \"26\", \"27\", \"28\", \"29\", \"30\", \"31\", \"32\", \"33\", \"34\", \"35\", \"36\", \"41\"], \"mode\": \"lines\", \"name\": \"AUC_macro_max\", \"stepped\": true, \"type\": \"scatter\", \"data\": [0.9326958189260337, 0.9326958189260337, 0.9326958189260337, 0.9326958189260337, 0.9326958189260337, 0.9326958189260337, 0.9326958189260337, 0.9326958189260337, 0.9326958189260337, 0.9326958189260337, 0.9326958189260337, 0.9326958189260337, 0.9326958189260337, 0.9326958189260337, 0.9331802600741065, 0.9331802600741065, 0.9331802600741065, 0.9331802600741065, 0.9331802600741065]}], \"matthews_correlation\": [{\"categories\": [\"0\", \"5\", \"12\", \"17\", \"22\", \"24\", \"25\", \"26\", \"27\", \"28\", \"29\", \"30\", \"31\", \"32\", \"33\", \"34\", \"35\", \"36\", \"41\"], \"mode\": \"markers\", \"name\": \"matthews_correlation\", \"stepped\": false, \"type\": \"scatter\", \"data\": [0.6449683491151927, 0.3028036342999999, 0.5515604756314169, 0.5389625444644758, 0.5840649875631031, 0.3233046091089815, 0.6363667244022122, 0.5556264688186325, 0.564355827384861, 0.5931540067619759, 0.5230111569028502, 0.4730640747947822, 0.6256010924105787, 0.6134485658828128, 0.6518156346265874, 0.5998817878791606, 0.0, 0.5888319963681917, 0.6722777641249643]}, {\"categories\": [\"0\", \"5\", \"12\", \"17\", \"22\", \"24\", \"25\", \"26\", \"27\", \"28\", \"29\", \"30\", \"31\", \"32\", \"33\", \"34\", \"35\", \"36\", \"41\"], \"mode\": \"lines\", \"name\": \"matthews_correlation_max\", \"stepped\": true, \"type\": \"scatter\", \"data\": [0.6449683491151927, 0.6449683491151927, 0.6449683491151927, 0.6449683491151927, 0.6449683491151927, 0.6449683491151927, 0.6449683491151927, 0.6449683491151927, 0.6449683491151927, 0.6449683491151927, 0.6449683491151927, 0.6449683491151927, 0.6449683491151927, 0.6449683491151927, 0.6518156346265874, 0.6518156346265874, 0.6518156346265874, 0.6518156346265874, 0.6722777641249643]}], \"precision_score_weighted\": [{\"categories\": [\"0\", \"5\", \"12\", \"17\", \"22\", \"24\", \"25\", \"26\", \"27\", \"28\", \"29\", \"30\", \"31\", \"32\", \"33\", \"34\", \"35\", \"36\", \"41\"], \"mode\": \"markers\", \"name\": \"precision_score_weighted\", \"stepped\": false, \"type\": \"scatter\", \"data\": [0.8722698790955068, 0.8339882843175059, 0.8380438627490481, 0.8444163819513486, 0.851626959703323, 0.8343227165098103, 0.8719896884625036, 0.8391261293104925, 0.8419523474494336, 0.8524964710885118, 0.8469886532064074, 0.8375782972879228, 0.8641854859877203, 0.8591510937677531, 0.8758384554122755, 0.8625686017516999, 0.5765177932341753, 0.8520461343461648, 0.8827040320358048]}, {\"categories\": [\"0\", \"5\", \"12\", \"17\", \"22\", \"24\", \"25\", \"26\", \"27\", \"28\", \"29\", \"30\", \"31\", \"32\", \"33\", \"34\", \"35\", \"36\", \"41\"], \"mode\": \"lines\", \"name\": \"precision_score_weighted_max\", \"stepped\": true, \"type\": \"scatter\", \"data\": [0.8722698790955068, 0.8722698790955068, 0.8722698790955068, 0.8722698790955068, 0.8722698790955068, 0.8722698790955068, 0.8722698790955068, 0.8722698790955068, 0.8722698790955068, 0.8722698790955068, 0.8722698790955068, 0.8722698790955068, 0.8722698790955068, 0.8722698790955068, 0.8758384554122755, 0.8758384554122755, 0.8758384554122755, 0.8758384554122755, 0.8827040320358048]}], \"log_loss\": [{\"categories\": [\"0\", \"5\", \"12\", \"17\", \"22\", \"24\", \"25\", \"26\", \"27\", \"28\", \"29\", \"30\", \"31\", \"32\", \"33\", \"34\", \"35\", \"36\", \"41\"], \"mode\": \"markers\", \"name\": \"log_loss\", \"stepped\": false, \"type\": \"scatter\", \"data\": [0.26926897027912494, 0.41613477669059845, 0.32331461205969847, 0.3559470160883594, 0.3334643883422053, 0.4139498485234572, 0.2789301444741366, 0.3278252191768622, 0.3467567654578481, 0.30620162557512676, 0.3659076214451304, 0.3955575399673076, 0.3100588423213096, 0.33400533633657425, 0.2711367700541684, 0.5320458105019885, 0.5520467384272731, 0.30133675758883244, 0.3333617560596648]}, {\"categories\": [\"0\", \"5\", \"12\", \"17\", \"22\", \"24\", \"25\", \"26\", \"27\", \"28\", \"29\", \"30\", \"31\", \"32\", \"33\", \"34\", \"35\", \"36\", \"41\"], \"mode\": \"lines\", \"name\": \"log_loss_min\", \"stepped\": true, \"type\": \"scatter\", \"data\": [0.26926897027912494, 0.26926897027912494, 0.26926897027912494, 0.26926897027912494, 0.26926897027912494, 0.26926897027912494, 0.26926897027912494, 0.26926897027912494, 0.26926897027912494, 0.26926897027912494, 0.26926897027912494, 0.26926897027912494, 0.26926897027912494, 0.26926897027912494, 0.26926897027912494, 0.26926897027912494, 0.26926897027912494, 0.26926897027912494, 0.26926897027912494]}], \"AUC_weighted\": [{\"categories\": [\"0\", \"5\", \"12\", \"17\", \"22\", \"24\", \"25\", \"26\", \"27\", \"28\", \"29\", \"30\", \"31\", \"32\", \"33\", \"34\", \"35\", \"36\", \"41\"], \"mode\": \"markers\", \"name\": \"AUC_weighted\", \"stepped\": false, \"type\": \"scatter\", \"data\": [0.9326958189260338, 0.9125514742896753, 0.9049236860130223, 0.9031757264167294, 0.9120351840695841, 0.8894736624937075, 0.9323881594692062, 0.9018971215659738, 0.905389946111886, 0.9140093107602927, 0.8970821092286491, 0.8964701428488904, 0.9194011547384426, 0.9138465839226916, 0.9331803269410882, 0.9092922955676406, 0.5, 0.9173329612880332, 0.9322303324888388]}, {\"categories\": [\"0\", \"5\", \"12\", \"17\", \"22\", \"24\", \"25\", \"26\", \"27\", \"28\", \"29\", \"30\", \"31\", \"32\", \"33\", \"34\", \"35\", \"36\", \"41\"], \"mode\": \"lines\", \"name\": \"AUC_weighted_max\", \"stepped\": true, \"type\": \"scatter\", \"data\": [0.9326958189260338, 0.9326958189260338, 0.9326958189260338, 0.9326958189260338, 0.9326958189260338, 0.9326958189260338, 0.9326958189260338, 0.9326958189260338, 0.9326958189260338, 0.9326958189260338, 0.9326958189260338, 0.9326958189260338, 0.9326958189260338, 0.9326958189260338, 0.9331803269410882, 0.9331803269410882, 0.9331803269410882, 0.9331803269410882, 0.9331803269410882]}], \"average_precision_score_micro\": [{\"categories\": [\"0\", \"5\", \"12\", \"17\", \"22\", \"24\", \"25\", \"26\", \"27\", \"28\", \"29\", \"30\", \"31\", \"32\", \"33\", \"34\", \"35\", \"36\", \"41\"], \"mode\": \"markers\", \"name\": \"average_precision_score_micro\", \"stepped\": false, \"type\": \"scatter\", \"data\": [0.9568498401550638, 0.9175170915273444, 0.9370424264444103, 0.93096472040453, 0.94105119396958, 0.9115557876277581, 0.9559146985130074, 0.935394801841145, 0.9387115004722346, 0.9440858821150047, 0.9244379211935163, 0.9205205250333187, 0.948199926443845, 0.9445221701690422, 0.9566712726361161, 0.9403539653671541, 0.6968739492059284, 0.9458754136870385, 0.9559420464518574]}, {\"categories\": [\"0\", \"5\", \"12\", \"17\", \"22\", \"24\", \"25\", \"26\", \"27\", \"28\", \"29\", \"30\", \"31\", \"32\", \"33\", \"34\", \"35\", \"36\", \"41\"], \"mode\": \"lines\", \"name\": \"average_precision_score_micro_max\", \"stepped\": true, \"type\": \"scatter\", \"data\": [0.9568498401550638, 0.9568498401550638, 0.9568498401550638, 0.9568498401550638, 0.9568498401550638, 0.9568498401550638, 0.9568498401550638, 0.9568498401550638, 0.9568498401550638, 0.9568498401550638, 0.9568498401550638, 0.9568498401550638, 0.9568498401550638, 0.9568498401550638, 0.9568498401550638, 0.9568498401550638, 0.9568498401550638, 0.9568498401550638, 0.9568498401550638]}]}, \"metricName\": null, \"primaryMetricName\": \"accuracy\", \"showLegend\": false}, \"run_metrics\": [{\"name\": \"experiment_status\", \"run_id\": \"AutoML_6153b81f-cfb1-45cc-82ff-928ca40cb597\", \"categories\": [0, 1, 2, 3, 4, 5, 6, 7, 8, 9, 10, 11, 12], \"series\": [{\"data\": [\"DatasetEvaluation\", \"FeaturesGeneration\", \"DatasetFeaturization\", \"DatasetFeaturizationCompleted\", \"ModelSelection\", \"BestRunExplainModel\", \"ModelExplanationDataSetSetup\", \"PickSurrogateModel\", \"EngineeredFeatureExplanations\", \"EngineeredFeatureExplanations\", \"RawFeaturesExplanations\", \"RawFeaturesExplanations\", \"BestRunExplainModel\"]}]}, {\"name\": \"experiment_status_description\", \"run_id\": \"AutoML_6153b81f-cfb1-45cc-82ff-928ca40cb597\", \"categories\": [0, 1, 2, 3, 4, 5, 6, 7, 8, 9, 10, 11, 12], \"series\": [{\"data\": [\"Gathering dataset statistics.\", \"Generating features for the dataset.\", \"Beginning to fit featurizers and featurize the dataset.\", \"Completed fit featurizers and featurizing the dataset.\", \"Beginning model selection.\", \"Best run model explanations started\", \"Model explanations data setup completed\", \"Choosing LightGBM as the surrogate model for explanations\", \"Computation of engineered features started\", \"Computation of engineered features completed\", \"Computation of raw features started\", \"Computation of raw features completed\", \"Best run model explanations completed\"]}]}, {\"name\": \"f1_score_macro\", \"run_id\": \"AutoML_6153b81f-cfb1-45cc-82ff-928ca40cb597\", \"categories\": [0], \"series\": [{\"data\": [0.8321817893700194]}]}, {\"name\": \"accuracy\", \"run_id\": \"AutoML_6153b81f-cfb1-45cc-82ff-928ca40cb597\", \"categories\": [0], \"series\": [{\"data\": [0.8860914952410194]}]}, {\"name\": \"matthews_correlation\", \"run_id\": \"AutoML_6153b81f-cfb1-45cc-82ff-928ca40cb597\", \"categories\": [0], \"series\": [{\"data\": [0.6722777641249643]}]}, {\"name\": \"balanced_accuracy\", \"run_id\": \"AutoML_6153b81f-cfb1-45cc-82ff-928ca40cb597\", \"categories\": [0], \"series\": [{\"data\": [0.8099990097130643]}]}, {\"name\": \"AUC_macro\", \"run_id\": \"AutoML_6153b81f-cfb1-45cc-82ff-928ca40cb597\", \"categories\": [0], \"series\": [{\"data\": [0.9322303324888387]}]}, {\"name\": \"log_loss\", \"run_id\": \"AutoML_6153b81f-cfb1-45cc-82ff-928ca40cb597\", \"categories\": [0], \"series\": [{\"data\": [0.3333617560596648]}]}, {\"name\": \"average_precision_score_micro\", \"run_id\": \"AutoML_6153b81f-cfb1-45cc-82ff-928ca40cb597\", \"categories\": [0], \"series\": [{\"data\": [0.9559420464518574]}]}, {\"name\": \"norm_macro_recall\", \"run_id\": \"AutoML_6153b81f-cfb1-45cc-82ff-928ca40cb597\", \"categories\": [0], \"series\": [{\"data\": [0.6199980194261285]}]}, {\"name\": \"recall_score_macro\", \"run_id\": \"AutoML_6153b81f-cfb1-45cc-82ff-928ca40cb597\", \"categories\": [0], \"series\": [{\"data\": [0.8099990097130643]}]}, {\"name\": \"average_precision_score_macro\", \"run_id\": \"AutoML_6153b81f-cfb1-45cc-82ff-928ca40cb597\", \"categories\": [0], \"series\": [{\"data\": [0.9102401635652664]}]}, {\"name\": \"f1_score_weighted\", \"run_id\": \"AutoML_6153b81f-cfb1-45cc-82ff-928ca40cb597\", \"categories\": [0], \"series\": [{\"data\": [0.8815065419247967]}]}, {\"name\": \"AUC_micro\", \"run_id\": \"AutoML_6153b81f-cfb1-45cc-82ff-928ca40cb597\", \"categories\": [0], \"series\": [{\"data\": [0.9548317508714373]}]}, {\"name\": \"weighted_accuracy\", \"run_id\": \"AutoML_6153b81f-cfb1-45cc-82ff-928ca40cb597\", \"categories\": [0], \"series\": [{\"data\": [0.9299316458122382]}]}, {\"name\": \"f1_score_micro\", \"run_id\": \"AutoML_6153b81f-cfb1-45cc-82ff-928ca40cb597\", \"categories\": [0], \"series\": [{\"data\": [0.8860914952410194]}]}, {\"name\": \"recall_score_weighted\", \"run_id\": \"AutoML_6153b81f-cfb1-45cc-82ff-928ca40cb597\", \"categories\": [0], \"series\": [{\"data\": [0.8860914952410194]}]}, {\"name\": \"recall_score_micro\", \"run_id\": \"AutoML_6153b81f-cfb1-45cc-82ff-928ca40cb597\", \"categories\": [0], \"series\": [{\"data\": [0.8860914952410194]}]}, {\"name\": \"precision_score_macro\", \"run_id\": \"AutoML_6153b81f-cfb1-45cc-82ff-928ca40cb597\", \"categories\": [0], \"series\": [{\"data\": [0.8644829321835525]}]}, {\"name\": \"average_precision_score_weighted\", \"run_id\": \"AutoML_6153b81f-cfb1-45cc-82ff-928ca40cb597\", \"categories\": [0], \"series\": [{\"data\": [0.944515824311521]}]}, {\"name\": \"AUC_weighted\", \"run_id\": \"AutoML_6153b81f-cfb1-45cc-82ff-928ca40cb597\", \"categories\": [0], \"series\": [{\"data\": [0.9322303324888388]}]}, {\"name\": \"precision_score_weighted\", \"run_id\": \"AutoML_6153b81f-cfb1-45cc-82ff-928ca40cb597\", \"categories\": [0], \"series\": [{\"data\": [0.8827040320358048]}]}, {\"name\": \"precision_score_micro\", \"run_id\": \"AutoML_6153b81f-cfb1-45cc-82ff-928ca40cb597\", \"categories\": [0], \"series\": [{\"data\": [0.8860914952410194]}]}], \"run_logs\": \"\\nRun is completed.\", \"graph\": {}, \"widget_settings\": {\"childWidgetDisplay\": \"popup\", \"send_telemetry\": false, \"log_level\": \"INFO\", \"sdk_version\": \"1.47.0\"}, \"loading\": false}"
          },
          "metadata": {},
          "output_type": "display_data"
        },
        {
          "name": "stderr",
          "output_type": "stream",
          "text": [
            "WARNING:urllib3.connectionpool:Retrying (Retry(total=2, connect=2, read=3, redirect=None, status=None)) after connection broken by 'ConnectTimeoutError(<urllib3.connection.HTTPSConnection object at 0x7f8dc1810f10>, 'Connection to uksouth.experiments.azureml.net timed out. (connect timeout=100)')': /history/v1.0/subscriptions/36cd5b29-0f0b-4505-8ed0-2c1f142e8de3/resourceGroups/mlops-udacity-rg/providers/Microsoft.MachineLearningServices/workspaces/mlops-udacity-ws/experimentids/6de2a69f-8df1-4b63-b201-165bb8f74b89/runs/AutoML_6153b81f-cfb1-45cc-82ff-928ca40cb597\n",
            "WARNING:urllib3.connectionpool:Retrying (Retry(total=2, connect=2, read=3, redirect=None, status=None)) after connection broken by 'ConnectTimeoutError(<urllib3.connection.HTTPSConnection object at 0x7f8dc17284f0>, 'Connection to uksouth.experiments.azureml.net timed out. (connect timeout=100)')': /history/v1.0/subscriptions/36cd5b29-0f0b-4505-8ed0-2c1f142e8de3/resourceGroups/mlops-udacity-rg/providers/Microsoft.MachineLearningServices/workspaces/mlops-udacity-ws/experimentids/6de2a69f-8df1-4b63-b201-165bb8f74b89/runs/AutoML_6153b81f-cfb1-45cc-82ff-928ca40cb597\n",
            "WARNING:urllib3.connectionpool:Retrying (Retry(total=2, connect=2, read=3, redirect=None, status=None)) after connection broken by 'ConnectTimeoutError(<urllib3.connection.HTTPSConnection object at 0x7f8dc1729fd0>, 'Connection to uksouth.experiments.azureml.net timed out. (connect timeout=100)')': /history/v1.0/subscriptions/36cd5b29-0f0b-4505-8ed0-2c1f142e8de3/resourceGroups/mlops-udacity-rg/providers/Microsoft.MachineLearningServices/workspaces/mlops-udacity-ws/experimentids/6de2a69f-8df1-4b63-b201-165bb8f74b89/runs/AutoML_6153b81f-cfb1-45cc-82ff-928ca40cb597\n",
            "WARNING:urllib3.connectionpool:Retrying (Retry(total=2, connect=2, read=3, redirect=None, status=None)) after connection broken by 'ConnectTimeoutError(<urllib3.connection.HTTPSConnection object at 0x7f8dc1729100>, 'Connection to uksouth.experiments.azureml.net timed out. (connect timeout=100)')': /history/v1.0/subscriptions/36cd5b29-0f0b-4505-8ed0-2c1f142e8de3/resourceGroups/mlops-udacity-rg/providers/Microsoft.MachineLearningServices/workspaces/mlops-udacity-ws/experimentids/6de2a69f-8df1-4b63-b201-165bb8f74b89/runs/AutoML_6153b81f-cfb1-45cc-82ff-928ca40cb597\n",
            "WARNING:urllib3.connectionpool:Retrying (Retry(total=1, connect=1, read=3, redirect=None, status=None)) after connection broken by 'ConnectTimeoutError(<urllib3.connection.HTTPSConnection object at 0x7f8dc17037c0>, 'Connection to uksouth.experiments.azureml.net timed out. (connect timeout=100)')': /history/v1.0/subscriptions/36cd5b29-0f0b-4505-8ed0-2c1f142e8de3/resourceGroups/mlops-udacity-rg/providers/Microsoft.MachineLearningServices/workspaces/mlops-udacity-ws/experimentids/6de2a69f-8df1-4b63-b201-165bb8f74b89/runs/AutoML_6153b81f-cfb1-45cc-82ff-928ca40cb597\n",
            "WARNING:urllib3.connectionpool:Retrying (Retry(total=2, connect=2, read=3, redirect=None, status=None)) after connection broken by 'ConnectTimeoutError(<urllib3.connection.HTTPSConnection object at 0x7f8dc170b460>, 'Connection to uksouth.experiments.azureml.net timed out. (connect timeout=100)')': /history/v1.0/subscriptions/36cd5b29-0f0b-4505-8ed0-2c1f142e8de3/resourceGroups/mlops-udacity-rg/providers/Microsoft.MachineLearningServices/workspaces/mlops-udacity-ws/experimentids/6de2a69f-8df1-4b63-b201-165bb8f74b89/runs/AutoML_6153b81f-cfb1-45cc-82ff-928ca40cb597\n",
            "WARNING:urllib3.connectionpool:Retrying (Retry(total=2, connect=2, read=3, redirect=None, status=None)) after connection broken by 'ConnectTimeoutError(<urllib3.connection.HTTPSConnection object at 0x7f8dc1738700>, 'Connection to uksouth.experiments.azureml.net timed out. (connect timeout=100)')': /history/v1.0/subscriptions/36cd5b29-0f0b-4505-8ed0-2c1f142e8de3/resourceGroups/mlops-udacity-rg/providers/Microsoft.MachineLearningServices/workspaces/mlops-udacity-ws/experiments/salary-automl-experiment/metrics:query?mergestrategytype=None\n",
            "WARNING:urllib3.connectionpool:Retrying (Retry(total=1, connect=1, read=3, redirect=None, status=None)) after connection broken by 'ConnectTimeoutError(<urllib3.connection.HTTPSConnection object at 0x7f8dc1615370>, 'Connection to uksouth.experiments.azureml.net timed out. (connect timeout=100)')': /history/v1.0/subscriptions/36cd5b29-0f0b-4505-8ed0-2c1f142e8de3/resourceGroups/mlops-udacity-rg/providers/Microsoft.MachineLearningServices/workspaces/mlops-udacity-ws/experimentids/6de2a69f-8df1-4b63-b201-165bb8f74b89/runs/AutoML_6153b81f-cfb1-45cc-82ff-928ca40cb597\n",
            "WARNING:urllib3.connectionpool:Retrying (Retry(total=2, connect=2, read=3, redirect=None, status=None)) after connection broken by 'ConnectTimeoutError(<urllib3.connection.HTTPSConnection object at 0x7f8dc16158b0>, 'Connection to uksouth.experiments.azureml.net timed out. (connect timeout=100)')': /history/v1.0/subscriptions/36cd5b29-0f0b-4505-8ed0-2c1f142e8de3/resourceGroups/mlops-udacity-rg/providers/Microsoft.MachineLearningServices/workspaces/mlops-udacity-ws/experimentids/6de2a69f-8df1-4b63-b201-165bb8f74b89/runs/AutoML_6153b81f-cfb1-45cc-82ff-928ca40cb597\n",
            "WARNING:urllib3.connectionpool:Retrying (Retry(total=2, connect=2, read=3, redirect=None, status=None)) after connection broken by 'ConnectTimeoutError(<urllib3.connection.HTTPSConnection object at 0x7f8dc1601d30>, 'Connection to uksouth.experiments.azureml.net timed out. (connect timeout=100)')': /history/v1.0/subscriptions/36cd5b29-0f0b-4505-8ed0-2c1f142e8de3/resourceGroups/mlops-udacity-rg/providers/Microsoft.MachineLearningServices/workspaces/mlops-udacity-ws/experiments/salary-automl-experiment/metrics:query?mergestrategytype=None\n",
            "WARNING:urllib3.connectionpool:Retrying (Retry(total=2, connect=2, read=3, redirect=None, status=None)) after connection broken by 'ConnectTimeoutError(<urllib3.connection.HTTPSConnection object at 0x7f8dc1615e20>, 'Connection to uksouth.experiments.azureml.net timed out. (connect timeout=100)')': /artifact/v2.0/subscriptions/36cd5b29-0f0b-4505-8ed0-2c1f142e8de3/resourceGroups/mlops-udacity-rg/providers/Microsoft.MachineLearningServices/workspaces/mlops-udacity-ws/artifacts/prefix/contentinfo/ExperimentRun/dcid.AutoML_6153b81f-cfb1-45cc-82ff-928ca40cb597/user_logs\n",
            "WARNING:urllib3.connectionpool:Retrying (Retry(total=2, connect=2, read=3, redirect=None, status=None)) after connection broken by 'ConnectTimeoutError(<urllib3.connection.HTTPSConnection object at 0x7f8dc16155b0>, 'Connection to uksouth.experiments.azureml.net timed out. (connect timeout=100)')': /history/v1.0/subscriptions/36cd5b29-0f0b-4505-8ed0-2c1f142e8de3/resourceGroups/mlops-udacity-rg/providers/Microsoft.MachineLearningServices/workspaces/mlops-udacity-ws/experimentids/6de2a69f-8df1-4b63-b201-165bb8f74b89/runs/AutoML_6153b81f-cfb1-45cc-82ff-928ca40cb597\n",
            "WARNING:urllib3.connectionpool:Retrying (Retry(total=2, connect=2, read=3, redirect=None, status=None)) after connection broken by 'ConnectTimeoutError(<urllib3.connection.HTTPSConnection object at 0x7f8dc1835550>, 'Connection to uksouth.experiments.azureml.net timed out. (connect timeout=100)')': /history/v1.0/subscriptions/36cd5b29-0f0b-4505-8ed0-2c1f142e8de3/resourceGroups/mlops-udacity-rg/providers/Microsoft.MachineLearningServices/workspaces/mlops-udacity-ws/experiments/salary-automl-experiment/metrics:query?mergestrategytype=None\n",
            "WARNING:urllib3.connectionpool:Retrying (Retry(total=2, connect=2, read=3, redirect=None, status=None)) after connection broken by 'ConnectTimeoutError(<urllib3.connection.HTTPSConnection object at 0x7f8dc1738940>, 'Connection to uksouth.experiments.azureml.net timed out. (connect timeout=100)')': /history/v1.0/subscriptions/36cd5b29-0f0b-4505-8ed0-2c1f142e8de3/resourceGroups/mlops-udacity-rg/providers/Microsoft.MachineLearningServices/workspaces/mlops-udacity-ws/experiments/salary-automl-experiment/runs/AutoML_6153b81f-cfb1-45cc-82ff-928ca40cb597/children?$orderby=StartTimeUtc%20desc&$top=500\n",
            "WARNING:urllib3.connectionpool:Retrying (Retry(total=2, connect=2, read=3, redirect=None, status=None)) after connection broken by 'ConnectTimeoutError(<urllib3.connection.HTTPSConnection object at 0x7f8dc162f910>, 'Connection to uksouth.experiments.azureml.net timed out. (connect timeout=100)')': /artifact/v2.0/subscriptions/36cd5b29-0f0b-4505-8ed0-2c1f142e8de3/resourceGroups/mlops-udacity-rg/providers/Microsoft.MachineLearningServices/workspaces/mlops-udacity-ws/artifacts/prefix/contentinfo/ExperimentRun/dcid.AutoML_6153b81f-cfb1-45cc-82ff-928ca40cb597/user_logs\n",
            "WARNING:urllib3.connectionpool:Retrying (Retry(total=1, connect=1, read=3, redirect=None, status=None)) after connection broken by 'ConnectTimeoutError(<urllib3.connection.HTTPSConnection object at 0x7f8dc18290a0>, 'Connection to uksouth.experiments.azureml.net timed out. (connect timeout=100)')': /artifact/v2.0/subscriptions/36cd5b29-0f0b-4505-8ed0-2c1f142e8de3/resourceGroups/mlops-udacity-rg/providers/Microsoft.MachineLearningServices/workspaces/mlops-udacity-ws/artifacts/prefix/contentinfo/ExperimentRun/dcid.AutoML_6153b81f-cfb1-45cc-82ff-928ca40cb597/user_logs\n",
            "WARNING:urllib3.connectionpool:Retrying (Retry(total=2, connect=2, read=3, redirect=None, status=None)) after connection broken by 'ConnectTimeoutError(<urllib3.connection.HTTPSConnection object at 0x7f8dc1829e50>, 'Connection to uksouth.experiments.azureml.net timed out. (connect timeout=100)')': /history/v1.0/subscriptions/36cd5b29-0f0b-4505-8ed0-2c1f142e8de3/resourceGroups/mlops-udacity-rg/providers/Microsoft.MachineLearningServices/workspaces/mlops-udacity-ws/experimentids/6de2a69f-8df1-4b63-b201-165bb8f74b89/runs/AutoML_6153b81f-cfb1-45cc-82ff-928ca40cb597\n"
          ]
        }
      ],
      "source": [
        "#Call the previously ran Experiment \n",
        "# Required Imports in case of cleared variable workspace, otherwise comment out code block:\n",
        "from azureml.train.automl.run import AutoMLRun\n",
        "from azureml.core import Workspace\n",
        "from azureml.widgets import RunDetails\n",
        "\n",
        "ws = Workspace.from_config()\n",
        "\n",
        "prev_exp = Experiment(ws, name=\"salary-automl-experiment\")\n",
        "automl_run = AutoMLRun(prev_exp, run_id=\"AutoML_6153b81f-cfb1-45cc-82ff-928ca40cb597\")\n",
        "\n",
        "RunDetails(automl_run).show()"
      ]
    },
    {
      "cell_type": "markdown",
      "metadata": {},
      "source": [
        "## Best Model\n",
        "\n",
        "TODO: In the cell below, get the best model from the automl experiments and display all the properties of the model.\n",
        "\n"
      ]
    },
    {
      "cell_type": "code",
      "execution_count": 20,
      "metadata": {
        "gather": {
          "logged": 1675525019065
        },
        "jupyter": {
          "outputs_hidden": true,
          "source_hidden": false
        },
        "nteract": {
          "transient": {
            "deleting": false
          }
        }
      },
      "outputs": [
        {
          "name": "stderr",
          "output_type": "stream",
          "text": [
            "WARNING:root:The version of the SDK does not match the version the model was trained on.\n",
            "WARNING:root:The consistency in the result may not be guaranteed.\n",
            "WARNING:root:Package:azureml-automl-core, training version:1.48.0, current version:1.47.0\n",
            "Package:azureml-automl-runtime, training version:1.48.0.post1, current version:1.47.0\n",
            "Package:azureml-core, training version:1.48.0, current version:1.47.0\n",
            "Package:azureml-dataprep, training version:4.8.3, current version:4.5.7\n",
            "Package:azureml-dataprep-rslex, training version:2.15.1, current version:2.11.4\n",
            "Package:azureml-dataset-runtime, training version:1.48.0, current version:1.47.0\n",
            "Package:azureml-defaults, training version:1.48.0, current version:1.47.0\n",
            "Package:azureml-interpret, training version:1.48.0, current version:1.47.0\n",
            "Package:azureml-mlflow, training version:1.48.0, current version:1.47.0\n",
            "Package:azureml-pipeline-core, training version:1.48.0, current version:1.47.0\n",
            "Package:azureml-responsibleai, training version:1.48.0, current version:1.47.0\n",
            "Package:azureml-telemetry, training version:1.48.0, current version:1.47.0\n",
            "Package:azureml-train-automl-client, training version:1.48.0, current version:1.47.0\n",
            "Package:azureml-train-automl-runtime, training version:1.48.0.post1, current version:1.47.0\n",
            "Package:azureml-train-core, training version:1.48.0, current version:1.47.0\n",
            "Package:azureml-train-restclients-hyperdrive, training version:1.48.0, current version:1.47.0\n",
            "Package:azureml-training-tabular, training version:1.48.0, current version:1.47.0\n",
            "WARNING:root:Below packages were used for model training but missing in current environment:\n",
            "WARNING:root:Package:azureml-model-management-sdk, training version:1.0.1b6.post1\n",
            "WARNING:root:Please ensure the version of your local conda dependencies match the version on which your model was trained in order to properly retrieve your model.\n"
          ]
        },
        {
          "name": "stdout",
          "output_type": "stream",
          "text": [
            "[15:36:56] WARNING: /mnt/xgboost/src/gbm/gbtree.cc:350: Loading from a raw memory buffer on CPU only machine.  Changing tree_method to hist.\n",
            "[15:36:56] WARNING: /mnt/xgboost/src/learner.cc:222: No visible GPU is found, setting `gpu_id` to -1\n",
            "\n",
            "\n",
            "Run(Experiment: salary-automl-experiment,\n",
            "Id: AutoML_6153b81f-cfb1-45cc-82ff-928ca40cb597_41,\n",
            "Type: azureml.scriptrun,\n",
            "Status: Completed)\n",
            "\n",
            "\n",
            "Pipeline(memory=None,\n",
            "         steps=[('datatransformer',\n",
            "                 DataTransformer(enable_dnn=False, enable_feature_sweeping=True, feature_sweeping_config={}, feature_sweeping_timeout=86400, featurization_config=None, force_text_dnn=False, is_cross_validation=False, is_onnx_compatible=False, observer=None, task='classification', working_dir='/mnt/batch/tasks/shared/LS_root/moun...\n",
            "                 PreFittedSoftVotingClassifier(classification_labels=array([0, 1]), estimators=[('21', Pipeline(memory=None, steps=[('standardscalerwrapper', StandardScalerWrapper(copy=True, with_mean=False, with_std=False)), ('xgboostclassifier', XGBoostClassifier(booster='gbtree', colsample_bytree=0.5, eta=0.2, gamma=0, max_depth=7, max_leaves=7, n_estimators=25, n_jobs=1, objective='reg:logistic', problem_info=ProblemInfo(gpu_training_param_dict={'processing_unit_type': 'gpu'}), random_state=0, reg_alpha=0, reg_lambda=0.20833333333333334, subsample=1, tree_method='auto'))], verbose=False)), ('33', Pipeline(memory=None, steps=[('standardscalerwrapper', StandardScalerWrapper(copy=True, with_mean=False, with_std=False)), ('xgboostclassifier', XGBoostClassifier(booster='gbtree', colsample_bytree=1, eta=0.05, gamma=0, max_depth=6, max_leaves=0, n_estimators=200, n_jobs=1, objective='reg:logistic', problem_info=ProblemInfo(gpu_training_param_dict={'processing_unit_type': 'gpu'}), random_state=0, reg_alpha=0.625, reg_lambda=0.8333333333333334, subsample=0.8, tree_method='auto'))], verbose=False)), ('1', Pipeline(memory=None, steps=[('maxabsscaler', MaxAbsScaler(copy=True)), ('xgboostclassifier', XGBoostClassifier(n_jobs=1, problem_info=ProblemInfo(gpu_training_param_dict={'processing_unit_type': 'gpu'}), random_state=0, tree_method='auto'))], verbose=False)), ('14', Pipeline(memory=None, steps=[('standardscalerwrapper', StandardScalerWrapper(copy=True, with_mean=False, with_std=False)), ('xgboostclassifier', XGBoostClassifier(booster='gbtree', colsample_bytree=1, eta=0.3, gamma=0, max_depth=10, max_leaves=511, n_estimators=10, n_jobs=1, objective='reg:logistic', problem_info=ProblemInfo(gpu_training_param_dict={'processing_unit_type': 'gpu'}), random_state=0, reg_alpha=2.1875, reg_lambda=0.4166666666666667, subsample=0.5, tree_method='auto'))], verbose=False)), ('0', Pipeline(memory=None, steps=[('maxabsscaler', MaxAbsScaler(copy=True)), ('lightgbmclassifier', LightGBMClassifier(min_data_in_leaf=20, n_jobs=1, problem_info=ProblemInfo(gpu_training_param_dict={'processing_unit_type': 'gpu'}), random_state=None))], verbose=False)), ('15', Pipeline(memory=None, steps=[('sparsenormalizer', Normalizer(copy=True, norm='l2')), ('randomforestclassifier', RandomForestClassifier(bootstrap=True, ccp_alpha=0.0, class_weight='balanced', criterion='gini', max_depth=None, max_features='sqrt', max_leaf_nodes=None, max_samples=None, min_impurity_decrease=0.0, min_impurity_split=None, min_samples_leaf=0.01, min_samples_split=0.01, min_weight_fraction_leaf=0.0, n_estimators=100, n_jobs=1, oob_score=True, random_state=None, verbose=0, warm_start=False))], verbose=False)), ('25', Pipeline(memory=None, steps=[('standardscalerwrapper', StandardScalerWrapper(copy=True, with_mean=False, with_std=False)), ('xgboostclassifier', XGBoostClassifier(booster='gbtree', colsample_bytree=0.9, eta=0.01, gamma=0, max_depth=9, max_leaves=63, n_estimators=400, n_jobs=1, objective='reg:logistic', problem_info=ProblemInfo(gpu_training_param_dict={'processing_unit_type': 'gpu'}), random_state=0, reg_alpha=0, reg_lambda=1.875, subsample=0.9, tree_method='auto'))], verbose=False)), ('28', Pipeline(memory=None, steps=[('sparsenormalizer', Normalizer(copy=True, norm='l1')), ('xgboostclassifier', XGBoostClassifier(booster='gbtree', colsample_bytree=1, eta=0.5, gamma=0, grow_policy='lossguide', max_bin=255, max_depth=6, max_leaves=0, n_estimators=50, n_jobs=1, objective='reg:logistic', problem_info=ProblemInfo(gpu_training_param_dict={'processing_unit_type': 'gpu'}), random_state=0, reg_alpha=2.291666666666667, reg_lambda=2.3958333333333335, subsample=0.5, tree_method='hist'))], verbose=False)), ('22', Pipeline(memory=None, steps=[('sparsenormalizer', Normalizer(copy=True, norm='l1')), ('xgboostclassifier', XGBoostClassifier(booster='gbtree', colsample_bylevel=1, colsample_bytree=1, eta=0.2, gamma=0, max_depth=10, max_leaves=0, n_estimators=10, n_jobs=1, objective='reg:logistic', problem_info=ProblemInfo(gpu_training_param_dict={'processing_unit_type': 'gpu'}), random_state=0, reg_alpha=1.3541666666666667, reg_lambda=1.4583333333333335, subsample=1, tree_method='auto'))], verbose=False)), ('3', Pipeline(memory=None, steps=[('sparsenormalizer', Normalizer(copy=True, norm='l2')), ('xgboostclassifier', XGBoostClassifier(booster='gbtree', colsample_bytree=0.7, eta=0.01, gamma=0.01, max_depth=7, max_leaves=31, n_estimators=10, n_jobs=1, objective='reg:logistic', problem_info=ProblemInfo(gpu_training_param_dict={'processing_unit_type': 'gpu'}), random_state=0, reg_alpha=2.1875, reg_lambda=1.0416666666666667, subsample=1, tree_method='auto'))], verbose=False)), ('10', Pipeline(memory=None, steps=[('sparsenormalizer', Normalizer(copy=True, norm='l1')), ('lightgbmclassifier', LightGBMClassifier(boosting_type='gbdt', colsample_bytree=0.8911111111111111, learning_rate=0.0842121052631579, max_bin=290, max_depth=3, min_child_weight=6, min_data_in_leaf=0.024145517241379314, min_split_gain=0.7368421052631579, n_estimators=25, n_jobs=1, num_leaves=137, problem_info=ProblemInfo(gpu_training_param_dict={'processing_unit_type': 'gpu'}), random_state=None, reg_alpha=0.15789473684210525, reg_lambda=0, subsample=0.29736842105263156))], verbose=False)), ('20', Pipeline(memory=None, steps=[('truncatedsvdwrapper', TruncatedSVDWrapper(n_components=0.7026315789473684, random_state=None)), ('randomforestclassifier', RandomForestClassifier(bootstrap=False, ccp_alpha=0.0, class_weight='balanced', criterion='gini', max_depth=None, max_features='log2', max_leaf_nodes=None, max_samples=None, min_impurity_decrease=0.0, min_impurity_split=None, min_samples_leaf=0.01, min_samples_split=0.01, min_weight_fraction_leaf=0.0, n_estimators=200, n_jobs=1, oob_score=False, random_state=None, verbose=0, warm_start=False))], verbose=False))], flatten_transform=None, weights=[0.07142857142857142, 0.14285714285714285, 0.07142857142857142, 0.07142857142857142, 0.07142857142857142, 0.07142857142857142, 0.07142857142857142, 0.07142857142857142, 0.07142857142857142, 0.14285714285714285, 0.07142857142857142, 0.07142857142857142]))],\n",
            "         verbose=False)\n"
          ]
        }
      ],
      "source": [
        "best_auto_run, fitted_model = automl_run.get_output()\n",
        "best_auto_run_id = automl_run.get_best_child()\n",
        "\n",
        "best_auto_run.get_metrics()\n",
        "\n",
        "print('\\n')\n",
        "print(best_auto_run_id)\n",
        "print('\\n')\n",
        "print(fitted_model)"
      ]
    },
    {
      "cell_type": "markdown",
      "metadata": {
        "nteract": {
          "transient": {
            "deleting": false
          }
        }
      },
      "source": [
        "Best autorun model details:\n",
        "\n",
        "```\n",
        "Run(Experiment: salary-automl-experiment,\n",
        "Id: AutoML_6153b81f-cfb1-45cc-82ff-928ca40cb597_41,\n",
        "Type: azureml.scriptrun,\n",
        "Status: Completed)\n",
        "\n",
        "\n",
        "```\n",
        "```\n",
        "Pipeline(memory=None,\n",
        "         steps=[('datatransformer',\n",
        "                 DataTransformer(enable_dnn=False, enable_feature_sweeping=True, feature_sweeping_config={}, feature_sweeping_timeout=86400, featurization_config=None, force_text_dnn=False, is_cross_validation=False, is_onnx_compatible=False, observer=None, task='classification', working_dir='/mnt/batch/tasks/shared/LS_root/moun...\n",
        "                 PreFittedSoftVotingClassifier(classification_labels=array([0, 1]), estimators=[('21', Pipeline(memory=None, steps=[('standardscalerwrapper', StandardScalerWrapper(copy=True, with_mean=False, with_std=False)), ('xgboostclassifier', XGBoostClassifier(booster='gbtree', colsample_bytree=0.5, eta=0.2, gamma=0, max_depth=7, max_leaves=7, n_estimators=25, n_jobs=1, objective='reg:logistic', problem_info=ProblemInfo(gpu_training_param_dict={'processing_unit_type': 'gpu'}), random_state=0, reg_alpha=0, reg_lambda=0.20833333333333334, subsample=1, tree_method='auto'))], verbose=False)), ('33', Pipeline(memory=None, steps=[('standardscalerwrapper', StandardScalerWrapper(copy=True, with_mean=False, with_std=False)), ('xgboostclassifier', XGBoostClassifier(booster='gbtree', colsample_bytree=1, eta=0.05, gamma=0, max_depth=6, max_leaves=0, n_estimators=200, n_jobs=1, objective='reg:logistic', problem_info=ProblemInfo(gpu_training_param_dict={'processing_unit_type': 'gpu'}), random_state=0, reg_alpha=0.625, reg_lambda=0.8333333333333334, subsample=0.8, tree_method='auto'))], verbose=False)), ('1', Pipeline(memory=None, steps=[('maxabsscaler', MaxAbsScaler(copy=True)), ('xgboostclassifier', XGBoostClassifier(n_jobs=1, problem_info=ProblemInfo(gpu_training_param_dict={'processing_unit_type': 'gpu'}), random_state=0, tree_method='auto'))], verbose=False)), ('14', Pipeline(memory=None, steps=[('standardscalerwrapper', StandardScalerWrapper(copy=True, with_mean=False, with_std=False)), ('xgboostclassifier', XGBoostClassifier(booster='gbtree', colsample_bytree=1, eta=0.3, gamma=0, max_depth=10, max_leaves=511, n_estimators=10, n_jobs=1, objective='reg:logistic', problem_info=ProblemInfo(gpu_training_param_dict={'processing_unit_type': 'gpu'}), random_state=0, reg_alpha=2.1875, reg_lambda=0.4166666666666667, subsample=0.5, tree_method='auto'))], verbose=False)), ('0', Pipeline(memory=None, steps=[('maxabsscaler', MaxAbsScaler(copy=True)), ('lightgbmclassifier', LightGBMClassifier(min_data_in_leaf=20, n_jobs=1, problem_info=ProblemInfo(gpu_training_param_dict={'processing_unit_type': 'gpu'}), random_state=None))], verbose=False)), ('15', Pipeline(memory=None, steps=[('sparsenormalizer', Normalizer(copy=True, norm='l2')), ('randomforestclassifier', RandomForestClassifier(bootstrap=True, ccp_alpha=0.0, class_weight='balanced', criterion='gini', max_depth=None, max_features='sqrt', max_leaf_nodes=None, max_samples=None, min_impurity_decrease=0.0, min_impurity_split=None, min_samples_leaf=0.01, min_samples_split=0.01, min_weight_fraction_leaf=0.0, n_estimators=100, n_jobs=1, oob_score=True, random_state=None, verbose=0, warm_start=False))], verbose=False)), ('25', Pipeline(memory=None, steps=[('standardscalerwrapper', StandardScalerWrapper(copy=True, with_mean=False, with_std=False)), ('xgboostclassifier', XGBoostClassifier(booster='gbtree', colsample_bytree=0.9, eta=0.01, gamma=0, max_depth=9, max_leaves=63, n_estimators=400, n_jobs=1, objective='reg:logistic', problem_info=ProblemInfo(gpu_training_param_dict={'processing_unit_type': 'gpu'}), random_state=0, reg_alpha=0, reg_lambda=1.875, subsample=0.9, tree_method='auto'))], verbose=False)), ('28', Pipeline(memory=None, steps=[('sparsenormalizer', Normalizer(copy=True, norm='l1')), ('xgboostclassifier', XGBoostClassifier(booster='gbtree', colsample_bytree=1, eta=0.5, gamma=0, grow_policy='lossguide', max_bin=255, max_depth=6, max_leaves=0, n_estimators=50, n_jobs=1, objective='reg:logistic', problem_info=ProblemInfo(gpu_training_param_dict={'processing_unit_type': 'gpu'}), random_state=0, reg_alpha=2.291666666666667, reg_lambda=2.3958333333333335, subsample=0.5, tree_method='hist'))], verbose=False)), ('22', Pipeline(memory=None, steps=[('sparsenormalizer', Normalizer(copy=True, norm='l1')), ('xgboostclassifier', XGBoostClassifier(booster='gbtree', colsample_bylevel=1, colsample_bytree=1, eta=0.2, gamma=0, max_depth=10, max_leaves=0, n_estimators=10, n_jobs=1, objective='reg:logistic', problem_info=ProblemInfo(gpu_training_param_dict={'processing_unit_type': 'gpu'}), random_state=0, reg_alpha=1.3541666666666667, reg_lambda=1.4583333333333335, subsample=1, tree_method='auto'))], verbose=False)), ('3', Pipeline(memory=None, steps=[('sparsenormalizer', Normalizer(copy=True, norm='l2')), ('xgboostclassifier', XGBoostClassifier(booster='gbtree', colsample_bytree=0.7, eta=0.01, gamma=0.01, max_depth=7, max_leaves=31, n_estimators=10, n_jobs=1, objective='reg:logistic', problem_info=ProblemInfo(gpu_training_param_dict={'processing_unit_type': 'gpu'}), random_state=0, reg_alpha=2.1875, reg_lambda=1.0416666666666667, subsample=1, tree_method='auto'))], verbose=False)), ('10', Pipeline(memory=None, steps=[('sparsenormalizer', Normalizer(copy=True, norm='l1')), ('lightgbmclassifier', LightGBMClassifier(boosting_type='gbdt', colsample_bytree=0.8911111111111111, learning_rate=0.0842121052631579, max_bin=290, max_depth=3, min_child_weight=6, min_data_in_leaf=0.024145517241379314, min_split_gain=0.7368421052631579, n_estimators=25, n_jobs=1, num_leaves=137, problem_info=ProblemInfo(gpu_training_param_dict={'processing_unit_type': 'gpu'}), random_state=None, reg_alpha=0.15789473684210525, reg_lambda=0, subsample=0.29736842105263156))], verbose=False)), ('20', Pipeline(memory=None, steps=[('truncatedsvdwrapper', TruncatedSVDWrapper(n_components=0.7026315789473684, random_state=None)), ('randomforestclassifier', RandomForestClassifier(bootstrap=False, ccp_alpha=0.0, class_weight='balanced', criterion='gini', max_depth=None, max_features='log2', max_leaf_nodes=None, max_samples=None, min_impurity_decrease=0.0, min_impurity_split=None, min_samples_leaf=0.01, min_samples_split=0.01, min_weight_fraction_leaf=0.0, n_estimators=200, n_jobs=1, oob_score=False, random_state=None, verbose=0, warm_start=False))], verbose=False))], flatten_transform=None, weights=[0.07142857142857142, 0.14285714285714285, 0.07142857142857142, 0.07142857142857142, 0.07142857142857142, 0.07142857142857142, 0.07142857142857142, 0.07142857142857142, 0.07142857142857142, 0.14285714285714285, 0.07142857142857142, 0.07142857142857142]))],\n",
        "         verbose=False)\n",
        "```"
      ]
    },
    {
      "cell_type": "code",
      "execution_count": 135,
      "metadata": {
        "gather": {
          "logged": 1674925126469
        },
        "jupyter": {
          "outputs_hidden": false,
          "source_hidden": false
        },
        "nteract": {
          "transient": {
            "deleting": false
          }
        }
      },
      "outputs": [],
      "source": [
        "#TODO: Save the best model (local directory)\n",
        "import pickle\n",
        "\n",
        "with open('automl_salary_model.pkl', 'wb') as f:\n",
        "    pickle.dump(fitted_model, f, pickle.HIGHEST_PROTOCOL)\n"
      ]
    },
    {
      "cell_type": "markdown",
      "metadata": {},
      "source": [
        "## Model Deployment\n",
        "\n",
        "Remember you have to deploy only one of the two models you trained but you still need to register both the models. Perform the steps in the rest of this notebook only if you wish to deploy this model.\n",
        "\n",
        "TODO: In the cell below, register the model, create an inference config and deploy the model as a web service."
      ]
    },
    {
      "cell_type": "code",
      "execution_count": 1,
      "metadata": {
        "gather": {
          "logged": 1675514733820
        },
        "jupyter": {
          "outputs_hidden": false,
          "source_hidden": false
        },
        "nteract": {
          "transient": {
            "deleting": false
          }
        }
      },
      "outputs": [
        {
          "name": "stderr",
          "output_type": "stream",
          "text": [
            "WARNING:root:The version of the SDK does not match the version the model was trained on.\n",
            "WARNING:root:The consistency in the result may not be guaranteed.\n",
            "WARNING:root:Package:azureml-automl-core, training version:1.48.0, current version:1.47.0\n",
            "Package:azureml-automl-runtime, training version:1.48.0.post1, current version:1.47.0\n",
            "Package:azureml-core, training version:1.48.0, current version:1.47.0\n",
            "Package:azureml-dataprep, training version:4.8.3, current version:4.5.7\n",
            "Package:azureml-dataprep-rslex, training version:2.15.1, current version:2.11.4\n",
            "Package:azureml-dataset-runtime, training version:1.48.0, current version:1.47.0\n",
            "Package:azureml-defaults, training version:1.48.0, current version:1.47.0\n",
            "Package:azureml-interpret, training version:1.48.0, current version:1.47.0\n",
            "Package:azureml-mlflow, training version:1.48.0, current version:1.47.0\n",
            "Package:azureml-pipeline-core, training version:1.48.0, current version:1.47.0\n",
            "Package:azureml-responsibleai, training version:1.48.0, current version:1.47.0\n",
            "Package:azureml-telemetry, training version:1.48.0, current version:1.47.0\n",
            "Package:azureml-train-automl-client, training version:1.48.0, current version:1.47.0\n",
            "Package:azureml-train-automl-runtime, training version:1.48.0.post1, current version:1.47.0\n",
            "Package:azureml-train-core, training version:1.48.0, current version:1.47.0\n",
            "Package:azureml-train-restclients-hyperdrive, training version:1.48.0, current version:1.47.0\n",
            "Package:azureml-training-tabular, training version:1.48.0, current version:1.47.0\n",
            "WARNING:root:Below packages were used for model training but missing in current environment:\n",
            "WARNING:root:Package:azureml-model-management-sdk, training version:1.0.1b6.post1\n",
            "WARNING:root:Please ensure the version of your local conda dependencies match the version on which your model was trained in order to properly retrieve your model.\n"
          ]
        },
        {
          "name": "stdout",
          "output_type": "stream",
          "text": [
            "[12:45:32] WARNING: /mnt/xgboost/src/gbm/gbtree.cc:350: Loading from a raw memory buffer on CPU only machine.  Changing tree_method to hist.\n",
            "[12:45:32] WARNING: /mnt/xgboost/src/learner.cc:222: No visible GPU is found, setting `gpu_id` to -1\n"
          ]
        }
      ],
      "source": [
        "# Required Imports in case of cleared variable workspace:\n",
        "from azureml.core import Experiment\n",
        "from azureml.core import Workspace\n",
        "from azureml.train.automl.run import AutoMLRun\n",
        "\n",
        "ws = Workspace.from_config()\n",
        "\n",
        "prev_exp = Experiment(ws, name=\"salary-automl-experiment\")\n",
        "prev_run = AutoMLRun(prev_exp, run_id=\"AutoML_6153b81f-cfb1-45cc-82ff-928ca40cb597\")\n",
        "\n",
        "#Step 1: Register model to Azure Workspace\n",
        "\n",
        "best_run, fitted_model = prev_run.get_output()\n",
        "\n",
        "bestModel = prev_run.register_model(model_name=\"Salary-AutoML-Model\", description=\"Salary dataset trained on AutoML Config\")"
      ]
    },
    {
      "cell_type": "code",
      "execution_count": 13,
      "metadata": {
        "gather": {
          "logged": 1675517442921
        },
        "jupyter": {
          "outputs_hidden": false,
          "source_hidden": false
        },
        "nteract": {
          "transient": {
            "deleting": false
          }
        }
      },
      "outputs": [
        {
          "name": "stdout",
          "output_type": "stream",
          "text": [
            "Tips: You can try get_logs(): https://aka.ms/debugimage#dockerlog or local deployment: https://aka.ms/debugimage#debug-locally to debug if deployment takes longer than 10 minutes.\n",
            "Running\n",
            "2023-02-04 13:29:16+00:00 Creating Container Registry if not exists.\n",
            "2023-02-04 13:29:16+00:00 Registering the environment.\n",
            "2023-02-04 13:29:17+00:00 Use the existing image.\n",
            "2023-02-04 13:29:17+00:00 Submitting deployment to compute.\n",
            "2023-02-04 13:29:24+00:00 Checking the status of deployment salary-automl-endpoint..\n",
            "2023-02-04 13:30:05+00:00 Checking the status of inference endpoint salary-automl-endpoint.\n",
            "Succeeded\n",
            "ACI service creation operation finished, operation \"Succeeded\"\n",
            "Healthy\n",
            "http://8272254d-d176-4a03-b869-e40a4a517234.uksouth.azurecontainer.io/score\n",
            "http://8272254d-d176-4a03-b869-e40a4a517234.uksouth.azurecontainer.io/swagger.json\n"
          ]
        }
      ],
      "source": [
        "#Step 2: Create the Model Deployment Web Service\n",
        "\n",
        "# create an online deployment.\n",
        "\n",
        "from azureml.core.webservice import AciWebservice\n",
        "from azureml.core import Model\n",
        "from azureml.core.model import InferenceConfig\n",
        "from azureml.core.webservice import AciWebservice\n",
        "\n",
        "entry_script = best_run.download_file('outputs/scoring_file_v_1_0_0.py', 'scoringScript.py')\n",
        "bestEnv = best_run.get_environment()\n",
        "bestEnv.inferencing_stack_version='latest'\n",
        "\n",
        "inference_config=InferenceConfig(entry_script='scoringScript.py', environment=bestEnv)\n",
        "\n",
        "deployment_config = AciWebservice.deploy_configuration(cpu_cores = 1, memory_gb = 1, enable_app_insights=True) \n",
        "service = Model.deploy(ws, \"salary-automl-endpoint\", [bestModel], inference_config, deployment_config)\n",
        "service.wait_for_deployment(show_output = True)\n",
        "print(service.state)\n",
        "print(service.scoring_uri)\n",
        "print(service.swagger_uri)"
      ]
    },
    {
      "cell_type": "markdown",
      "metadata": {
        "collapsed": true,
        "gather": {
          "logged": 1598431657736
        },
        "jupyter": {
          "outputs_hidden": false,
          "source_hidden": false
        },
        "nteract": {
          "transient": {
            "deleting": false
          }
        }
      },
      "source": [
        "TODO: In the cell below, send a request to the web service you deployed to test it."
      ]
    },
    {
      "cell_type": "code",
      "execution_count": 14,
      "metadata": {
        "gather": {
          "logged": 1675518071519
        },
        "jupyter": {
          "outputs_hidden": false,
          "source_hidden": false
        },
        "nteract": {
          "transient": {
            "deleting": false
          }
        }
      },
      "outputs": [
        {
          "name": "stdout",
          "output_type": "stream",
          "text": [
            "{\"data\":[{\"age\":69,\"fnlwgt\":18.46523,\"capital-gain\":3.14,\"capital-loss\":1.23,\"hours-per-week\":45,\"workclass\":14,\"education\":10,\"marital-status\":1,\"occupation\":13,\"relationship\":0,\"race\":1,\"sex\":0,\"native-country\":35}, {\"age\":14,\"fnlwgt\":15.3247,\"capital-gain\":0,\"capital-loss\":0,\"hours-per-week\":23,\"workclass\":7,\"education\":3,\"marital-status\":2,\"occupation\":16,\"relationship\":1,\"race\":0,\"sex\":1,\"native-country\":13}],\"method\":\"predict\"}\n",
            "Predicted output (1: >50k Salary , 0: <=50k Salary)\n",
            "\"{\\\"result\\\": [1, 0]}\"\n"
          ]
        }
      ],
      "source": [
        "import requests\n",
        "\n",
        "test_data = '{\"data\":[{\"age\":69,\"fnlwgt\":18.46523,\"capital-gain\":3.14,\"capital-loss\":1.23,\"hours-per-week\":45,\"workclass\":14,'\\\n",
        "'\"education\":10,\"marital-status\":1,\"occupation\":13,\"relationship\":0,\"race\":1,\"sex\":0,\"native-country\":35},\\\n",
        " {\"age\":14,\"fnlwgt\":15.3247,\"capital-gain\":0,\"capital-loss\":0,\"hours-per-week\":23,\"workclass\":7,'\\\n",
        "'\"education\":3,\"marital-status\":2,\"occupation\":16,\"relationship\":1,\"race\":0,\"sex\":1,\"native-country\":13}],\"method\":\"predict\"}'\n",
        "print(test_data)\n",
        "headers = {'Content-type': 'application/json'}\n",
        "\n",
        "response = requests.post(service.scoring_uri, test_data, headers=headers)\n",
        "print(\"Predicted output (1: >50k Salary , 0: <=50k Salary)\")\n",
        "print(response.text)"
      ]
    },
    {
      "cell_type": "markdown",
      "metadata": {
        "collapsed": true,
        "gather": {
          "logged": 1598432765711
        },
        "jupyter": {
          "outputs_hidden": false,
          "source_hidden": false
        },
        "nteract": {
          "transient": {
            "deleting": false
          }
        }
      },
      "source": [
        "TODO: In the cell below, print the logs of the web service and delete the service"
      ]
    },
    {
      "cell_type": "code",
      "execution_count": 21,
      "metadata": {
        "gather": {
          "logged": 1675541277268
        },
        "jupyter": {
          "outputs_hidden": false,
          "source_hidden": false
        },
        "nteract": {
          "transient": {
            "deleting": false
          }
        }
      },
      "outputs": [
        {
          "name": "stdout",
          "output_type": "stream",
          "text": [
            "2023-02-04T13:29:55,635123100+00:00 - iot-server/run \n",
            "2023-02-04T13:29:55,639535700+00:00 - rsyslog/run \n",
            "2023-02-04T13:29:55,643294300+00:00 - gunicorn/run \n",
            "2023-02-04T13:29:55,647771300+00:00 | gunicorn/run | \n",
            "2023-02-04T13:29:55,654027600+00:00 | gunicorn/run | ###############################################\n",
            "2023-02-04T13:29:55,656246000+00:00 | gunicorn/run | AzureML Container Runtime Information\n",
            "2023-02-04T13:29:55,663212900+00:00 | gunicorn/run | ###############################################\n",
            "2023-02-04T13:29:55,665999400+00:00 | gunicorn/run | \n",
            "2023-02-04T13:29:55,681519400+00:00 | gunicorn/run | \n",
            "2023-02-04T13:29:55,701052500+00:00 | gunicorn/run | AzureML image information: openmpi4.1.0-cuda11.1-cudnn8-ubuntu18.04, Materializaton Build:20230103.v4\n",
            "2023-02-04T13:29:55,707489600+00:00 | gunicorn/run | \n",
            "2023-02-04T13:29:55,708730100+00:00 - nginx/run \n",
            "2023-02-04T13:29:55,712018600+00:00 | gunicorn/run | \n",
            "2023-02-04T13:29:55,719196600+00:00 | gunicorn/run | PATH environment variable: /azureml-envs/azureml_12bf146e39077f44e51a17f916266f96/bin:/opt/miniconda/bin:/usr/local/nvidia/bin:/usr/local/cuda/bin:/usr/local/sbin:/usr/local/bin:/usr/sbin:/usr/bin:/sbin:/bin\n",
            "2023-02-04T13:29:55,725259100+00:00 | gunicorn/run | PYTHONPATH environment variable: \n",
            "2023-02-04T13:29:55,729384100+00:00 | gunicorn/run | \n",
            "2023-02-04T13:29:55,735436200+00:00 | gunicorn/run | Pip Dependencies (before dynamic installation)\n",
            "\n",
            "EdgeHubConnectionString and IOTEDGE_IOTHUBHOSTNAME are not set. Exiting...\n",
            "2023-02-04T13:29:56,256860700+00:00 - iot-server/finish 1 0\n",
            "2023-02-04T13:29:56,258896800+00:00 - Exit code 1 is normal. Not restarting iot-server.\n",
            "adal==1.2.7\n",
            "applicationinsights==0.11.10\n",
            "argcomplete==2.0.0\n",
            "attrs==22.2.0\n",
            "azure-common==1.1.28\n",
            "azure-core==1.26.2\n",
            "azure-graphrbac==0.61.1\n",
            "azure-identity==1.12.0\n",
            "azure-mgmt-authorization==3.0.0\n",
            "azure-mgmt-containerregistry==10.0.0\n",
            "azure-mgmt-core==1.3.2\n",
            "azure-mgmt-keyvault==10.1.0\n",
            "azure-mgmt-resource==21.2.1\n",
            "azure-mgmt-storage==20.1.0\n",
            "azure-storage-blob==12.13.0\n",
            "azure-storage-queue==12.5.0\n",
            "azureml-automl-core==1.48.0\n",
            "azureml-automl-runtime==1.48.0.post1\n",
            "azureml-core==1.48.0\n",
            "azureml-dataprep==4.8.3\n",
            "azureml-dataprep-native==38.0.0\n",
            "azureml-dataprep-rslex==2.15.1\n",
            "azureml-dataset-runtime==1.48.0\n",
            "azureml-defaults==1.48.0\n",
            "azureml-inference-server-http==0.7.7\n",
            "azureml-interpret==1.48.0\n",
            "azureml-mlflow==1.48.0\n",
            "azureml-model-management-sdk==1.0.1b6.post1\n",
            "azureml-pipeline-core==1.48.0\n",
            "azureml-responsibleai==1.48.0\n",
            "azureml-telemetry==1.48.0\n",
            "azureml-train-automl-client==1.48.0\n",
            "azureml-train-automl-runtime==1.48.0.post1\n",
            "azureml-train-core==1.48.0\n",
            "azureml-train-restclients-hyperdrive==1.48.0\n",
            "azureml-training-tabular==1.48.0\n",
            "backcall==0.2.0\n",
            "backports.tempfile==1.0\n",
            "backports.weakref==1.0.post1\n",
            "bcrypt==4.0.1\n",
            "bokeh==2.4.3\n",
            "boto==2.49.0\n",
            "boto3==1.15.18\n",
            "botocore==1.18.18\n",
            "cachetools==5.2.1\n",
            "certifi @ file:///opt/conda/conda-bld/certifi_1655968806487/work/certifi\n",
            "cffi==1.15.1\n",
            "charset-normalizer==3.0.1\n",
            "click==8.0.4\n",
            "cloudpickle==2.2.0\n",
            "cmdstanpy==0.9.5\n",
            "contextlib2==21.6.0\n",
            "convertdate @ file:///tmp/build/80754af9/convertdate_1634070773133/work\n",
            "cryptography==39.0.0\n",
            "cycler @ file:///tmp/build/80754af9/cycler_1637851556182/work\n",
            "Cython==0.29.33\n",
            "dask==2021.6.0\n",
            "databricks-cli==0.17.4\n",
            "dataclasses==0.6\n",
            "debugpy==1.6.5\n",
            "decorator==5.1.1\n",
            "dice-ml==0.9\n",
            "dill==0.3.6\n",
            "distributed==2021.6.0\n",
            "distro==1.8.0\n",
            "docker==6.0.1\n",
            "dotnetcore2==3.1.23\n",
            "econml==0.14.0\n",
            "entrypoints==0.4\n",
            "ephem @ file:///tmp/build/80754af9/ephem_1638960312619/work\n",
            "erroranalysis==0.3.13\n",
            "fairlearn==0.7.0\n",
            "fbprophet @ file:///home/conda/feedstock_root/build_artifacts/fbprophet_1599365534439/work\n",
            "fire==0.5.0\n",
            "Flask==2.2.2\n",
            "Flask-Cors==3.0.10\n",
            "flatbuffers==23.1.4\n",
            "fonttools==4.25.0\n",
            "fsspec==2022.11.0\n",
            "gensim==3.8.3\n",
            "gitdb==4.0.10\n",
            "GitPython==3.1.30\n",
            "google-api-core==2.11.0\n",
            "google-auth==2.16.0\n",
            "googleapis-common-protos==1.58.0\n",
            "gunicorn==20.1.0\n",
            "h5py==3.7.0\n",
            "HeapDict==1.0.1\n",
            "holidays @ file:///home/conda/feedstock_root/build_artifacts/holidays_1595448845196/work\n",
            "humanfriendly==10.0\n",
            "idna==3.4\n",
            "importlib-metadata==6.0.0\n",
            "importlib-resources==5.10.2\n",
            "inference-schema==1.5.1\n",
            "interpret-community==0.27.0\n",
            "interpret-core==0.2.7\n",
            "ipykernel==6.6.0\n",
            "ipython==7.34.0\n",
            "isodate==0.6.1\n",
            "itsdangerous==2.1.2\n",
            "jedi==0.18.2\n",
            "jeepney==0.8.0\n",
            "Jinja2==3.1.2\n",
            "jmespath==1.0.1\n",
            "joblib @ file:///tmp/build/80754af9/joblib_1635411271373/work\n",
            "jsonpickle==2.2.0\n",
            "jsonschema==4.17.3\n",
            "jupyter-client==7.4.9\n",
            "jupyter-core==4.12.0\n",
            "keras2onnx==1.6.0\n",
            "kiwisolver @ file:///opt/conda/conda-bld/kiwisolver_1653292039266/work\n",
            "knack==0.10.1\n",
            "korean-lunar-calendar @ file:///tmp/build/80754af9/korean_lunar_calendar_1634063020401/work\n",
            "liac-arff==2.5.0\n",
            "lightgbm==3.2.1\n",
            "llvmlite==0.38.1\n",
            "locket==1.0.0\n",
            "LunarCalendar @ file:///tmp/build/80754af9/lunarcalendar_1646383991234/work\n",
            "MarkupSafe==2.0.1\n",
            "matplotlib @ file:///tmp/build/80754af9/matplotlib-suite_1647441664166/work\n",
            "matplotlib-inline==0.1.6\n",
            "mkl-service==2.3.0\n",
            "ml-wrappers==0.2.2\n",
            "mlflow-skinny==1.30.0\n",
            "mpi4py==3.1.3\n",
            "msal==1.20.0\n",
            "msal-extensions==1.0.0\n",
            "msgpack==1.0.4\n",
            "msrest==0.7.1\n",
            "msrestazure==0.6.4\n",
            "munkres==1.1.4\n",
            "ndg-httpsclient==0.5.1\n",
            "nest-asyncio==1.5.6\n",
            "networkx==2.5\n",
            "nimbusml==1.8.0\n",
            "numba==0.55.2\n",
            "numpy==1.21.6\n",
            "oauthlib==3.2.2\n",
            "onnx==1.12.0\n",
            "onnxconverter-common==1.6.0\n",
            "onnxmltools==1.4.1\n",
            "onnxruntime==1.11.1\n",
            "opencensus==0.11.0\n",
            "opencensus-context==0.1.3\n",
            "opencensus-ext-azure==1.1.7\n",
            "packaging @ file:///tmp/build/80754af9/packaging_1637314298585/work\n",
            "pandas==1.1.5\n",
            "paramiko==2.12.0\n",
            "parso==0.8.3\n",
            "partd==1.3.0\n",
            "pathspec==0.10.3\n",
            "patsy==0.5.3\n",
            "pexpect==4.8.0\n",
            "pickleshare==0.7.5\n",
            "Pillow==9.2.0\n",
            "pkginfo==1.9.6\n",
            "pkgutil-resolve-name==1.3.10\n",
            "pmdarima==1.7.1\n",
            "portalocker==2.6.0\n",
            "prompt-toolkit==3.0.36\n",
            "protobuf==3.20.1\n",
            "psutil @ file:///opt/conda/conda-bld/psutil_1656431268089/work\n",
            "ptyprocess==0.7.0\n",
            "py-cpuinfo==5.0.0\n",
            "pyarrow==9.0.0\n",
            "pyasn1==0.4.8\n",
            "pyasn1-modules==0.2.8\n",
            "pycparser==2.21\n",
            "Pygments==2.14.0\n",
            "PyJWT==2.6.0\n",
            "PyMeeus @ file:///tmp/build/80754af9/pymeeus_1634069098549/work\n",
            "PyNaCl==1.5.0\n",
            "pyOpenSSL==22.1.0\n",
            "pyparsing @ file:///tmp/build/80754af9/pyparsing_1635766073266/work\n",
            "pyrsistent==0.19.3\n",
            "PySocks==1.7.1\n",
            "pystan==2.19.1.1\n",
            "python-dateutil==2.8.2\n",
            "pytz==2022.7\n",
            "PyYAML==6.0\n",
            "pyzmq==25.0.0\n",
            "raiutils==0.3.0\n",
            "requests==2.28.2\n",
            "requests-oauthlib==1.3.1\n",
            "responsibleai==0.23.0\n",
            "rsa==4.9\n",
            "s3transfer==0.3.7\n",
            "scikit-learn==0.22.1\n",
            "scipy==1.5.3\n",
            "SecretStorage==3.3.3\n",
            "semver==2.13.0\n",
            "setuptools-git==1.2\n",
            "shap==0.39.0\n",
            "six==1.16.0\n",
            "skl2onnx==1.4.9\n",
            "sklearn-pandas==1.7.0\n",
            "slicer==0.0.7\n",
            "smart-open==1.9.0\n",
            "smmap==5.0.0\n",
            "sortedcontainers==2.4.0\n",
            "sparse==0.13.0\n",
            "sqlparse==0.4.3\n",
            "statsmodels==0.11.1\n",
            "tabulate==0.9.0\n",
            "tblib==1.7.0\n",
            "termcolor==2.2.0\n",
            "toolz==0.12.0\n",
            "tornado==6.2\n",
            "tqdm @ file:///opt/conda/conda-bld/tqdm_1650891076910/work\n",
            "traitlets==5.8.1\n",
            "typing-extensions @ file:///tmp/abs_ben9emwtky/croots/recipe/typing_extensions_1659638822008/work\n",
            "urllib3==1.26.14\n",
            "wcwidth==0.2.5\n",
            "websocket-client==1.4.2\n",
            "Werkzeug==2.2.2\n",
            "wrapt==1.12.1\n",
            "xgboost==1.3.3\n",
            "zict==2.2.0\n",
            "zipp==3.11.0\n",
            "\n",
            "2023-02-04T13:29:57,785862000+00:00 | gunicorn/run | \n",
            "2023-02-04T13:29:57,787726500+00:00 | gunicorn/run | ###############################################\n",
            "2023-02-04T13:29:57,789469100+00:00 | gunicorn/run | AzureML Inference Server\n",
            "2023-02-04T13:29:57,796958100+00:00 | gunicorn/run | ###############################################\n",
            "2023-02-04T13:29:57,798815000+00:00 | gunicorn/run | \n",
            "2023-02-04T13:30:01,376785658+00:00 | gunicorn/run | Starting AzureML Inference Server HTTP.\n",
            "Valid Application Insights instrumentation key provided.\n",
            "\n",
            "Azure ML Inferencing HTTP server v0.7.7\n",
            "\n",
            "\n",
            "Server Settings\n",
            "---------------\n",
            "Entry Script Name: /var/azureml-app/main.py\n",
            "Model Directory: /var/azureml-app/azureml-models/Salary-AutoML-Model/7\n",
            "Worker Count: 1\n",
            "Worker Timeout (seconds): 300\n",
            "Server Port: 31311\n",
            "Application Insights Enabled: true\n",
            "Application Insights Key: AppInsights key provided\n",
            "Inferencing HTTP server version: azmlinfsrv/0.7.7\n",
            "CORS for the specified origins: None\n",
            "\n",
            "\n",
            "Server Routes\n",
            "---------------\n",
            "Liveness Probe: GET   127.0.0.1:31311/\n",
            "Score:          POST  127.0.0.1:31311/score\n",
            "\n",
            "Starting gunicorn 20.1.0\n",
            "Listening at: http://0.0.0.0:31311 (82)\n",
            "Using worker: sync\n",
            "Booting worker with pid: 137\n",
            "Initializing logger\n",
            "2023-02-04 13:30:03,408 | root | INFO | Starting up app insights client\n",
            "DeprecationWarning: Explicitly using instrumentation key isdeprecated. Please use a connection string instead.\n",
            "DeprecationWarning: Explicitly using instrumentation key isdeprecated. Please use a connection string instead.\n",
            "DeprecationWarning: Explicitly using instrumentation key isdeprecated. Please use a connection string instead.\n",
            "logging socket was found. logging is available.\n",
            "logging socket was found. logging is available.\n",
            "2023-02-04 13:30:09,071 | root | INFO | Starting up app insight hooks\n",
            "2023-02-04 13:30:10,520 | root | INFO | Found driver script at /var/azureml-app/main.py and the score script at /var/azureml-app/scoringScript.py\n",
            "2023-02-04 13:30:10,521 | root | INFO | run() is decorated with @input_schema. Server will invoke it with the following arguments: data, method.\n",
            "2023-02-04 13:30:10,521 | root | INFO | Invoking user's init function\n",
            "generated new fontManager\n",
            "Importing plotly failed. Interactive plots will not work.\n",
            "2023-02-04 13:30:24,076 | azureml.core | WARNING | Failure while loading azureml_run_type_providers. Failed to load entrypoint azureml.scriptrun = azureml.core.script_run:ScriptRun._from_run_dto with exception (cryptography 39.0.0 (/azureml-envs/azureml_12bf146e39077f44e51a17f916266f96/lib/python3.7/site-packages), Requirement.parse('cryptography<39,>=38.0.0'), {'pyopenssl'}).\n",
            "Failure while loading azureml_run_type_providers. Failed to load entrypoint azureml.scriptrun = azureml.core.script_run:ScriptRun._from_run_dto with exception (cryptography 39.0.0 (/azureml-envs/azureml_12bf146e39077f44e51a17f916266f96/lib/python3.7/site-packages), Requirement.parse('cryptography<39,>=38.0.0'), {'pyopenssl'}).\n",
            "2023-02-04 13:30:24,089 | azureml.core | WARNING | Failure while loading azureml_run_type_providers. Failed to load entrypoint azureml.PipelineRun = azureml.pipeline.core.run:PipelineRun._from_dto with exception (cryptography 39.0.0 (/azureml-envs/azureml_12bf146e39077f44e51a17f916266f96/lib/python3.7/site-packages), Requirement.parse('cryptography<39,>=38.0.0'), {'pyopenssl'}).\n",
            "Failure while loading azureml_run_type_providers. Failed to load entrypoint azureml.PipelineRun = azureml.pipeline.core.run:PipelineRun._from_dto with exception (cryptography 39.0.0 (/azureml-envs/azureml_12bf146e39077f44e51a17f916266f96/lib/python3.7/site-packages), Requirement.parse('cryptography<39,>=38.0.0'), {'pyopenssl'}).\n",
            "2023-02-04 13:30:24,101 | azureml.core | WARNING | Failure while loading azureml_run_type_providers. Failed to load entrypoint azureml.ReusedStepRun = azureml.pipeline.core.run:StepRun._from_reused_dto with exception (cryptography 39.0.0 (/azureml-envs/azureml_12bf146e39077f44e51a17f916266f96/lib/python3.7/site-packages), Requirement.parse('cryptography<39,>=38.0.0'), {'pyopenssl'}).\n",
            "Failure while loading azureml_run_type_providers. Failed to load entrypoint azureml.ReusedStepRun = azureml.pipeline.core.run:StepRun._from_reused_dto with exception (cryptography 39.0.0 (/azureml-envs/azureml_12bf146e39077f44e51a17f916266f96/lib/python3.7/site-packages), Requirement.parse('cryptography<39,>=38.0.0'), {'pyopenssl'}).\n",
            "2023-02-04 13:30:24,116 | azureml.core | WARNING | Failure while loading azureml_run_type_providers. Failed to load entrypoint azureml.StepRun = azureml.pipeline.core.run:StepRun._from_dto with exception (cryptography 39.0.0 (/azureml-envs/azureml_12bf146e39077f44e51a17f916266f96/lib/python3.7/site-packages), Requirement.parse('cryptography<39,>=38.0.0'), {'pyopenssl'}).\n",
            "Failure while loading azureml_run_type_providers. Failed to load entrypoint azureml.StepRun = azureml.pipeline.core.run:StepRun._from_dto with exception (cryptography 39.0.0 (/azureml-envs/azureml_12bf146e39077f44e51a17f916266f96/lib/python3.7/site-packages), Requirement.parse('cryptography<39,>=38.0.0'), {'pyopenssl'}).\n",
            "2023-02-04 13:30:24,366 | azureml.core | WARNING | Failure while loading azureml_run_type_providers. Failed to load entrypoint automl = azureml.train.automl.run:AutoMLRun._from_run_dto with exception (azure-identity 1.12.0 (/azureml-envs/azureml_12bf146e39077f44e51a17f916266f96/lib/python3.7/site-packages), Requirement.parse('azure-identity==1.7.0'), {'azureml-dataprep'}).\n",
            "Failure while loading azureml_run_type_providers. Failed to load entrypoint automl = azureml.train.automl.run:AutoMLRun._from_run_dto with exception (azure-identity 1.12.0 (/azureml-envs/azureml_12bf146e39077f44e51a17f916266f96/lib/python3.7/site-packages), Requirement.parse('azure-identity==1.7.0'), {'azureml-dataprep'}).\n",
            "2023-02-04 13:30:24,383 | azureml.core | WARNING | Failure while loading azureml_run_type_providers. Failed to load entrypoint hyperdrive = azureml.train.hyperdrive:HyperDriveRun._from_run_dto with exception (cryptography 39.0.0 (/azureml-envs/azureml_12bf146e39077f44e51a17f916266f96/lib/python3.7/site-packages), Requirement.parse('cryptography<39,>=38.0.0'), {'pyopenssl'}).\n",
            "Failure while loading azureml_run_type_providers. Failed to load entrypoint hyperdrive = azureml.train.hyperdrive:HyperDriveRun._from_run_dto with exception (cryptography 39.0.0 (/azureml-envs/azureml_12bf146e39077f44e51a17f916266f96/lib/python3.7/site-packages), Requirement.parse('cryptography<39,>=38.0.0'), {'pyopenssl'}).\n",
            "00000000-0000-0000-0000-000000000000,[13:30:27] WARNING: ../src/gbm/gbtree.cc:350: Loading from a raw memory buffer on CPU only machine.  Changing tree_method to hist.\n",
            "00000000-0000-0000-0000-000000000000,[13:30:27] WARNING: ../src/learner.cc:222: No visible GPU is found, setting `gpu_id` to -1\n",
            "2023-02-04 13:30:27,755 | root | INFO | Users's init has completed successfully\n",
            "2023-02-04 13:30:27,810 | root | INFO | Swaggers are prepared for the following versions: [2, 3].\n",
            "2023-02-04 13:30:27,810 | root | INFO | Scoring timeout is found from os.environ: 60000 ms\n",
            "2023-02-04 13:30:27,815 | root | INFO | AML_FLASK_ONE_COMPATIBILITY is set. Patched Flask to ensure compatibility with Flask 1.\n",
            "2023-02-04 13:30:39,348 | root | INFO | 200\n",
            "127.0.0.1 - - [04/Feb/2023:13:30:39 +0000] \"GET /swagger.json HTTP/1.0\" 200 3641 \"-\" \"Go-http-client/1.1\"\n",
            "2023-02-04 13:30:40,904 | root | INFO | 200\n",
            "127.0.0.1 - - [04/Feb/2023:13:30:40 +0000] \"GET /swagger.json HTTP/1.0\" 200 3641 \"-\" \"Go-http-client/1.1\"\n",
            "2023-02-04 13:41:11,832 | root | INFO | 200\n",
            "127.0.0.1 - - [04/Feb/2023:13:41:11 +0000] \"POST /score HTTP/1.0\" 200 22 \"-\" \"python-requests/2.28.1\"\n",
            "127.0.0.1 - - [04/Feb/2023:15:39:18 +0000] \"POST /boaform/admin/formLogin HTTP/1.0\" 404 127 \"http://20.108.126.61:80/admin/login.asp\" \"Mozilla/5.0 (X11; Ubuntu; Linux x86_64; rv:71.0) Gecko/20100101 Firefox/71.0\"\n",
            "2023-02-04 15:41:03,522 | root | INFO | 200\n",
            "127.0.0.1 - - [04/Feb/2023:15:41:03 +0000] \"GET /swagger.json HTTP/1.0\" 200 3641 \"-\" \"Go-http-client/1.1\"\n",
            "127.0.0.1 - admin [04/Feb/2023:15:47:13 +0000] \"POST /mgmt/tm/util/bash HTTP/1.0\" 404 127 \"-\" \"Mozilla/5.0 (Windows NT 10.0; Win64; x64) AppleWebKit/537.36 (KHTML, like Gecko) Chrome/63.0.3239.84 Safari/537.36\"\n",
            "127.0.0.1 - - [04/Feb/2023:17:17:55 +0000] \"POST /boaform/admin/formLogin HTTP/1.0\" 404 127 \"http://20.108.126.61:80/admin/login.asp\" \"Mozilla/5.0 (X11; Ubuntu; Linux x86_64; rv:71.0) Gecko/20100101 Firefox/71.0\"\n",
            "127.0.0.1 - - [04/Feb/2023:17:31:38 +0000] \"POST /boaform/admin/formLogin HTTP/1.0\" 404 127 \"http://20.108.126.61:80/admin/login.asp\" \"Mozilla/5.0 (X11; Ubuntu; Linux x86_64; rv:71.0) Gecko/20100101 Firefox/71.0\"\n",
            "127.0.0.1 - - [04/Feb/2023:17:48:59 +0000] \"POST /HNAP1/ HTTP/1.0\" 404 127 \"-\" \"Mozila/5.0\"\n",
            "127.0.0.1 - - [04/Feb/2023:19:06:58 +0000] \"GET /admin/config.php HTTP/1.0\" 404 127 \"-\" \"python-requests/2.22.0\"\n",
            "127.0.0.1 - - [04/Feb/2023:19:15:21 +0000] \"GET /nmaplowercheck1675538109 HTTP/1.0\" 404 127 \"-\" \"Mozilla/5.0 (compatible; Nmap Scripting Engine; https://nmap.org/book/nse.html)\"\n",
            "127.0.0.1 - - [04/Feb/2023:19:15:21 +0000] \"GET /pools/default/buckets HTTP/1.0\" 404 127 \"-\" \"Mozilla/5.0 (compatible; Nmap Scripting Engine; https://nmap.org/book/nse.html)\"\n",
            "127.0.0.1 - - [04/Feb/2023:19:15:22 +0000] \"GET /pools HTTP/1.0\" 404 127 \"-\" \"Mozilla/5.0 (compatible; Nmap Scripting Engine; https://nmap.org/book/nse.html)\"\n",
            "127.0.0.1 - - [04/Feb/2023:19:18:38 +0000] \"POST /HNAP1/ HTTP/1.0\" 404 127 \"-\" \"Mozila/5.0\"\n",
            "127.0.0.1 - - [04/Feb/2023:19:24:35 +0000] \"GET /admin/config.php HTTP/1.0\" 404 127 \"-\" \"python-requests/2.22.0\"\n",
            "\n"
          ]
        }
      ],
      "source": [
        "print(service.get_logs())\n",
        "service.delete()"
      ]
    },
    {
      "cell_type": "markdown",
      "metadata": {},
      "source": [
        "**Submission Checklist**\n",
        "- I have registered the model.\n",
        "- I have deployed the model with the best accuracy as a webservice.\n",
        "- I have tested the webservice by sending a request to the model endpoint.\n",
        "- I have deleted the webservice and shutdown all the computes that I have used.\n",
        "- I have taken a screenshot showing the model endpoint as active.\n",
        "- The project includes a file containing the environment details.\n"
      ]
    },
    {
      "cell_type": "markdown",
      "metadata": {},
      "source": []
    }
  ],
  "metadata": {
    "kernel_info": {
      "name": "python3"
    },
    "kernelspec": {
      "display_name": "Python 3 (ipykernel)",
      "language": "python",
      "name": "python3"
    },
    "language_info": {
      "codemirror_mode": {
        "name": "ipython",
        "version": 3
      },
      "file_extension": ".py",
      "mimetype": "text/x-python",
      "name": "python",
      "nbconvert_exporter": "python",
      "pygments_lexer": "ipython3",
      "version": "3.8.5"
    },
    "microsoft": {
      "host": {
        "AzureML": {
          "notebookHasBeenCompleted": true
        }
      }
    },
    "nteract": {
      "version": "nteract-front-end@1.0.0"
    },
    "vscode": {
      "interpreter": {
        "hash": "3ad933181bd8a04b432d3370b9dc3b0662ad032c4dfaa4e4f1596c548f763858"
      }
    }
  },
  "nbformat": 4,
  "nbformat_minor": 2
}
