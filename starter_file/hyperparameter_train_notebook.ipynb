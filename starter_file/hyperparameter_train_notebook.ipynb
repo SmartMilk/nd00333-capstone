{
  "cells": [
    {
      "cell_type": "code",
      "source": [
        "pip install sklearn azureml.train"
      ],
      "outputs": [
        {
          "output_type": "stream",
          "name": "stdout",
          "text": "Requirement already satisfied: sklearn in /anaconda/envs/azureml_py310_sdkv2/lib/python3.10/site-packages (0.0.post1)\nCollecting azureml.train\n  Downloading azureml_train-1.48.0-py3-none-any.whl (2.2 kB)\nCollecting azureml-train-core~=1.48.0\n  Downloading azureml_train_core-1.48.0-py3-none-any.whl (8.6 MB)\n\u001b[2K     \u001b[90m━━━━━━━━━━━━━━━━━━━━━━━━━━━━━━━━━━━━━━━━\u001b[0m \u001b[32m8.6/8.6 MB\u001b[0m \u001b[31m117.3 MB/s\u001b[0m eta \u001b[36m0:00:00\u001b[0m00:01\u001b[0m00:01\u001b[0m\n\u001b[?25hCollecting azureml-telemetry~=1.48.0\n  Downloading azureml_telemetry-1.48.0-py3-none-any.whl (30 kB)\nCollecting azureml-core~=1.48.0\n  Downloading azureml_core-1.48.0-py3-none-any.whl (3.3 MB)\n\u001b[2K     \u001b[90m━━━━━━━━━━━━━━━━━━━━━━━━━━━━━━━━━━━━━━━━\u001b[0m \u001b[32m3.3/3.3 MB\u001b[0m \u001b[31m92.3 MB/s\u001b[0m eta \u001b[36m0:00:00\u001b[0m:00:01\u001b[0m\n\u001b[?25hCollecting azureml-train-restclients-hyperdrive~=1.48.0\n  Downloading azureml_train_restclients_hyperdrive-1.48.0-py3-none-any.whl (18 kB)\nRequirement already satisfied: azure-core<2.0.0 in /anaconda/envs/azureml_py310_sdkv2/lib/python3.10/site-packages (from azureml-core~=1.48.0->azureml-train-core~=1.48.0->azureml.train) (1.26.1)\nRequirement already satisfied: azure-mgmt-authorization<4,>=0.40.0 in /anaconda/envs/azureml_py310_sdkv2/lib/python3.10/site-packages (from azureml-core~=1.48.0->azureml-train-core~=1.48.0->azureml.train) (2.0.0)\nRequirement already satisfied: knack~=0.10.0 in /anaconda/envs/azureml_py310_sdkv2/lib/python3.10/site-packages (from azureml-core~=1.48.0->azureml-train-core~=1.48.0->azureml.train) (0.10.0)\nRequirement already satisfied: urllib3<2.0.0,>=1.23 in /anaconda/envs/azureml_py310_sdkv2/lib/python3.10/site-packages (from azureml-core~=1.48.0->azureml-train-core~=1.48.0->azureml.train) (1.26.12)\nRequirement already satisfied: msrest<=0.7.1,>=0.5.1 in /anaconda/envs/azureml_py310_sdkv2/lib/python3.10/site-packages (from azureml-core~=1.48.0->azureml-train-core~=1.48.0->azureml.train) (0.7.1)\nRequirement already satisfied: python-dateutil<3.0.0,>=2.7.3 in /anaconda/envs/azureml_py310_sdkv2/lib/python3.10/site-packages (from azureml-core~=1.48.0->azureml-train-core~=1.48.0->azureml.train) (2.8.2)\nRequirement already satisfied: contextlib2<22.0.0 in /anaconda/envs/azureml_py310_sdkv2/lib/python3.10/site-packages (from azureml-core~=1.48.0->azureml-train-core~=1.48.0->azureml.train) (21.6.0)\nRequirement already satisfied: argcomplete<3 in /anaconda/envs/azureml_py310_sdkv2/lib/python3.10/site-packages (from azureml-core~=1.48.0->azureml-train-core~=1.48.0->azureml.train) (2.0.0)\nRequirement already satisfied: PyJWT<3.0.0 in /anaconda/envs/azureml_py310_sdkv2/lib/python3.10/site-packages (from azureml-core~=1.48.0->azureml-train-core~=1.48.0->azureml.train) (2.6.0)\nRequirement already satisfied: docker<7.0.0 in /anaconda/envs/azureml_py310_sdkv2/lib/python3.10/site-packages (from azureml-core~=1.48.0->azureml-train-core~=1.48.0->azureml.train) (6.0.1)\nRequirement already satisfied: pkginfo in /anaconda/envs/azureml_py310_sdkv2/lib/python3.10/site-packages (from azureml-core~=1.48.0->azureml-train-core~=1.48.0->azureml.train) (1.8.3)\nRequirement already satisfied: ndg-httpsclient<=0.5.1 in /anaconda/envs/azureml_py310_sdkv2/lib/python3.10/site-packages (from azureml-core~=1.48.0->azureml-train-core~=1.48.0->azureml.train) (0.5.1)\nRequirement already satisfied: azure-mgmt-storage<21.0.0,>=16.0.0 in /anaconda/envs/azureml_py310_sdkv2/lib/python3.10/site-packages (from azureml-core~=1.48.0->azureml-train-core~=1.48.0->azureml.train) (19.1.0)\nRequirement already satisfied: pyopenssl<23.0.0 in /anaconda/envs/azureml_py310_sdkv2/lib/python3.10/site-packages (from azureml-core~=1.48.0->azureml-train-core~=1.48.0->azureml.train) (22.1.0)\nRequirement already satisfied: msal<2.0.0,>=1.15.0 in /anaconda/envs/azureml_py310_sdkv2/lib/python3.10/site-packages (from azureml-core~=1.48.0->azureml-train-core~=1.48.0->azureml.train) (1.20.0)\nRequirement already satisfied: azure-common<2.0.0,>=1.1.12 in /anaconda/envs/azureml_py310_sdkv2/lib/python3.10/site-packages (from azureml-core~=1.48.0->azureml-train-core~=1.48.0->azureml.train) (1.1.28)\nRequirement already satisfied: paramiko<3.0.0,>=2.0.8 in /anaconda/envs/azureml_py310_sdkv2/lib/python3.10/site-packages (from azureml-core~=1.48.0->azureml-train-core~=1.48.0->azureml.train) (2.12.0)\nRequirement already satisfied: pathspec<1.0.0 in /anaconda/envs/azureml_py310_sdkv2/lib/python3.10/site-packages (from azureml-core~=1.48.0->azureml-train-core~=1.48.0->azureml.train) (0.10.1)\nRequirement already satisfied: cryptography!=1.9,!=2.0.*,!=2.1.*,!=2.2.*,<41 in /anaconda/envs/azureml_py310_sdkv2/lib/python3.10/site-packages (from azureml-core~=1.48.0->azureml-train-core~=1.48.0->azureml.train) (38.0.3)\nRequirement already satisfied: azure-mgmt-resource<22.0.0,>=15.0.0 in /anaconda/envs/azureml_py310_sdkv2/lib/python3.10/site-packages (from azureml-core~=1.48.0->azureml-train-core~=1.48.0->azureml.train) (21.2.1)\nRequirement already satisfied: azure-mgmt-keyvault<11.0.0,>=0.40.0 in /anaconda/envs/azureml_py310_sdkv2/lib/python3.10/site-packages (from azureml-core~=1.48.0->azureml-train-core~=1.48.0->azureml.train) (10.1.0)\nRequirement already satisfied: humanfriendly<11.0,>=4.7 in /anaconda/envs/azureml_py310_sdkv2/lib/python3.10/site-packages (from azureml-core~=1.48.0->azureml-train-core~=1.48.0->azureml.train) (10.0)\nRequirement already satisfied: jsonpickle<3.0.0 in /anaconda/envs/azureml_py310_sdkv2/lib/python3.10/site-packages (from azureml-core~=1.48.0->azureml-train-core~=1.48.0->azureml.train) (2.2.0)\nRequirement already satisfied: pytz in /anaconda/envs/azureml_py310_sdkv2/lib/python3.10/site-packages (from azureml-core~=1.48.0->azureml-train-core~=1.48.0->azureml.train) (2022.6)\nRequirement already satisfied: msrestazure<=0.6.4,>=0.4.33 in /anaconda/envs/azureml_py310_sdkv2/lib/python3.10/site-packages (from azureml-core~=1.48.0->azureml-train-core~=1.48.0->azureml.train) (0.6.4)\nRequirement already satisfied: backports.tempfile in /anaconda/envs/azureml_py310_sdkv2/lib/python3.10/site-packages (from azureml-core~=1.48.0->azureml-train-core~=1.48.0->azureml.train) (1.0)\nRequirement already satisfied: azure-mgmt-containerregistry<11,>=8.2.0 in /anaconda/envs/azureml_py310_sdkv2/lib/python3.10/site-packages (from azureml-core~=1.48.0->azureml-train-core~=1.48.0->azureml.train) (10.0.0)\nRequirement already satisfied: jmespath<2.0.0 in /anaconda/envs/azureml_py310_sdkv2/lib/python3.10/site-packages (from azureml-core~=1.48.0->azureml-train-core~=1.48.0->azureml.train) (1.0.1)\nRequirement already satisfied: requests[socks]<3.0.0,>=2.19.1 in /anaconda/envs/azureml_py310_sdkv2/lib/python3.10/site-packages (from azureml-core~=1.48.0->azureml-train-core~=1.48.0->azureml.train) (2.28.1)\nRequirement already satisfied: msal-extensions<=1.0.0,>=0.3.0 in /anaconda/envs/azureml_py310_sdkv2/lib/python3.10/site-packages (from azureml-core~=1.48.0->azureml-train-core~=1.48.0->azureml.train) (0.3.1)\nRequirement already satisfied: SecretStorage<4.0.0 in /anaconda/envs/azureml_py310_sdkv2/lib/python3.10/site-packages (from azureml-core~=1.48.0->azureml-train-core~=1.48.0->azureml.train) (3.3.3)\nRequirement already satisfied: adal<=1.2.7,>=1.2.0 in /anaconda/envs/azureml_py310_sdkv2/lib/python3.10/site-packages (from azureml-core~=1.48.0->azureml-train-core~=1.48.0->azureml.train) (1.2.7)\nRequirement already satisfied: azure-graphrbac<1.0.0,>=0.40.0 in /anaconda/envs/azureml_py310_sdkv2/lib/python3.10/site-packages (from azureml-core~=1.48.0->azureml-train-core~=1.48.0->azureml.train) (0.61.1)\nRequirement already satisfied: packaging<22.0,>=20.0 in /anaconda/envs/azureml_py310_sdkv2/lib/python3.10/site-packages (from azureml-core~=1.48.0->azureml-train-core~=1.48.0->azureml.train) (21.3)\nCollecting applicationinsights\n  Downloading applicationinsights-0.11.10-py2.py3-none-any.whl (55 kB)\n\u001b[2K     \u001b[90m━━━━━━━━━━━━━━━━━━━━━━━━━━━━━━━━━━━━━━━━\u001b[0m \u001b[32m55.1/55.1 kB\u001b[0m \u001b[31m4.9 MB/s\u001b[0m eta \u001b[36m0:00:00\u001b[0m\n\u001b[?25hRequirement already satisfied: six>=1.11.0 in /anaconda/envs/azureml_py310_sdkv2/lib/python3.10/site-packages (from azure-core<2.0.0->azureml-core~=1.48.0->azureml-train-core~=1.48.0->azureml.train) (1.16.0)\nRequirement already satisfied: typing-extensions>=4.0.1 in /anaconda/envs/azureml_py310_sdkv2/lib/python3.10/site-packages (from azure-core<2.0.0->azureml-core~=1.48.0->azureml-train-core~=1.48.0->azureml.train) (4.4.0)\nRequirement already satisfied: azure-mgmt-core<2.0.0,>=1.2.0 in /anaconda/envs/azureml_py310_sdkv2/lib/python3.10/site-packages (from azure-mgmt-authorization<4,>=0.40.0->azureml-core~=1.48.0->azureml-train-core~=1.48.0->azureml.train) (1.3.2)\nRequirement already satisfied: cffi>=1.12 in /anaconda/envs/azureml_py310_sdkv2/lib/python3.10/site-packages (from cryptography!=1.9,!=2.0.*,!=2.1.*,!=2.2.*,<41->azureml-core~=1.48.0->azureml-train-core~=1.48.0->azureml.train) (1.15.1)\nRequirement already satisfied: websocket-client>=0.32.0 in /anaconda/envs/azureml_py310_sdkv2/lib/python3.10/site-packages (from docker<7.0.0->azureml-core~=1.48.0->azureml-train-core~=1.48.0->azureml.train) (1.4.2)\nRequirement already satisfied: tabulate in /anaconda/envs/azureml_py310_sdkv2/lib/python3.10/site-packages (from knack~=0.10.0->azureml-core~=1.48.0->azureml-train-core~=1.48.0->azureml.train) (0.9.0)\nRequirement already satisfied: pyyaml in /anaconda/envs/azureml_py310_sdkv2/lib/python3.10/site-packages (from knack~=0.10.0->azureml-core~=1.48.0->azureml-train-core~=1.48.0->azureml.train) (6.0)\nRequirement already satisfied: pygments in /anaconda/envs/azureml_py310_sdkv2/lib/python3.10/site-packages (from knack~=0.10.0->azureml-core~=1.48.0->azureml-train-core~=1.48.0->azureml.train) (2.11.2)\nRequirement already satisfied: portalocker<3,>=1.0 in /anaconda/envs/azureml_py310_sdkv2/lib/python3.10/site-packages (from msal-extensions<=1.0.0,>=0.3.0->azureml-core~=1.48.0->azureml-train-core~=1.48.0->azureml.train) (2.6.0)\nRequirement already satisfied: certifi>=2017.4.17 in /anaconda/envs/azureml_py310_sdkv2/lib/python3.10/site-packages (from msrest<=0.7.1,>=0.5.1->azureml-core~=1.48.0->azureml-train-core~=1.48.0->azureml.train) (2022.6.15)\nRequirement already satisfied: isodate>=0.6.0 in /anaconda/envs/azureml_py310_sdkv2/lib/python3.10/site-packages (from msrest<=0.7.1,>=0.5.1->azureml-core~=1.48.0->azureml-train-core~=1.48.0->azureml.train) (0.6.1)\nRequirement already satisfied: requests-oauthlib>=0.5.0 in /anaconda/envs/azureml_py310_sdkv2/lib/python3.10/site-packages (from msrest<=0.7.1,>=0.5.1->azureml-core~=1.48.0->azureml-train-core~=1.48.0->azureml.train) (1.3.1)\nRequirement already satisfied: pyasn1>=0.1.1 in /anaconda/envs/azureml_py310_sdkv2/lib/python3.10/site-packages (from ndg-httpsclient<=0.5.1->azureml-core~=1.48.0->azureml-train-core~=1.48.0->azureml.train) (0.4.8)\nRequirement already satisfied: pyparsing!=3.0.5,>=2.0.2 in /anaconda/envs/azureml_py310_sdkv2/lib/python3.10/site-packages (from packaging<22.0,>=20.0->azureml-core~=1.48.0->azureml-train-core~=1.48.0->azureml.train) (3.0.9)\nRequirement already satisfied: bcrypt>=3.1.3 in /anaconda/envs/azureml_py310_sdkv2/lib/python3.10/site-packages (from paramiko<3.0.0,>=2.0.8->azureml-core~=1.48.0->azureml-train-core~=1.48.0->azureml.train) (4.0.1)\nRequirement already satisfied: pynacl>=1.0.1 in /anaconda/envs/azureml_py310_sdkv2/lib/python3.10/site-packages (from paramiko<3.0.0,>=2.0.8->azureml-core~=1.48.0->azureml-train-core~=1.48.0->azureml.train) (1.5.0)\nRequirement already satisfied: charset-normalizer<3,>=2 in /anaconda/envs/azureml_py310_sdkv2/lib/python3.10/site-packages (from requests[socks]<3.0.0,>=2.19.1->azureml-core~=1.48.0->azureml-train-core~=1.48.0->azureml.train) (2.1.1)\nRequirement already satisfied: idna<4,>=2.5 in /anaconda/envs/azureml_py310_sdkv2/lib/python3.10/site-packages (from requests[socks]<3.0.0,>=2.19.1->azureml-core~=1.48.0->azureml-train-core~=1.48.0->azureml.train) (3.4)\nRequirement already satisfied: PySocks!=1.5.7,>=1.5.6 in /anaconda/envs/azureml_py310_sdkv2/lib/python3.10/site-packages (from requests[socks]<3.0.0,>=2.19.1->azureml-core~=1.48.0->azureml-train-core~=1.48.0->azureml.train) (1.7.1)\nRequirement already satisfied: jeepney>=0.6 in /anaconda/envs/azureml_py310_sdkv2/lib/python3.10/site-packages (from SecretStorage<4.0.0->azureml-core~=1.48.0->azureml-train-core~=1.48.0->azureml.train) (0.8.0)\nRequirement already satisfied: backports.weakref in /anaconda/envs/azureml_py310_sdkv2/lib/python3.10/site-packages (from backports.tempfile->azureml-core~=1.48.0->azureml-train-core~=1.48.0->azureml.train) (1.0.post1)\nRequirement already satisfied: pycparser in /anaconda/envs/azureml_py310_sdkv2/lib/python3.10/site-packages (from cffi>=1.12->cryptography!=1.9,!=2.0.*,!=2.1.*,!=2.2.*,<41->azureml-core~=1.48.0->azureml-train-core~=1.48.0->azureml.train) (2.21)\nRequirement already satisfied: oauthlib>=3.0.0 in /anaconda/envs/azureml_py310_sdkv2/lib/python3.10/site-packages (from requests-oauthlib>=0.5.0->msrest<=0.7.1,>=0.5.1->azureml-core~=1.48.0->azureml-train-core~=1.48.0->azureml.train) (3.2.2)\nInstalling collected packages: applicationinsights, azureml-train-restclients-hyperdrive, azureml-core, azureml-telemetry, azureml-train-core, azureml.train\n  Attempting uninstall: azureml-core\n    Found existing installation: azureml-core 1.47.0\n    Uninstalling azureml-core-1.47.0:\n      Successfully uninstalled azureml-core-1.47.0\nSuccessfully installed applicationinsights-0.11.10 azureml-core-1.48.0 azureml-telemetry-1.48.0 azureml-train-core-1.48.0 azureml-train-restclients-hyperdrive-1.48.0 azureml.train-1.48.0\nNote: you may need to restart the kernel to use updated packages.\n"
        }
      ],
      "execution_count": 7,
      "metadata": {
        "jupyter": {
          "source_hidden": false,
          "outputs_hidden": false
        },
        "nteract": {
          "transient": {
            "deleting": false
          }
        },
        "gather": {
          "logged": 1674836112076
        }
      }
    },
    {
      "cell_type": "code",
      "source": [
        "%%writefile hp_train.py\r\n",
        "from sklearn.svm import SVC\r\n",
        "import argparse\r\n",
        "import numpy as np\r\n",
        "from sklearn.metrics import mean_squared_error\r\n",
        "import joblib\r\n",
        "from sklearn.model_selection import train_test_split\r\n",
        "import pandas as pd\r\n",
        "from azureml.core.run import Run\r\n",
        "from azureml.data.dataset_factory import TabularDatasetFactory\r\n",
        "\r\n",
        "def clean_data(data):\r\n",
        "    input_cols = np.arange(1,14,1)\r\n",
        "    output_cols = [14]\r\n",
        "    x_df = data[data.columns[input_cols]]\r\n",
        "    y_df = data[data.columns[output_cols]]\r\n",
        "    return x_df, y_df\r\n",
        "\r\n",
        "def main():\r\n",
        "    # Add arguments to script\r\n",
        "    parser = argparse.ArgumentParser()\r\n",
        "\r\n",
        "    parser.add_argument('--C', type=float, default=1.0, help=\"Regularization Parameter\")\r\n",
        "    parser.add_argument('--kernel', type=str, default='rbf', help=\"Kernel Type\")\r\n",
        "    parser.add_argument('--degree', type=int, default=3, help=\"Degree of polynomial function, only applicable if kernel='poly'\")\r\n",
        "    parser.add_argument('--gamma', type=float, default='0.1', help=\"Kernel Coefficient\")\r\n",
        "\r\n",
        "    args = parser.parse_args()\r\n",
        "\r\n",
        "    run = Run.get_context()\r\n",
        "\r\n",
        "    run.log(\"Regularization Parameter:\", np.float(args.C))\r\n",
        "    run.log(\"Kernel:\", str(args.kernel))\r\n",
        "    run.log(\"Degree:\", np.int(args.degree))\r\n",
        "    run.log(\"Gamma:\", np.float(args.gamma))\r\n",
        "\r\n",
        "    model = SVC(C=args.C, kernel=args.kernel, degree=args.degree, gamma=args.gamma).fit(x_train, y_train)\r\n",
        "\r\n",
        "    wAUC = model.roc_auc_score(x_test, y_test, average='weighted')\r\n",
        "    run.log(\"weighted AUC\", np.float(wAUC))\r\n",
        "\r\n",
        "if __name__ == '__main__':\r\n",
        "    #Had to relocate my user code here otherwise Job would not start\r\n",
        "\r\n",
        "    ds = pd.read_csv('salary_cleaned.csv')\r\n",
        "    \r\n",
        "    x, y = clean_data(ds)\r\n",
        "\r\n",
        "    x_train, x_test, y_train, y_test = train_test_split(x, y, test_size=0.25, random_state=101)\r\n",
        "\r\n",
        "    main()"
      ],
      "outputs": [
        {
          "output_type": "stream",
          "name": "stdout",
          "text": "Writing hp_train.py\n"
        }
      ],
      "execution_count": 26,
      "metadata": {
        "gather": {
          "logged": 1674837586023
        }
      }
    },
    {
      "cell_type": "code",
      "source": [
        "import argparse\r\n",
        "parser = argparse.ArgumentParser()\r\n",
        "\r\n",
        "parser.add_argument('--C', type=float, default=1.0, help=\"Regularization Parameter\")\r\n",
        "parser.add_argument('--kernel', type=str, default='rbf', help=\"Kernel Type\")\r\n",
        "parser.add_argument('--degree', type=int, default=3, help=\"Degree of polynomial function\")\r\n",
        "\r\n",
        "args = parser.parse_args()"
      ],
      "outputs": [
        {
          "output_type": "execute_result",
          "execution_count": 27,
          "data": {
            "text/plain": "_StoreAction(option_strings=['--C'], dest='C', nargs=None, const=None, default=1.0, type=<class 'float'>, choices=None, required=False, help='Regularization Parameter', metavar=None)"
          },
          "metadata": {}
        },
        {
          "output_type": "execute_result",
          "execution_count": 27,
          "data": {
            "text/plain": "_StoreAction(option_strings=['--kernel'], dest='kernel', nargs=None, const=None, default='rbf', type=<class 'str'>, choices=None, required=False, help='Kernel Type', metavar=None)"
          },
          "metadata": {}
        },
        {
          "output_type": "execute_result",
          "execution_count": 27,
          "data": {
            "text/plain": "_StoreAction(option_strings=['--degree'], dest='degree', nargs=None, const=None, default=3, type=<class 'int'>, choices=None, required=False, help='Degree of polynomial function', metavar=None)"
          },
          "metadata": {}
        },
        {
          "output_type": "stream",
          "name": "stderr",
          "text": "usage: ipykernel_launcher.py [-h] [--C C] [--kernel KERNEL] [--degree DEGREE]\nipykernel_launcher.py: error: unrecognized arguments: -f /home/azureuser/.local/share/jupyter/runtime/kernel-fa4155c5-710c-406e-aac4-d72324ef9b49.json\n"
        },
        {
          "output_type": "error",
          "ename": "SystemExit",
          "evalue": "2",
          "traceback": [
            "An exception has occurred, use %tb to see the full traceback.\n",
            "\u001b[0;31mSystemExit\u001b[0m\u001b[0;31m:\u001b[0m 2\n"
          ]
        }
      ],
      "execution_count": 27,
      "metadata": {
        "jupyter": {
          "source_hidden": false,
          "outputs_hidden": false
        },
        "nteract": {
          "transient": {
            "deleting": false
          }
        },
        "gather": {
          "logged": 1674846728745
        }
      }
    },
    {
      "cell_type": "code",
      "source": [],
      "outputs": [],
      "execution_count": null,
      "metadata": {
        "jupyter": {
          "source_hidden": false,
          "outputs_hidden": false
        },
        "nteract": {
          "transient": {
            "deleting": false
          }
        }
      }
    }
  ],
  "metadata": {
    "kernelspec": {
      "name": "python310-sdkv2",
      "language": "python",
      "display_name": "Python 3.10 - SDK V2"
    },
    "language_info": {
      "name": "python",
      "version": "3.10.6",
      "mimetype": "text/x-python",
      "codemirror_mode": {
        "name": "ipython",
        "version": 3
      },
      "pygments_lexer": "ipython3",
      "nbconvert_exporter": "python",
      "file_extension": ".py"
    },
    "kernel_info": {
      "name": "python310-sdkv2"
    },
    "microsoft": {
      "host": {
        "AzureML": {
          "notebookHasBeenCompleted": true
        }
      }
    },
    "nteract": {
      "version": "nteract-front-end@1.0.0"
    }
  },
  "nbformat": 4,
  "nbformat_minor": 2
}